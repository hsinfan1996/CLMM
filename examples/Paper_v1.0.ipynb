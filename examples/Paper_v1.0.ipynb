{
 "cells": [
  {
   "cell_type": "markdown",
   "metadata": {},
   "source": [
    "# API demonstration for paper of v1.0\n",
    "\n",
    "_the LSST-DESC CLMM team_\n",
    "\n",
    "\n",
    "This notebook demonstrates how to use `clmm` to estimate a WL halo mass from observations of a galaxy cluster when source galaxies follow a given distribution (the Chang. (2013) implemented in `clmm`). It uses several functionalities of the support `mock_data` module to produce mock datasets.\n",
    "\n",
    "- Setting things up, with the proper imports.\n",
    "- Computing the binned reduced tangential shear profile, for the 2 datasets, using logarithmic binning.\n",
    "- Setting up the \"single source plane\" model (model1) and a model accounting for the redshift distribution (model2). As already seen in Example2, model1 will yield a bias mass reconstruction. Accounting for the redshift distribution in the model (model2) solves that issue. \n",
    "- Perform a simple fit using `scipy.optimize.curve_fit` and visualize the results."
   ]
  },
  {
   "cell_type": "markdown",
   "metadata": {},
   "source": [
    "## Setup"
   ]
  },
  {
   "cell_type": "markdown",
   "metadata": {},
   "source": [
    "First, we import some standard packages."
   ]
  },
  {
   "cell_type": "code",
   "execution_count": null,
   "metadata": {},
   "outputs": [],
   "source": [
    "import matplotlib.pyplot as plt\n",
    "import numpy as np\n",
    "from astropy import units\n",
    "plt.rcParams['font.family'] = ['gothambook','gotham','gotham-book','serif']"
   ]
  },
  {
   "cell_type": "markdown",
   "metadata": {},
   "source": [
    "Next, we import `clmm`'s core modules."
   ]
  },
  {
   "cell_type": "code",
   "execution_count": null,
   "metadata": {},
   "outputs": [],
   "source": [
    "import clmm\n",
    "import clmm.dataops as da\n",
    "import clmm.galaxycluster as gc\n",
    "import clmm.modeling as modeling\n",
    "from clmm import Cosmology\n",
    "clmm.__version__"
   ]
  },
  {
   "cell_type": "markdown",
   "metadata": {},
   "source": [
    "## 1. Measuring shear profiles "
   ]
  },
  {
   "cell_type": "markdown",
   "metadata": {},
   "source": [
    "### 1.1. Making mock data for cluster members"
   ]
  },
  {
   "cell_type": "code",
   "execution_count": null,
   "metadata": {},
   "outputs": [],
   "source": [
    "# Import mock module\n",
    "import sys\n",
    "sys.path.append('./support/')\n",
    "import mock_data as mock\n",
    "from sampler import fitters\n",
    "np.random.seed(11) # For reproducibility\n",
    "\n",
    "# Set cosmology of mock data\n",
    "cosmo = Cosmology(H0=70.0, Omega_dm0=0.27-0.045, Omega_b0=0.045, Omega_k0=0.0)\n",
    "\n",
    "# Cluster info\n",
    "cluster_m = 1.e15 # Cluster mass - (M200_m) [Msun]\n",
    "concentration = 4  # Cluster concentration\n",
    "cluster_z = 0.4 # Cluster redshift\n",
    "cluster_ra = 0. # Cluster Ra in deg\n",
    "cluster_dec = 0. # Cluster Dec in deg\n",
    "\n",
    "# Make mock galaxies\n",
    "mock_galaxies = mock.generate_galaxy_catalog(\n",
    "    cluster_m=cluster_m, cluster_z=cluster_z, cluster_c=concentration, # Cluster data\n",
    "    cosmo=cosmo, # Cosmology object\n",
    "    zsrc='chang13', # Galaxy redshift distribution, \n",
    "    zsrc_min=0.5, # Minimum redshift of the galaxies\n",
    "    shapenoise=0.05, # Gaussian shape noise to the galaxy shapes\n",
    "    photoz_sigma_unscaled=0.05, # Photo-z errors to source redshifts\n",
    "    ngals=10000 # Number of galaxies to be generated\n",
    ")['ra', 'dec', 'e1', 'e2', 'z', 'ztrue', 'pzbins', 'pzpdf', 'id']#['ra, dec, e1, e2, z, ztrue, pzbins, pzpdf, id']\n",
    "print(f'This results in a table with the columns: {\", \".join(mock_galaxies.colnames)}')\n",
    "\n",
    "# Put galaxy values on arrays\n",
    "gal_ra = mock_galaxies['ra'] # Galaxies Ra in Deg\n",
    "gal_dec = mock_galaxies['dec'] # Galaxies Dec in Deg\n",
    "gal_e1 = mock_galaxies['e1'] # Galaxies elipticipy 1\n",
    "gal_e2 = mock_galaxies['e2'] # Galaxies elipticipy 2\n",
    "gal_z = mock_galaxies['z'] # Galaxies observed redshift\n",
    "gal_ztrue = mock_galaxies['ztrue'] # Galaxies true redshift\n",
    "gal_pzbins = mock_galaxies['pzbins'] # Galaxies P(z) bins  \n",
    "gal_pzpdf = mock_galaxies['pzpdf'] # Galaxies P(z)\n",
    "gal_id = mock_galaxies['id'] # Galaxies ID"
   ]
  },
  {
   "cell_type": "markdown",
   "metadata": {},
   "source": [
    "### 1.2. Measure profile with explicit functions"
   ]
  },
  {
   "cell_type": "code",
   "execution_count": null,
   "metadata": {},
   "outputs": [],
   "source": [
    "# Convert elipticities into shears\n",
    "gal_ang_dist, gal_gt, gal_gx = da.compute_tangential_and_cross_components(cluster_ra, cluster_dec,\n",
    "                                                                          gal_ra, gal_dec,\n",
    "                                                                          gal_e1, gal_e2,\n",
    "                                                                          geometry=\"flat\")\n",
    "\n",
    "# Measure profile\n",
    "profile = da.make_radial_profile([gal_gt, gal_gx, gal_z],\n",
    "                                 gal_ang_dist, \"radians\", \"Mpc\",\n",
    "                                 bins=da.make_bins(0.01, 3.7, 50),\n",
    "                                 cosmo=cosmo,\n",
    "                                 z_lens=cluster_z,\n",
    "                                 include_empty_bins=False)\n",
    "print(f'Profile table has columns: {\", \".join(profile.colnames)},')\n",
    "print('where p_(0, 1, 2) = (gt, gx, z)')"
   ]
  },
  {
   "cell_type": "markdown",
   "metadata": {},
   "source": [
    "### 1.3. Measure profile with GalaxyCluster object"
   ]
  },
  {
   "cell_type": "code",
   "execution_count": null,
   "metadata": {},
   "outputs": [],
   "source": [
    "# Create a GCData with the galaxies\n",
    "galaxies = clmm.GCData()\n",
    "galaxies['ra'] = gal_ra\n",
    "galaxies['dec'] = gal_dec\n",
    "galaxies['e1'] = gal_e1\n",
    "galaxies['e2'] = gal_e2\n",
    "galaxies['z'] = gal_z\n",
    "galaxies['ztrue'] = gal_ztrue\n",
    "galaxies['pzbins'] = gal_pzbins\n",
    "galaxies['pzpdf'] = gal_pzpdf\n",
    "galaxies['id'] = gal_id\n",
    "\n",
    "# Create a GalaxyCluster\n",
    "cluster = clmm.GalaxyCluster(\"Name of cluster\", cluster_ra, cluster_dec,\n",
    "                                   cluster_z, noisy_data)\n",
    "\n",
    "# Convert elipticities into shears for the members\n",
    "cluster.compute_tangential_and_cross_components(geometry=\"flat\")\n",
    "print(cluster.galcat.colnames)\n",
    "\n",
    "# Measure profile and add profile table to the cluster\n",
    "cluster.make_radial_profile(bins=da.make_bins(0.01, 3.7, 50),\n",
    "                            bin_units=\"Mpc\",\n",
    "                            cosmo=cosmo,\n",
    "                            include_empty_bins=False)\n",
    "print(cluster.profile.colnames)"
   ]
  },
  {
   "cell_type": "markdown",
   "metadata": {},
   "source": [
    "## 2. Theoretical prediction"
   ]
  },
  {
   "cell_type": "code",
   "execution_count": null,
   "metadata": {},
   "outputs": [],
   "source": []
  },
  {
   "cell_type": "code",
   "execution_count": null,
   "metadata": {},
   "outputs": [],
   "source": []
  },
  {
   "cell_type": "code",
   "execution_count": null,
   "metadata": {},
   "outputs": [],
   "source": []
  },
  {
   "cell_type": "code",
   "execution_count": null,
   "metadata": {},
   "outputs": [],
   "source": []
  },
  {
   "cell_type": "code",
   "execution_count": null,
   "metadata": {},
   "outputs": [],
   "source": []
  },
  {
   "cell_type": "code",
   "execution_count": null,
   "metadata": {},
   "outputs": [],
   "source": []
  },
  {
   "cell_type": "code",
   "execution_count": null,
   "metadata": {},
   "outputs": [],
   "source": []
  },
  {
   "cell_type": "code",
   "execution_count": null,
   "metadata": {},
   "outputs": [],
   "source": [
    "plt.figure(figsize=(7,5))\n",
    "plt.hist(mock_galaxies['z'], density = True, bins = 50)\n",
    "plt.axvline(x = cluster_z, color='orange', label = 'cluster redshift')\n",
    "plt.xlabel(r'$z_{src}$', fontsize = 20)\n",
    "plt.ylabel(r'$N(z$)', fontsize = 20)\n",
    "plt.legend()\n",
    "plt.xlim(0,5)"
   ]
  },
  {
   "cell_type": "markdown",
   "metadata": {},
   "source": [
    "## Passing data to CLMM objects"
   ]
  },
  {
   "cell_type": "code",
   "execution_count": null,
   "metadata": {},
   "outputs": [],
   "source": [
    "# create a galaxy catalog with GCData class\n",
    "galaxies = GCData()"
   ]
  },
  {
   "cell_type": "markdown",
   "metadata": {},
   "source": [
    "The galaxy catalogs are converted to a `clmm.GalaxyCluster` object and may be saved for later use."
   ]
  },
  {
   "cell_type": "code",
   "execution_count": null,
   "metadata": {},
   "outputs": [],
   "source": [
    "cluster_id = \"CL_ideal\"\n",
    "gc_object = clmm.GalaxyCluster(cluster_id, cluster_ra, cluster_dec,\n",
    "                                  cluster_z, ideal_data)\n",
    "gc_object.save('ideal_GC.pkl')\n",
    "\n",
    "cluster_id = \"CL_noisy\"\n",
    "gc_object = clmm.GalaxyCluster(cluster_id, cluster_ra, cluster_dec,\n",
    "                                   cluster_z, noisy_data)\n",
    "gc_object.save('noisy_GC.pkl')"
   ]
  },
  {
   "cell_type": "markdown",
   "metadata": {},
   "source": [
    "Any saved clmm.GalaxyCluster object may be read in for analysis."
   ]
  },
  {
   "cell_type": "code",
   "execution_count": null,
   "metadata": {},
   "outputs": [],
   "source": [
    "cl_ideal = clmm.GalaxyCluster.load('ideal_GC.pkl') # background galaxies distributed according to Chang et al. (2013)\n",
    "cl_noisy = clmm.GalaxyCluster.load('noisy_GC.pkl') # Chang et al. (2013) + shapenoise + photozerror"
   ]
  },
  {
   "cell_type": "markdown",
   "metadata": {},
   "source": [
    "#### Redshift of galaxies generated by mock data are distributed following the Chang. (2013) redshift distribution."
   ]
  },
  {
   "cell_type": "markdown",
   "metadata": {},
   "source": [
    "## Deriving observables"
   ]
  },
  {
   "cell_type": "markdown",
   "metadata": {},
   "source": [
    "## Create the reduced tangential shear models"
   ]
  },
  {
   "cell_type": "markdown",
   "metadata": {},
   "source": [
    "We consider two options:\n",
    "- First, the naive and *wrong* approach: the reduced tangential shear in a given radial bin $j$ is given by $g_t(\\theta_j, \\langle z_s \\rangle)$, where $\\langle z_s \\rangle$ is the average redshift in the bin. In that case, the corresponding model is simply given by the fucntion below:"
   ]
  },
  {
   "cell_type": "code",
   "execution_count": null,
   "metadata": {},
   "outputs": [],
   "source": [
    "def model_reduced_tangential_shear_singlez(r, logm, z_src):\n",
    "    m = 10.**logm\n",
    "    gt_model = clmm.predict_reduced_tangential_shear(r,\n",
    "                                                     m, concentration,\n",
    "                                                     cluster_z, z_src, cosmo,\n",
    "                                                     delta_mdef=200,\n",
    "                                                     halo_profile_model='nfw')    \n",
    "    return gt_model"
   ]
  },
  {
   "cell_type": "markdown",
   "metadata": {},
   "source": [
    "- Second, the reduced tangential shear in a given radial bin accounts properly for the redshift distribution in the bin as $\\langle g_t(\\theta_j, z_s)\\rangle \\neq g_t(\\theta_j, \\langle z_s \\rangle$). Formally, the reduced tangential shear that corresponds to a continuous distribution of source galaxy redshift $N(z)$ can be expressed as:"
   ]
  },
  {
   "cell_type": "markdown",
   "metadata": {},
   "source": [
    "$$\n",
    "g_t(\\theta) = \\langle g_t(\\theta, z_s)\\rangle_{z_{cluster}} = \\int_{z_{cluster}}^{+\\infty}dz_sN(z_s)g_t(\\theta, z_s)\n",
    "$$"
   ]
  },
  {
   "cell_type": "markdown",
   "metadata": {},
   "source": [
    "If the inidividual redshifts of the background galaxies are known, we can directly build a model based on data, such that in the bin $j$: "
   ]
  },
  {
   "cell_type": "markdown",
   "metadata": {},
   "source": [
    "$$\n",
    "g_t(\\theta_j) = \\frac{1}{N(\\theta_j)}\\sum\\limits_{i = 1}^{N(\\theta)}g_t(\\theta_j, z_i)\n",
    "$$"
   ]
  },
  {
   "cell_type": "markdown",
   "metadata": {},
   "source": [
    "where $N(\\theta_j)$ is the number of galaxies in bin $j$. The corresponding model is given below."
   ]
  },
  {
   "cell_type": "code",
   "execution_count": null,
   "metadata": {},
   "outputs": [],
   "source": [
    "def model_reduced_tangential_shear_zdistrib(radius, logm, data, catalog, profile): \n",
    "    m = 10**logm\n",
    "    gt_model = []\n",
    "    for i in range(len(radius)):\n",
    "        \n",
    "        r = profile['radius'][i]\n",
    "        galist = profile['gal_id'][i]\n",
    "        z_list = catalog.galcat['z'][galist]\n",
    "        shear = clmm.predict_reduced_tangential_shear(r, m, concentration, \n",
    "                                                      cluster_z, z_list, cosmo, delta_mdef=200, \n",
    "                                                      halo_profile_model='nfw')\n",
    "        gt_model.append(np.mean(shear))\n",
    "        \n",
    "    return gt_model"
   ]
  },
  {
   "cell_type": "markdown",
   "metadata": {},
   "source": [
    "#### Before fitting, let's first vizualise these models using the known true mass"
   ]
  },
  {
   "cell_type": "code",
   "execution_count": null,
   "metadata": {},
   "outputs": [],
   "source": [
    "logm = np.log10(cluster_m)\n",
    "r = cl_ideal.profile['radius']\n",
    "gt_model_ideal_singlez = model_reduced_tangential_shear_singlez(r, logm, cl_ideal.profile['z'])\n",
    "gt_model_ideal_zdistrib = model_reduced_tangential_shear_zdistrib(r,logm, ideal_data, cl_ideal, cl_ideal.profile)\n",
    "gt_model_noisy_singlez = model_reduced_tangential_shear_singlez(r,logm, cl_noisy.profile['z'])\n",
    "gt_model_noisy_zdistrib = model_reduced_tangential_shear_zdistrib(r,logm, noisy_data, cl_noisy, cl_noisy.profile)"
   ]
  },
  {
   "cell_type": "code",
   "execution_count": null,
   "metadata": {},
   "outputs": [],
   "source": [
    "plt.figure(figsize=(20,8))\n",
    "\n",
    "plt.subplot(1,2,1)\n",
    "\n",
    "plt.title('ideal data', fontsize=20)\n",
    "plt.errorbar(r,cl_ideal.profile['gt'],cl_ideal.profile['gt_err'],c='k',linestyle='', \n",
    "             marker='o', label=r'ideal data, $M_{input}$ = %.2e Msun' % cluster_m)\n",
    "plt.loglog(r,gt_model_ideal_zdistrib,'b',  label=r'model w/ zdistrib, $M_{input}$ = %.2e Msun' % cluster_m)\n",
    "plt.loglog(r,gt_model_ideal_singlez,'-y',  label=r'model w/o zdistrib, $M_{input}$ = %.2e Msun' % cluster_m)\n",
    "plt.xlabel('r [Mpc]', fontsize = 20)\n",
    "plt.ylabel(r'$g_t$', fontsize = 20)\n",
    "plt.xlim(min(cl_ideal.profile['radius']), max(cl_ideal.profile['radius']))\n",
    "plt.legend(fontsize = 15)\n",
    "\n",
    "plt.subplot(1,2,2)\n",
    "\n",
    "plt.title('noisy data', fontsize=20)\n",
    "plt.errorbar(r,cl_noisy.profile['gt'],cl_noisy.profile['gt_err'],c='k',linestyle='', \n",
    "             marker='o',label=r'noisy data, $M_{input}$ = %.2e Msun' % cluster_m)\n",
    "plt.loglog(r,gt_model_noisy_zdistrib,'-b', label=r'model w/ zdistrib, $M_{input}$ = %.2e Msun' % cluster_m)\n",
    "plt.loglog(r,gt_model_noisy_singlez,'-y', label=r'model w/o zdistrib, $M_{input}$ = %.2e Msun' % cluster_m)\n",
    "plt.xlabel('r [Mpc]', fontsize = 20)\n",
    "plt.ylabel(r'$g_t$', fontsize = 20)\n",
    "plt.xlim(min(cl_noisy.profile['radius']), max(cl_noisy.profile['radius']))\n",
    "plt.legend(fontsize = 15)"
   ]
  },
  {
   "cell_type": "markdown",
   "metadata": {},
   "source": [
    "The naive model that uses the average redshift in the bin clearly does not give the right description of the ideal data (left panel), and will yield biased mass results if used for fitting (see below). For ideal data, the model that accounts for the redshift distribution is, by construction, an excellent description of the data (solid blue line). The same is true for noisy data (right panel), although the noise make the naive model appear \"less biased\"."
   ]
  },
  {
   "cell_type": "markdown",
   "metadata": {},
   "source": [
    "## Mass fitting"
   ]
  },
  {
   "cell_type": "markdown",
   "metadata": {},
   "source": [
    "We estimate the best-fit mass using `scipy.optimize.curve_fit`.  We compare estimated mass for noisy and ideal data, using both models described above (naive with average redshift or the model taking into account the redshift distribution). The choice of fitting $\\log_{10} M$ instead of $M$ lowers the range of pre-defined fitting bounds from several order of magnitude for the mass to unity. From the associated error $\\Delta (\\log_{10}M)$ we calculate the error to mass as $\\Delta M = M_{fit}\\log(10)\\Delta (\\log_{10}M)$."
   ]
  },
  {
   "cell_type": "code",
   "execution_count": null,
   "metadata": {},
   "outputs": [],
   "source": [
    "popt,pcov = fitters['curve_fit'](lambda r, logm:model_reduced_tangential_shear_zdistrib(r, logm, ideal_data, cl_ideal, cl_ideal.profile), \n",
    "                        cl_ideal.profile['radius'], \n",
    "                        cl_ideal.profile['gt'], \n",
    "                        cl_ideal.profile['gt_err'], bounds=[10.,16.])\n",
    "\n",
    "m_est_ideal_zdistrib = 10.**popt[0]\n",
    "m_est_err_ideal_zdistrib =  m_est_ideal_zdistrib * np.sqrt(pcov[0][0]) * np.log(10) \n",
    "\n",
    "popt,pcov = fitters['curve_fit'](lambda r, logm:model_reduced_tangential_shear_singlez(r, logm, cl_ideal.profile['z']), \n",
    "                        cl_ideal.profile['radius'], \n",
    "                        cl_ideal.profile['gt'], \n",
    "                        cl_ideal.profile['gt_err'], bounds=[10.,17.])\n",
    "\n",
    "m_est_ideal_singlez = 10.**popt[0]\n",
    "m_est_err_ideal_singlez =  m_est_ideal_singlez * np.sqrt(pcov[0][0]) * np.log(10) \n",
    "\n",
    "\n",
    "popt,pcov = fitters['curve_fit'](lambda r, logm:model_reduced_tangential_shear_zdistrib(r, logm, noisy_data, cl_noisy, cl_noisy.profile), \n",
    "                        cl_noisy.profile['radius'], \n",
    "                        cl_noisy.profile['gt'], \n",
    "                        cl_noisy.profile['gt_err'], bounds=[10.,16.])\n",
    "\n",
    "m_est_noisy_zdistrib = 10.**popt[0]\n",
    "m_est_err_noisy_zdistrib =  m_est_noisy_zdistrib * np.sqrt(pcov[0][0]) * np.log(10) \n",
    "\n",
    "popt,pcov = fitters['curve_fit'](lambda r, logm:model_reduced_tangential_shear_singlez(r, logm, cl_noisy.profile['z']), \n",
    "                        cl_noisy.profile['radius'], \n",
    "                        cl_noisy.profile['gt'], \n",
    "                        cl_noisy.profile['gt_err'], bounds=[10.,16.])\n",
    "\n",
    "m_est_noisy_singlez = 10.**popt[0]\n",
    "m_est_err_noisy_singlez =  m_est_noisy_singlez * np.sqrt(pcov[0][0]) * np.log(10) \n"
   ]
  },
  {
   "cell_type": "code",
   "execution_count": null,
   "metadata": {},
   "outputs": [],
   "source": [
    "print(f'The input mass = {cluster_m:.2e} Msun\\n')\n",
    "\n",
    "print(\"Without accounting for the redshift distribution in the model\\n\")\n",
    "print(f'Best fit mass for ideal data = {m_est_ideal_singlez:.2e} +/- {m_est_err_ideal_singlez:.2e} Msun')\n",
    "print(f'Best fit mass for noisy data = {m_est_noisy_singlez:.2e} +/- {m_est_err_noisy_singlez:.2e} Msun\\n')\n",
    "\n",
    "print(\"Accounting for the redshift distribution in the model\\n\")\n",
    "print(f'Best fit mass for ideal data = {m_est_ideal_zdistrib:.2e} +/- {m_est_err_ideal_zdistrib:.2e} Msun')\n",
    "print(f'Best fit mass for noisy data = {m_est_noisy_zdistrib:.2e} +/- {m_est_err_noisy_zdistrib:.2e} Msun')"
   ]
  },
  {
   "cell_type": "markdown",
   "metadata": {},
   "source": [
    "As expected, the reconstructed mass is biased when the redshift distribution is not accounted for in the model"
   ]
  },
  {
   "cell_type": "markdown",
   "metadata": {},
   "source": [
    "# Visualization of the results"
   ]
  },
  {
   "cell_type": "markdown",
   "metadata": {},
   "source": [
    "For visualization purpose, we calculate the reduced tangential shear predicted by the model with estimated masses for noisy and ideal data."
   ]
  },
  {
   "cell_type": "code",
   "execution_count": null,
   "metadata": {},
   "outputs": [],
   "source": [
    "gt_est_ideal_zdistrib = model_reduced_tangential_shear_zdistrib(r,np.log(m_est_ideal_zdistrib)/np.log(10), ideal_data, cl_ideal, cl_ideal.profile)\n",
    "gt_est_noisy_zdistrib = model_reduced_tangential_shear_zdistrib(r,np.log(m_est_noisy_zdistrib)/np.log(10), noisy_data, cl_noisy, cl_noisy.profile)\n",
    "gt_est_ideal_singlez = model_reduced_tangential_shear_singlez(r,np.log(m_est_ideal_singlez)/np.log(10),  cl_ideal.profile['z'])\n",
    "gt_est_noisy_singlez = model_reduced_tangential_shear_singlez(r,np.log(m_est_noisy_singlez)/np.log(10),  cl_noisy.profile['z'])"
   ]
  },
  {
   "cell_type": "markdown",
   "metadata": {},
   "source": [
    "We compare to tangential shear obtained with theoretical mass. We plot the reduced tangential shear models first when redshift distribution is accounted for in the model then for the naive approach, with respective best-fit masses."
   ]
  },
  {
   "cell_type": "code",
   "execution_count": null,
   "metadata": {},
   "outputs": [],
   "source": [
    "plt.figure(figsize=( 20 , 6 ))\n",
    "plt.subplot( 1 , 2 , 1 )\n",
    "plt.title(r'tangential shear $g_t$ (ideal data)', fontsize=20)\n",
    "plt.errorbar(r,cl_ideal.profile['gt'],cl_ideal.profile['gt_err'],c='k',linestyle='', \n",
    "             marker='o', label=r'ideal data, $M_{input}$ = %.1e Msun' % cluster_m)\n",
    "plt.loglog(r,gt_est_ideal_zdistrib,'-b', \n",
    "           label=fr'model w/ zdistrib, M_fit = {m_est_ideal_zdistrib:.2e} $\\pm$ {m_est_err_ideal_zdistrib:.2e} Msun')\n",
    "plt.loglog(r,gt_est_ideal_singlez,'-y',\\\n",
    "           label=fr'model w/o zdistrib, M_fit = {m_est_ideal_singlez:.2e} $\\pm$ {m_est_err_ideal_singlez:.2e} Msun')\n",
    "\n",
    "plt.xlabel('r [Mpc]', fontsize = 20)\n",
    "plt.ylabel(r'$g_t$', fontsize = 20)\n",
    "plt.xlim(min(cl_ideal.profile['radius']), max(cl_ideal.profile['radius']))\n",
    "plt.legend(fontsize = 15)\n",
    "\n",
    "\n",
    "plt.subplot( 1 , 2 , 2 )\n",
    "plt.title(r'tangential shear $g_t$ (noisy data)', fontsize=20)\n",
    "plt.errorbar(r,cl_noisy.profile['gt'],cl_noisy.profile['gt_err'],c='k',linestyle='', marker='o', label=r'noisy data, $M_{input}$ = %.1e Msun' % cluster_m)\n",
    "#plt.loglog(r,gt_model_noisy,'-r',  label='model, $M_{input}$ = %.3e Msun' % cluster_m)\n",
    "plt.loglog(r,gt_est_noisy_zdistrib,'-b', \n",
    "           label=fr'model w/ zdistrib, M_fit = {m_est_noisy_zdistrib:.2e} $\\pm$ {m_est_err_noisy_zdistrib:.2e} Msun')\n",
    "plt.loglog(r,gt_est_noisy_singlez,'-y', \n",
    "           label=fr'model w/o zdistrib, M_fit = {m_est_noisy_singlez:.2e} $\\pm$ {m_est_err_noisy_singlez:.2e} Msun')\n",
    "\n",
    "plt.xlabel('r [Mpc]', fontsize = 20)\n",
    "plt.ylabel(r'$g_t$', fontsize = 20)\n",
    "plt.xlim(min(cl_noisy.profile['radius']), max(cl_noisy.profile['radius']))\n",
    "plt.legend(fontsize = 15)"
   ]
  },
  {
   "cell_type": "markdown",
   "metadata": {},
   "source": [
    "We note that the reconstruction of mass is biaised when redshift distribution is not accounted for the model, and is smaller compared to input mass. It is associated to the increase of the reduced tangential shear with the source redshift $z_s$ for a given radius $r$. "
   ]
  }
 ],
 "metadata": {
  "kernelspec": {
   "display_name": "clmm_hack",
   "language": "python",
   "name": "clmm_hack"
  },
  "language_info": {
   "codemirror_mode": {
    "name": "ipython",
    "version": 3
   },
   "file_extension": ".py",
   "mimetype": "text/x-python",
   "name": "python",
   "nbconvert_exporter": "python",
   "pygments_lexer": "ipython3",
   "version": "3.9.0"
  }
 },
 "nbformat": 4,
 "nbformat_minor": 4
}
