{
 "cells": [
  {
   "cell_type": "markdown",
   "metadata": {},
   "source": [
    "# API demonstration for paper of v1.0\n",
    "\n",
    "_the LSST-DESC CLMM team_\n",
    "\n",
    "\n",
    "This notebook demonstrates how to use `clmm` to estimate a WL halo mass from observations of a galaxy cluster when source galaxies follow a given distribution (the Chang. (2013) implemented in `clmm`). It uses several functionalities of the support `mock_data` module to produce mock datasets.\n",
    "\n",
    "- Setting things up, with the proper imports.\n",
    "- Computing the binned reduced tangential shear profile, for the 2 datasets, using logarithmic binning.\n",
    "- Setting up the \"single source plane\" model (model1) and a model accounting for the redshift distribution (model2). As already seen in Example2, model1 will yield a bias mass reconstruction. Accounting for the redshift distribution in the model (model2) solves that issue. \n",
    "- Perform a simple fit using `scipy.optimize.curve_fit` and visualize the results."
   ]
  },
  {
   "cell_type": "markdown",
   "metadata": {},
   "source": [
    "## Setup"
   ]
  },
  {
   "cell_type": "markdown",
   "metadata": {},
   "source": [
    "First, we import some standard packages."
   ]
  },
  {
   "cell_type": "code",
   "execution_count": null,
   "metadata": {},
   "outputs": [],
   "source": [
    "import matplotlib.pyplot as plt\n",
    "import numpy as np\n",
    "from astropy import units\n",
    "plt.rcParams['font.family'] = ['gothambook','gotham','gotham-book','serif']"
   ]
  },
  {
   "cell_type": "markdown",
   "metadata": {},
   "source": [
    "Next, we import `clmm`'s core modules."
   ]
  },
  {
   "cell_type": "code",
   "execution_count": null,
   "metadata": {},
   "outputs": [],
   "source": [
    "import clmm\n",
    "import clmm.dataops as da\n",
    "import clmm.galaxycluster as gc\n",
    "import clmm.modeling as modeling\n",
    "from clmm import Cosmology\n",
    "clmm.__version__"
   ]
  },
  {
   "cell_type": "markdown",
   "metadata": {},
   "source": [
    "## 1. Measuring shear profiles "
   ]
  },
  {
   "cell_type": "markdown",
   "metadata": {},
   "source": [
    "### 1.1. Making mock data for cluster members"
   ]
  },
  {
   "cell_type": "code",
   "execution_count": null,
   "metadata": {},
   "outputs": [],
   "source": [
    "# Import mock module\n",
    "import sys\n",
    "sys.path.append('./support/')\n",
    "import mock_data as mock\n",
    "np.random.seed(11) # For reproducibility\n",
    "\n",
    "# Set cosmology of mock data\n",
    "cosmo = Cosmology(H0=70.0, Omega_dm0=0.27-0.045, Omega_b0=0.045, Omega_k0=0.0)\n",
    "\n",
    "# Cluster info\n",
    "cluster_m = 1.e15 # Cluster mass - (M200_m) [Msun]\n",
    "concentration = 4  # Cluster concentration\n",
    "cluster_z = 0.4 # Cluster redshift\n",
    "cluster_ra = 0. # Cluster Ra in deg\n",
    "cluster_dec = 0. # Cluster Dec in deg\n",
    "\n",
    "# Make mock galaxies\n",
    "mock_galaxies = mock.generate_galaxy_catalog(\n",
    "    cluster_m=cluster_m, cluster_z=cluster_z, cluster_c=concentration, # Cluster data\n",
    "    cosmo=cosmo, # Cosmology object\n",
    "    zsrc='chang13', # Galaxy redshift distribution, \n",
    "    zsrc_min=0.5, # Minimum redshift of the galaxies\n",
    "    shapenoise=0.05, # Gaussian shape noise to the galaxy shapes\n",
    "    photoz_sigma_unscaled=0.05, # Photo-z errors to source redshifts\n",
    "    ngals=10000 # Number of galaxies to be generated\n",
    ")['ra', 'dec', 'e1', 'e2', 'z', 'ztrue', 'pzbins', 'pzpdf', 'id']#['ra, dec, e1, e2, z, ztrue, pzbins, pzpdf, id']\n",
    "print(f'This results in a table with the columns: {\", \".join(mock_galaxies.colnames)}')\n",
    "\n",
    "# Put galaxy values on arrays\n",
    "gal_ra = mock_galaxies['ra'] # Galaxies Ra in deg\n",
    "gal_dec = mock_galaxies['dec'] # Galaxies Dec in deg\n",
    "gal_e1 = mock_galaxies['e1'] # Galaxies elipticipy 1\n",
    "gal_e2 = mock_galaxies['e2'] # Galaxies elipticipy 2\n",
    "gal_z = mock_galaxies['z'] # Galaxies observed redshift\n",
    "gal_ztrue = mock_galaxies['ztrue'] # Galaxies true redshift\n",
    "gal_pzbins = mock_galaxies['pzbins'] # Galaxies P(z) bins  \n",
    "gal_pzpdf = mock_galaxies['pzpdf'] # Galaxies P(z)\n",
    "gal_id = mock_galaxies['id'] # Galaxies ID"
   ]
  },
  {
   "cell_type": "markdown",
   "metadata": {},
   "source": [
    "### 1.2. Measure profile with explicit functions"
   ]
  },
  {
   "cell_type": "code",
   "execution_count": null,
   "metadata": {},
   "outputs": [],
   "source": [
    "# Convert elipticities into shears\n",
    "gal_ang_dist, gal_gt, gal_gx = da.compute_tangential_and_cross_components(cluster_ra, cluster_dec,\n",
    "                                                                          gal_ra, gal_dec,\n",
    "                                                                          gal_e1, gal_e2,\n",
    "                                                                          geometry=\"flat\")\n",
    "\n",
    "# Measure profile\n",
    "profile = da.make_radial_profile([gal_gt, gal_gx, gal_z],\n",
    "                                 gal_ang_dist, \"radians\", \"Mpc\",\n",
    "                                 bins=da.make_bins(0.01, 3.7, 50),\n",
    "                                 cosmo=cosmo,\n",
    "                                 z_lens=cluster_z,\n",
    "                                 include_empty_bins=False)\n",
    "print(f'Profile table has columns: {\", \".join(profile.colnames)},')\n",
    "print('where p_(0, 1, 2) = (gt, gx, z)')"
   ]
  },
  {
   "cell_type": "markdown",
   "metadata": {},
   "source": [
    "### 1.3. Measure profile with GalaxyCluster object\n",
    "\n",
    "\n",
    "To use the GalaxyCluster object, we need to have the following information on the cluster:\n",
    "\n",
    "* Ra, Dec [deg]\n",
    "* Mass - (M200_m) [Msun]\n",
    "* Concentration\n",
    "* Redshift\n",
    "\n",
    "\n",
    "and on its memebers:\n",
    "* Ra, Dec [deg]\n",
    "* 2 axis of eliptticities\n",
    "* Redshift"
   ]
  },
  {
   "cell_type": "code",
   "execution_count": null,
   "metadata": {},
   "outputs": [],
   "source": [
    "# Create a GCData with the galaxies\n",
    "galaxies = clmm.GCData()\n",
    "galaxies['ra'] = gal_ra\n",
    "galaxies['dec'] = gal_dec\n",
    "galaxies['e1'] = gal_e1\n",
    "galaxies['e2'] = gal_e2\n",
    "galaxies['z'] = gal_z\n",
    "galaxies['ztrue'] = gal_ztrue\n",
    "galaxies['pzbins'] = gal_pzbins\n",
    "galaxies['pzpdf'] = gal_pzpdf\n",
    "galaxies['id'] = gal_id\n",
    "\n",
    "# Create a GalaxyCluster\n",
    "cluster = clmm.GalaxyCluster(\"Name of cluster\", cluster_ra, cluster_dec,\n",
    "                                   cluster_z, galaxies)\n",
    "\n",
    "# Convert elipticities into shears for the members\n",
    "cluster.compute_tangential_and_cross_components(geometry=\"flat\")\n",
    "print(cluster.galcat.colnames)\n",
    "\n",
    "# Measure profile and add profile table to the cluster\n",
    "cluster.make_radial_profile(bins=da.make_bins(0.01, 3.7, 50),\n",
    "                            bin_units=\"Mpc\",\n",
    "                            cosmo=cosmo,\n",
    "                            include_empty_bins=False,\n",
    "                            gal_ids_in_bins=True,\n",
    "                           )\n",
    "print(cluster.profile.colnames)"
   ]
  },
  {
   "cell_type": "code",
   "execution_count": null,
   "metadata": {},
   "outputs": [],
   "source": [
    "from paper_formating import prep_plot\n",
    "prep_plot(figsize=(9, 9))\n",
    "\n",
    "plt.errorbar(cluster.profile['radius'], cluster.profile['gt'],\n",
    "             cluster.profile['gt_err'], c='k', linestyle='', marker='o',\n",
    "            markersize=1, elinewidth=.5, capthick=.5)\n",
    "plt.xlabel('r [Mpc]', fontsize = 10)\n",
    "plt.ylabel(r'$g_t$', fontsize = 10)\n",
    "#plt.xlim(min(cl_noisy.profile['radius']), max(cl_noisy.profile['radius']))"
   ]
  },
  {
   "cell_type": "markdown",
   "metadata": {},
   "source": [
    "## 2. Theoretical prediction\n",
    "\n",
    "2.1. Modeling assuming one redshift per radial coordinate"
   ]
  },
  {
   "cell_type": "code",
   "execution_count": null,
   "metadata": {},
   "outputs": [],
   "source": [
    "def predict_reduced_tangential_shear_singlez(profile, logm):\n",
    "    return clmm.predict_reduced_tangential_shear(\n",
    "        r_proj=profile['radius'], # Radial component of the profile\n",
    "        mdelta=10**logm, # Mass of the cluster [M_sun]\n",
    "        cdelta=4, # Concentration of the cluster\n",
    "        z_cluster=cluster_z, # Redshift of the cluster\n",
    "        z_source=profile['z'], # Mean redshift value in each radial bin\n",
    "        cosmo=cosmo,\n",
    "        delta_mdef=200,\n",
    "        halo_profile_model='nfw'\n",
    "    )"
   ]
  },
  {
   "cell_type": "markdown",
   "metadata": {},
   "source": [
    "2.2. Modeling using the redshift distribution of the galaxies in each radial bin"
   ]
  },
  {
   "cell_type": "code",
   "execution_count": null,
   "metadata": {},
   "outputs": [],
   "source": [
    "def predict_reduced_tangential_shear_zdistrib(profile, logm):\n",
    "    return np.array([np.mean(\n",
    "        clmm.predict_reduced_tangential_shear(\n",
    "            r_proj=radial_bin['radius'], # Radial component of the profile\n",
    "            mdelta=10**logm, # Mass of the cluster [M_sun]\n",
    "            cdelta=4, # Concentration of the cluster\n",
    "            z_cluster=cluster_z, # Redshift of the cluster\n",
    "            z_source=cluster.galcat[radial_bin['gal_id']]['z'], # Redshift value of each source galaxy inside the radial bin\n",
    "            cosmo=cosmo,\n",
    "            delta_mdef=200,\n",
    "            halo_profile_model='nfw'\n",
    "        )) for radial_bin in profile])"
   ]
  },
  {
   "cell_type": "code",
   "execution_count": null,
   "metadata": {},
   "outputs": [],
   "source": [
    "gt_model_singlez = predict_reduced_tangential_shear_singlez(profile=cluster.profile, logm=15)\n",
    "gt_model_zdistrib = predict_reduced_tangential_shear_zdistrib(profile=cluster.profile, logm=15)"
   ]
  },
  {
   "cell_type": "code",
   "execution_count": null,
   "metadata": {},
   "outputs": [],
   "source": [
    "num_fmt = lambda x: (f'{x:.1e}').replace('e+', '\\\\times10^{')+'}'"
   ]
  },
  {
   "cell_type": "code",
   "execution_count": null,
   "metadata": {},
   "outputs": [],
   "source": [
    "prep_plot(figsize=(9, 9))\n",
    "\n",
    "plt.errorbar(cluster.profile['radius'], cluster.profile['gt'], cluster.profile['gt_err'],\n",
    "             c='k', linestyle='', marker='o', markersize=1, elinewidth=.5, capthick=.5)\n",
    "plt.loglog(cluster.profile['radius'], gt_model_zdistrib,'-b',\\\n",
    "           label=rf'model w/ zdistrib, $M_{{input}} = {num_fmt(cluster_m)} M_\\odot$', lw=.5)\n",
    "plt.loglog(cluster.profile['radius'], gt_model_singlez,'-y',\n",
    "           label=rf'model w/o zdistrib, $M_{{input}} = {num_fmt(cluster_m)} M_\\odot$', lw=.5)\n",
    "plt.xlabel('r [Mpc]', fontsize = 20)\n",
    "plt.ylabel(r'$g_t$', fontsize = 20)\n",
    "#plt.xlim(min(cl_noisy.profile['radius']), max(cl_noisy.profile['radius']))\n",
    "plt.legend(fontsize = 5)"
   ]
  },
  {
   "cell_type": "markdown",
   "metadata": {},
   "source": [
    "## Mass fitting"
   ]
  },
  {
   "cell_type": "markdown",
   "metadata": {},
   "source": [
    "We estimate the best-fit mass using `scipy.optimize.curve_fit`.  We compare estimated mass for noisy and ideal data, using both models described above (naive with average redshift or the model taking into account the redshift distribution). The choice of fitting $\\log_{10} M$ instead of $M$ lowers the range of pre-defined fitting bounds from several order of magnitude for the mass to unity. From the associated error $\\Delta (\\log_{10}M)$ we calculate the error to mass as $\\Delta M = M_{fit}\\log(10)\\Delta (\\log_{10}M)$."
   ]
  },
  {
   "cell_type": "code",
   "execution_count": null,
   "metadata": {},
   "outputs": [],
   "source": [
    "from sampler import fitters"
   ]
  },
  {
   "cell_type": "code",
   "execution_count": null,
   "metadata": {},
   "outputs": [],
   "source": [
    "popt_singlez, pcov_singlez = fitters['curve_fit'](predict_reduced_tangential_shear_singlez,\n",
    "    cluster.profile, \n",
    "    cluster.profile['gt'], \n",
    "    cluster.profile['gt_err'], bounds=[10.,16.])\n",
    "logm_est_singlez, logm_err_est_singlez = popt_singlez[0], np.sqrt(pcov_singlez[0][0])\n",
    "\n",
    "m_est_singlez = 10.**logm_est_singlez\n",
    "m_est_err_singlez =  m_est_singlez*logm_err_est_singlez*np.log(10)\n",
    "\n",
    "popt_zdistrib, pcov_zdistrib = fitters['curve_fit'](predict_reduced_tangential_shear_zdistrib,\n",
    "    cluster.profile, \n",
    "    cluster.profile['gt'], \n",
    "    cluster.profile['gt_err'], bounds=[10.,17.])\n",
    "\n",
    "logm_est_zdistrib, logm_err_est_zdistrib = popt_zdistrib[0], np.sqrt(pcov_zdistrib[0][0])\n",
    "\n",
    "m_est_zdistrib = 10.**logm_est_zdistrib\n",
    "m_est_err_zdistrib =  m_est_zdistrib*logm_err_est_zdistrib*np.log(10)"
   ]
  },
  {
   "cell_type": "code",
   "execution_count": null,
   "metadata": {},
   "outputs": [],
   "source": [
    "print(f'The input mass = {cluster_m:.2e} Msun\\n')\n",
    "\n",
    "print(\"Without accounting for the redshift distribution in the model\\n\")\n",
    "print(f'Best fit mass for noisy data = {m_est_singlez:.2e} +/- {m_est_err_singlez:.2e} Msun\\n')\n",
    "\n",
    "print(\"Accounting for the redshift distribution in the model\\n\")\n",
    "print(f'Best fit mass for noisy data = {m_est_zdistrib:.2e} +/- {m_est_err_zdistrib:.2e} Msun')"
   ]
  },
  {
   "cell_type": "markdown",
   "metadata": {},
   "source": [
    "As expected, the reconstructed mass is biased when the redshift distribution is not accounted for in the model"
   ]
  },
  {
   "cell_type": "markdown",
   "metadata": {},
   "source": [
    "# Visualization of the results"
   ]
  },
  {
   "cell_type": "markdown",
   "metadata": {},
   "source": [
    "For visualization purpose, we calculate the reduced tangential shear predicted by the model with estimated masses for noisy and ideal data."
   ]
  },
  {
   "cell_type": "code",
   "execution_count": null,
   "metadata": {},
   "outputs": [],
   "source": [
    "gt_est_singlez = predict_reduced_tangential_shear_singlez(cluster.profile, logm_est_singlez)\n",
    "gt_est_zdistrib = predict_reduced_tangential_shear_zdistrib(cluster.profile, logm_est_zdistrib)"
   ]
  },
  {
   "cell_type": "code",
   "execution_count": null,
   "metadata": {},
   "outputs": [],
   "source": [
    "gt_est_singlez_err = [predict_reduced_tangential_shear_singlez(cluster.profile, logm_est_singlez+i*logm_err_est_singlez)\n",
    "                      for i in (-3, 3)]\n",
    "gt_est_zdistrib_err = [predict_reduced_tangential_shear_zdistrib(cluster.profile, logm_est_zdistrib+i*logm_err_est_zdistrib)\n",
    "                      for i in (-3, 3)]"
   ]
  },
  {
   "cell_type": "markdown",
   "metadata": {},
   "source": [
    "We compare to tangential shear obtained with theoretical mass. We plot the reduced tangential shear models first when redshift distribution is accounted for in the model then for the naive approach, with respective best-fit masses."
   ]
  },
  {
   "cell_type": "code",
   "execution_count": null,
   "metadata": {},
   "outputs": [],
   "source": [
    "prep_plot(figsize=(9 , 9))\n",
    "#plt.title(r'tangential shear $g_t$', fontsize=20)\n",
    "plt.errorbar(cluster.profile['radius'], cluster.profile['gt'], cluster.profile['gt_err'],\n",
    "             c='k', linestyle='', marker='o', label=f'$M_{{input}} = {num_fmt(cluster_m)} M_\\odot$',\n",
    "            markersize=1, elinewidth=.5, capthick=.5)\n",
    "plt.loglog(cluster.profile['radius'], gt_est_zdistrib,'-b', \n",
    "           label=fr'model w/ zdistrib, $M_{{fit}} = {num_fmt(m_est_zdistrib)} \\pm {num_fmt(m_est_err_zdistrib)} M_\\odot$',\n",
    "          lw=.5)\n",
    "plt.loglog(cluster.profile['radius'], gt_est_singlez,'-y',\\\n",
    "           label=fr'model w/o zdistrib, $M_{{fit}} = {num_fmt(m_est_singlez)} \\pm {num_fmt(m_est_err_singlez)} M_\\odot$',\n",
    "          lw=.5)\n",
    "plt.fill_between(cluster.profile['radius'], *gt_est_zdistrib_err, lw=0, color='b', alpha=.3)\n",
    "plt.fill_between(cluster.profile['radius'], *gt_est_singlez_err, lw=0, color='y', alpha=.3)\n",
    "\n",
    "plt.xlabel('r [Mpc]', fontsize = 20)\n",
    "plt.ylabel(r'$g_t$', fontsize = 20)\n",
    "plt.legend(fontsize = 5)"
   ]
  }
 ],
 "metadata": {
  "kernelspec": {
   "display_name": "CLMM-dev",
   "language": "python",
   "name": "clmmenv"
  },
  "language_info": {
   "codemirror_mode": {
    "name": "ipython",
    "version": 3
   },
   "file_extension": ".py",
   "mimetype": "text/x-python",
   "name": "python",
   "nbconvert_exporter": "python",
   "pygments_lexer": "ipython3",
   "version": "3.8.5"
  }
 },
 "nbformat": 4,
 "nbformat_minor": 4
}
