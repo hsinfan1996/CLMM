{
 "cells": [
  {
   "cell_type": "markdown",
   "metadata": {},
   "source": [
    "# API demonstration for paper of v1.0\n",
    "\n",
    "_the LSST-DESC CLMM team_\n",
    "\n",
    "\n",
    "Here we demonstrate how to use `clmm` to estimate a WL halo mass from observations of a galaxy cluster when source galaxies follow a given distribution (the Chang. (2013) implemented in `clmm`). It uses several functionalities of the support `mock_data` module to produce mock datasets.\n",
    "\n",
    "- Setting things up, with the proper imports.\n",
    "- Computing the binned reduced tangential shear profile, for the 2 datasets, using logarithmic binning.\n",
    "- Setting up a model accounting for the redshift distribution.\n",
    "- Perform a simple fit using `scipy.optimize.curve_fit` and visualize the results."
   ]
  },
  {
   "cell_type": "markdown",
   "metadata": {},
   "source": [
    "## Setup"
   ]
  },
  {
   "cell_type": "markdown",
   "metadata": {},
   "source": [
    "First, we import some standard packages."
   ]
  },
  {
   "cell_type": "code",
   "execution_count": null,
   "metadata": {},
   "outputs": [],
   "source": [
    "import matplotlib.pyplot as plt\n",
    "import numpy as np\n",
    "plt.rcParams['font.family'] = ['gothambook','gotham','gotham-book','serif']"
   ]
  },
  {
   "cell_type": "markdown",
   "metadata": {},
   "source": [
    "Next, we import `clmm`'s core modules."
   ]
  },
  {
   "cell_type": "code",
   "execution_count": null,
   "metadata": {},
   "outputs": [],
   "source": [
    "import clmm\n",
    "import clmm.dataops as da\n",
    "import clmm.galaxycluster as gc\n",
    "import clmm.theory as theory\n",
    "import clmm.support.mock_data as mock\n",
    "from clmm import Cosmology"
   ]
  },
  {
   "cell_type": "markdown",
   "metadata": {},
   "source": [
    "## Measuring shear profiles "
   ]
  },
  {
   "cell_type": "markdown",
   "metadata": {},
   "source": [
    "`clmm` has a support code to generate a mock catalog given a input cosmology and cluster parameters. We will use this to generate a data sample to be used in this example:"
   ]
  },
  {
   "cell_type": "code",
   "execution_count": null,
   "metadata": {},
   "outputs": [],
   "source": [
    "np.random.seed(14) # For reproducibility\n",
    "\n",
    "# Set cosmology of mock data\n",
    "cosmo = Cosmology(H0=70.0, Omega_dm0=0.27-0.045, Omega_b0=0.045, Omega_k0=0.0)\n",
    "\n",
    "# Cluster info\n",
    "cluster_m = 1.e15 # Cluster mass - ($M200_m$) [Msun]\n",
    "concentration = 4  # Cluster concentration\n",
    "cluster_z = 0.4 # Cluster redshift\n",
    "cluster_ra = 0. # Cluster Ra in deg\n",
    "cluster_dec = 0. # Cluster Dec in deg\n",
    "\n",
    "# Make mock galaxies\n",
    "mock_galaxies = mock.generate_galaxy_catalog(\n",
    "    cluster_m=cluster_m, cluster_z=cluster_z, cluster_c=concentration, # Cluster data\n",
    "    cosmo=cosmo, # Cosmology object\n",
    "    zsrc='chang13', # Galaxy redshift distribution, \n",
    "    zsrc_min=0.5, # Minimum redshift of the galaxies\n",
    "    shapenoise=0.05, # Gaussian shape noise to the galaxy shapes\n",
    "    photoz_sigma_unscaled=0.05, # Photo-z errors to source redshifts\n",
    "    ngals=10000 # Number of galaxies to be generated\n",
    ")['ra', 'dec', 'e1', 'e2', 'z', 'ztrue', 'pzbins', 'pzpdf', 'id']\n",
    "print(f'This results in a table with the columns: {\", \".join(mock_galaxies.colnames)}')"
   ]
  },
  {
   "cell_type": "markdown",
   "metadata": {},
   "source": [
    "We can extract the column of this mock catalog to show explicitely how the quantities can be used on `clmm` functionality and how to add them to a `GalaxyCluster` object: "
   ]
  },
  {
   "cell_type": "code",
   "execution_count": null,
   "metadata": {},
   "outputs": [],
   "source": [
    "# Put galaxy values on arrays\n",
    "gal_ra = mock_galaxies['ra'] # Galaxies Ra in deg\n",
    "gal_dec = mock_galaxies['dec'] # Galaxies Dec in deg\n",
    "gal_e1 = mock_galaxies['e1'] # Galaxies elipticipy 1\n",
    "gal_e2 = mock_galaxies['e2'] # Galaxies elipticipy 2\n",
    "gal_z = mock_galaxies['z'] # Galaxies observed redshift\n",
    "gal_ztrue = mock_galaxies['ztrue'] # Galaxies true redshift\n",
    "gal_pzbins = mock_galaxies['pzbins'] # Galaxies P(z) bins  \n",
    "gal_pzpdf = mock_galaxies['pzpdf'] # Galaxies P(z)\n",
    "gal_id = mock_galaxies['id'] # Galaxies ID"
   ]
  },
  {
   "cell_type": "markdown",
   "metadata": {},
   "source": [
    "From the source galaxy quantities, we can compute the elepticities and corresponding radial profile usimg `clmm.dataops` functions:"
   ]
  },
  {
   "cell_type": "code",
   "execution_count": null,
   "metadata": {},
   "outputs": [],
   "source": [
    "# Convert elipticities into shears\n",
    "gal_ang_dist, gal_gt, gal_gx = da.compute_tangential_and_cross_components(cluster_ra, cluster_dec,\n",
    "                                                                          gal_ra, gal_dec,\n",
    "                                                                          gal_e1, gal_e2,\n",
    "                                                                          geometry=\"flat\")\n",
    "\n",
    "# Measure profile\n",
    "profile = da.make_radial_profile([gal_gt, gal_gx, gal_z],\n",
    "                                 gal_ang_dist, \"radians\", \"Mpc\",\n",
    "                                 bins=da.make_bins(0.01, 3.7, 50),\n",
    "                                 cosmo=cosmo,\n",
    "                                 z_lens=cluster_z,\n",
    "                                 include_empty_bins=False)\n",
    "print(f'Profile table has columns: {\", \".join(profile.colnames)},')\n",
    "print('where p_(0, 1, 2) = (gt, gx, z)')"
   ]
  },
  {
   "cell_type": "markdown",
   "metadata": {},
   "source": [
    "The other possibility is to use the `GalaxyCluster` object. For that you just have to provide the following information of the cluster:\n",
    "\n",
    "* Ra, Dec [deg]\n",
    "* Mass - ($M200_m$) [Msun]\n",
    "* Concentration\n",
    "* Redshift\n",
    "\n",
    "\n",
    "and the source galaxies:\n",
    "\n",
    "* Ra, Dec [deg]\n",
    "* 2 axis of eliptticities\n",
    "* Redshift\n",
    "\n"
   ]
  },
  {
   "cell_type": "code",
   "execution_count": null,
   "metadata": {},
   "outputs": [],
   "source": [
    "# Create a GCData with the galaxies\n",
    "galaxies = clmm.GCData()\n",
    "galaxies['ra'] = gal_ra\n",
    "galaxies['dec'] = gal_dec\n",
    "galaxies['e1'] = gal_e1\n",
    "galaxies['e2'] = gal_e2\n",
    "galaxies['z'] = gal_z\n",
    "galaxies['ztrue'] = gal_ztrue\n",
    "galaxies['pzbins'] = gal_pzbins\n",
    "galaxies['pzpdf'] = gal_pzpdf\n",
    "galaxies['id'] = gal_id\n",
    "\n",
    "# Create a GalaxyCluster\n",
    "cluster = clmm.GalaxyCluster(\"Name of cluster\", cluster_ra, cluster_dec,\n",
    "                                   cluster_z, galaxies)\n",
    "\n",
    "# Convert elipticities into shears for the members\n",
    "cluster.compute_tangential_and_cross_components(geometry=\"flat\")\n",
    "print(cluster.galcat.colnames)\n",
    "\n",
    "# Measure profile and add profile table to the cluster\n",
    "cluster.make_radial_profile(bins=da.make_bins(0.01, 3.7, 50, method='evenlog10width'),\n",
    "                            bin_units=\"Mpc\",\n",
    "                            cosmo=cosmo,\n",
    "                            include_empty_bins=False,\n",
    "                            gal_ids_in_bins=True,\n",
    "                           )\n",
    "print(cluster.profile.colnames)"
   ]
  },
  {
   "cell_type": "markdown",
   "metadata": {},
   "source": [
    "This resoults in an attribute `table` added to the `cluster` object."
   ]
  },
  {
   "cell_type": "code",
   "execution_count": null,
   "metadata": {},
   "outputs": [],
   "source": [
    "from paper_formating import prep_plot\n",
    "prep_plot(figsize=(9, 9))\n",
    "\n",
    "plt.errorbar(cluster.profile['radius'], cluster.profile['gt'],\n",
    "             cluster.profile['gt_err'], c='k', linestyle='', marker='o',\n",
    "            markersize=1, elinewidth=.5, capthick=.5)\n",
    "plt.xlabel('r [Mpc]', fontsize = 10)\n",
    "plt.ylabel(r'$g_t$', fontsize = 10)\n",
    "#plt.xlim(min(cl_noisy.profile['radius']), max(cl_noisy.profile['radius']))"
   ]
  },
  {
   "cell_type": "markdown",
   "metadata": {},
   "source": [
    "## Theoretical prediction\n",
    "\n",
    "Here we use `clmm.predict_reduced_tangential_shear` to make a prediction that accounts for the redshift distribution of the galaxies in each radial bin:"
   ]
  },
  {
   "cell_type": "code",
   "execution_count": null,
   "metadata": {},
   "outputs": [],
   "source": [
    "def predict_reduced_tangential_shear(profile, logm):\n",
    "    return np.array([np.mean(\n",
    "        clmm.compute_reduced_tangential_shear(\n",
    "            r_proj=radial_bin['radius'], # Radial component of the profile\n",
    "            mdelta=10**logm, # Mass of the cluster [M_sun]\n",
    "            cdelta=4, # Concentration of the cluster\n",
    "            z_cluster=cluster_z, # Redshift of the cluster\n",
    "            z_source=cluster.galcat[radial_bin['gal_id']]['z'], # Redshift value of each source galaxy inside the radial bin\n",
    "            cosmo=cosmo,\n",
    "            delta_mdef=200,\n",
    "            halo_profile_model='nfw'\n",
    "        )) for radial_bin in profile])"
   ]
  },
  {
   "cell_type": "markdown",
   "metadata": {},
   "source": [
    "## Mass fitting"
   ]
  },
  {
   "cell_type": "markdown",
   "metadata": {},
   "source": [
    "We estimate the best-fit mass using `scipy.optimize.curve_fit`.  We compare estimated mass for noisy and ideal data, using both models described above (naive with average redshift or the model taking into account the redshift distribution). The choice of fitting $\\log_{10} M$ instead of $M$ lowers the range of pre-defined fitting bounds from several order of magnitude for the mass to unity. From the associated error $\\Delta (\\log_{10}M)$ we calculate the error to mass as $\\Delta M = M_{fit}\\log(10)\\Delta (\\log_{10}M)$."
   ]
  },
  {
   "cell_type": "code",
   "execution_count": null,
   "metadata": {},
   "outputs": [],
   "source": [
    "from clmm.support.sampler import fitters\n",
    "popt, pcov = fitters['curve_fit'](predict_reduced_tangential_shear,\n",
    "    cluster.profile, \n",
    "    cluster.profile['gt'], \n",
    "    cluster.profile['gt_err'], bounds=[10.,17.])\n",
    "\n",
    "logm_est, logm_err_est = popt[0], np.sqrt(pcov[0][0])\n",
    "\n",
    "m_est = 10.**logm_est\n",
    "m_est_err =  m_est*logm_err_est*np.log(10)"
   ]
  },
  {
   "cell_type": "code",
   "execution_count": null,
   "metadata": {},
   "outputs": [],
   "source": [
    "print(f'The input mass = {cluster_m:.2e} Msun\\n')\n",
    "\n",
    "print(\"Accounting for the redshift distribution in the model\\n\")\n",
    "print(f'Best fit mass for noisy data = {m_est:.2e} +/- {m_est_err:.2e} Msun')"
   ]
  },
  {
   "cell_type": "markdown",
   "metadata": {},
   "source": [
    "As expected, the reconstructed mass is biased when the redshift distribution is not accounted for in the model"
   ]
  },
  {
   "cell_type": "markdown",
   "metadata": {},
   "source": [
    "## Visualization of the results"
   ]
  },
  {
   "cell_type": "markdown",
   "metadata": {},
   "source": [
    "For visualization purpose, we calculate the reduced tangential shear predicted by the model with estimated masses for noisy and ideal data."
   ]
  },
  {
   "cell_type": "code",
   "execution_count": null,
   "metadata": {},
   "outputs": [],
   "source": [
    "gt_est = predict_reduced_tangential_shear(cluster.profile, logm_est)\n",
    "gt_est_err = [predict_reduced_tangential_shear(cluster.profile, logm_est+i*logm_err_est)\n",
    "                      for i in (-3, 3)]"
   ]
  },
  {
   "cell_type": "markdown",
   "metadata": {},
   "source": [
    "We compare to tangential shear obtained with theoretical mass. We plot the reduced tangential shear models first when redshift distribution is accounted for in the model then for the naive approach, with respective best-fit masses."
   ]
  },
  {
   "cell_type": "code",
   "execution_count": null,
   "metadata": {},
   "outputs": [],
   "source": [
    "prep_plot(figsize=(9 , 9))\n",
    "plt.errorbar(cluster.profile['radius'], cluster.profile['gt'], cluster.profile['gt_err'],\n",
    "             c='k', linestyle='', marker='o', label=rf'$M_{{input}} = {cluster_m*1e-15}\\times10^{{{15}}} M_\\odot$',\n",
    "            markersize=1, elinewidth=.5, capthick=.5)\n",
    "pow10 = 15\n",
    "plt.loglog(cluster.profile['radius'], gt_est,'-b', \n",
    "           label=fr'$M_{{fit}} = {m_est/10**pow10:.2f} \\pm {m_est_err/10**pow10:.2f}\\times 10^{{{pow10}}} M_\\odot$',\n",
    "          lw=.5)\n",
    "plt.fill_between(cluster.profile['radius'], *gt_est_err, lw=0, color='b', alpha=.3)\n",
    "\n",
    "plt.xlabel('$r$ [Mpc]', fontsize = 10)\n",
    "plt.ylabel(r'$g_t$', fontsize = 10)\n",
    "plt.legend(fontsize = 8)\n",
    "plt.subplots_adjust(left=.2, bottom=.15)\n",
    "plt.savefig('r_gt.png')"
   ]
  }
 ],
 "metadata": {
  "kernelspec": {
   "display_name": "CLMM-dev",
   "language": "python",
   "name": "clmmenv"
  },
  "language_info": {
   "codemirror_mode": {
    "name": "ipython",
    "version": 3
   },
   "file_extension": ".py",
   "mimetype": "text/x-python",
   "name": "python",
   "nbconvert_exporter": "python",
   "pygments_lexer": "ipython3",
   "version": "3.8.5"
  }
 },
 "nbformat": 4,
 "nbformat_minor": 4
}
