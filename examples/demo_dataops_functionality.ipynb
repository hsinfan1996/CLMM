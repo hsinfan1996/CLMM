{
 "cells": [
  {
   "cell_type": "markdown",
   "metadata": {},
   "source": [
    "# Measure a Profile"
   ]
  },
  {
   "cell_type": "markdown",
   "metadata": {},
   "source": [
    "## Note\n",
    "\n",
    "All functions in this section can be used passing the explicit arguments but are also internal functions of the cluster object, and should be used as such. They are just explicitely used here for clarity.\n",
    "\n",
    "Ex:\n",
    "\n",
    "```\n",
    "theta, g_t, g_x = compute_tangential_and_cross_components(ra_lens, dec_lens,\n",
    "                ra_source, dec_source, shear1, shear2, geometry=\"flat\")\n",
    "```\n",
    "\n",
    "should be done by the user as:\n",
    "\n",
    "```\n",
    "theta, g_t, g_x = cl.compute_tangential_and_cross_components(geometry=\"flat\")\n",
    "```"
   ]
  },
  {
   "cell_type": "code",
   "execution_count": 31,
   "metadata": {},
   "outputs": [],
   "source": [
    "import matplotlib.pyplot as plt\n",
    "import clmm\n",
    "import clmm.dataops\n",
    "from clmm.dataops import compute_tangential_and_cross_components, make_radial_profile, make_bins\n",
    "from clmm.galaxycluster import GalaxyCluster\n",
    "import clmm.utils as u\n",
    "from clmm import Cosmology\n",
    "from clmm.support import mock_data as mock"
   ]
  },
  {
   "cell_type": "markdown",
   "metadata": {},
   "source": [
    "Make sure we know which version we're using"
   ]
  },
  {
   "cell_type": "code",
   "execution_count": 32,
   "metadata": {},
   "outputs": [
    {
     "data": {
      "text/plain": [
       "'0.9.0'"
      ]
     },
     "execution_count": 32,
     "metadata": {},
     "output_type": "execute_result"
    }
   ],
   "source": [
    "clmm.__version__"
   ]
  },
  {
   "cell_type": "markdown",
   "metadata": {},
   "source": [
    "### Define cosmology object"
   ]
  },
  {
   "cell_type": "code",
   "execution_count": 33,
   "metadata": {},
   "outputs": [],
   "source": [
    "mock_cosmo = Cosmology(H0 = 70.0, Omega_dm0 = 0.27 - 0.045, Omega_b0 = 0.045, Omega_k0 = 0.0)"
   ]
  },
  {
   "cell_type": "markdown",
   "metadata": {},
   "source": [
    "## 1. Generate cluster object from mock data\n",
    "In this example, the mock data includes: shape noise, galaxies drawn from redshift distribution and photoz errors."
   ]
  },
  {
   "cell_type": "markdown",
   "metadata": {},
   "source": [
    "Define toy cluster parameters for mock data generation"
   ]
  },
  {
   "cell_type": "code",
   "execution_count": 34,
   "metadata": {},
   "outputs": [],
   "source": [
    "cosmo = mock_cosmo\n",
    "cluster_id = \"Awesome_cluster\"\n",
    "cluster_m = 1.e15\n",
    "cluster_z = 0.3\n",
    "concentration = 4\n",
    "ngals = 1000\n",
    "\n",
    "zsrc_min = cluster_z + 0.1 # we only want to draw background galaxies\n",
    "\n",
    "noisy_data_z = mock.generate_galaxy_catalog(cluster_m,\n",
    "                                            cluster_z,\n",
    "                                            concentration,\n",
    "                                            cosmo,\n",
    "                                            'chang13',\n",
    "                                            zsrc_min=zsrc_min,\n",
    "                                            shapenoise=0.005,\n",
    "                                            photoz_sigma_unscaled=0.05, ngals=ngals)"
   ]
  },
  {
   "cell_type": "markdown",
   "metadata": {},
   "source": [
    "Loading this into a CLMM cluster object centered on (0,0)"
   ]
  },
  {
   "cell_type": "code",
   "execution_count": 35,
   "metadata": {},
   "outputs": [],
   "source": [
    "cluster_ra = 0.0\n",
    "cluster_dec = 0.0\n",
    "cl = GalaxyCluster(cluster_id, cluster_ra, cluster_dec, \n",
    "                               cluster_z, noisy_data_z)"
   ]
  },
  {
   "cell_type": "markdown",
   "metadata": {},
   "source": [
    "### 2. Load cluster object containing:\n",
    "> Lens properties (ra_l, dec_l, z_l)\n",
    "\n",
    "> Source properties (ra_s, dec_s, e1, e2)\n",
    "### Note, if loading from mock data, use: \n",
    "> cl = gc.GalaxyCluster.load(\"GC_from_mock_data.pkl\")"
   ]
  },
  {
   "cell_type": "code",
   "execution_count": 36,
   "metadata": {},
   "outputs": [
    {
     "name": "stdout",
     "output_type": "stream",
     "text": [
      "Cluster info = ID: Awesome_cluster ; ra: 0.0 ; dec: 0.0 ; z_l : 0.3\n",
      "The number of source galaxies is : 1000\n"
     ]
    }
   ],
   "source": [
    "print(\"Cluster info = ID:\", cl.unique_id, \"; ra:\", cl.ra,\n",
    "      \"; dec:\", cl.dec, \"; z_l :\", cl.z)\n",
    "print(\"The number of source galaxies is :\", len(cl.galcat))"
   ]
  },
  {
   "cell_type": "markdown",
   "metadata": {},
   "source": [
    "## 2. Basic checks and plots \n",
    "- galaxy positions\n",
    "- redshift distribution"
   ]
  },
  {
   "cell_type": "code",
   "execution_count": 37,
   "metadata": {},
   "outputs": [
    {
     "data": {
      "image/png": "[encoded data removed]",
      "text/plain": [
       "<Figure size 864x288 with 2 Axes>"
      ]
     },
     "metadata": {
      "needs_background": "light"
     },
     "output_type": "display_data"
    }
   ],
   "source": [
    "f, ax = plt.subplots(1, 2, figsize=(12, 4))\n",
    "\n",
    "ax[0].scatter(cl.galcat['ra'], cl.galcat['dec'], color='blue', s=1, alpha=0.3)\n",
    "ax[0].plot(cl.ra, cl.dec, 'ro')\n",
    "ax[0].set_ylabel('dec', fontsize=\"large\")\n",
    "ax[0].set_xlabel('ra', fontsize=\"large\")\n",
    "\n",
    "hist = ax[1].hist(cl.galcat['z'], bins=40)[0]\n",
    "ax[1].axvline(cl.z, c='r', ls='--')\n",
    "ax[1].set_xlabel('$z_{source}$', fontsize=\"large\")\n",
    "xt = {t:f'{t}' for t in ax[1].get_xticks() if t!=0}\n",
    "xt[cl.z] ='$z_{cl}$'\n",
    "xto = sorted(list(xt.keys())+[cl.z])\n",
    "ax[1].set_xticks(xto)\n",
    "ax[1].set_xticklabels(xt[t] for t in xto)\n",
    "ax[1].get_xticklabels()[xto.index(cl.z)].set_color('red')\n",
    "plt.xlim(0, max(xto))\n",
    "plt.show()"
   ]
  },
  {
   "cell_type": "markdown",
   "metadata": {},
   "source": [
    "- Check ellipticities"
   ]
  },
  {
   "cell_type": "code",
   "execution_count": 38,
   "metadata": {},
   "outputs": [
    {
     "data": {
      "text/plain": [
       "<matplotlib.lines.Line2D at 0x7fb784d3d5e0>"
      ]
     },
     "execution_count": 38,
     "metadata": {},
     "output_type": "execute_result"
    },
    {
     "data": {
      "image/png": "[encoded data removed]",
      "text/plain": [
       "<Figure size 432x288 with 1 Axes>"
      ]
     },
     "metadata": {
      "needs_background": "light"
     },
     "output_type": "display_data"
    }
   ],
   "source": [
    "fig, ax1 = plt.subplots(1, 1)\n",
    "\n",
    "ax1.scatter(cl.galcat['e1'], cl.galcat['e2'], s=1, alpha=0.2)\n",
    "ax1.set_xlabel('e1')\n",
    "ax1.set_ylabel('e2')\n",
    "ax1.set_aspect('equal', 'datalim')\n",
    "ax1.axvline(0, linestyle='dotted', color='black')\n",
    "ax1.axhline(0, linestyle='dotted', color='black')"
   ]
  },
  {
   "cell_type": "markdown",
   "metadata": {},
   "source": [
    "## 3. Compute and plot shear profiles"
   ]
  },
  {
   "cell_type": "markdown",
   "metadata": {},
   "source": [
    "### 3.1 Compute angular separation, cross and tangential shear for each source galaxy"
   ]
  },
  {
   "cell_type": "code",
   "execution_count": 39,
   "metadata": {},
   "outputs": [],
   "source": [
    "theta, e_t, e_x = compute_tangential_and_cross_components(\n",
    "                ra_lens=cl.ra, dec_lens=cl.dec,\n",
    "                ra_source=cl.galcat['ra'], dec_source=cl.galcat['dec'],\n",
    "                shear1=cl.galcat['e1'], shear2=cl.galcat['e2'],\n",
    "                geometry=\"flat\")"
   ]
  },
  {
   "cell_type": "markdown",
   "metadata": {},
   "source": [
    "#### 3.1.1 Using `GalaxyCluster` object\n",
    "- You can also call the function directly from the `GalaxyCluster` object\n",
    "- By defaut, `compute_tangential_and_cross_components` uses columns named `e1` and `e2` of the `galcat` table"
   ]
  },
  {
   "cell_type": "code",
   "execution_count": 40,
   "metadata": {},
   "outputs": [
    {
     "name": "stdout",
     "output_type": "stream",
     "text": [
      "          et                      ex          \n",
      "---------------------- -----------------------\n",
      "  0.012214288329487826 -0.00039578120091545235\n",
      " 0.0073690788130523505   0.0024089073714982545\n",
      "   0.01780016286122268  -0.0035699544972048014\n",
      "   0.00728932417901366   0.0005710986406238055\n",
      "   0.07897442332507311  -0.0032455423964193337\n",
      "   0.02276890929679264    0.008255290529589827\n",
      "  0.014785867035391868    0.003106710649164227\n",
      "   0.01600717402844889    0.006010217216927803\n",
      "   0.02156307274588469    0.002182605602438867\n",
      "   0.00448987773672151   -0.003663983920974256\n",
      "                   ...                     ...\n",
      "   0.01189783476039314   -0.003993436029881061\n",
      "    0.0244499226689738    0.010420430173276546\n",
      " 0.0022616913231804786   -0.005770664414407029\n",
      "    0.0337576934948953     0.00380973283784029\n",
      "  0.008948995782587378   -0.008836871901788074\n",
      "0.00038813142722915863    0.007027295230186073\n",
      "  0.057447077361994996   0.0023190677497743634\n",
      "  0.011928142036426096   -0.007302737867911088\n",
      "-0.0032006020125134853  -0.0011276906491111743\n",
      "  0.015878799300797483  -0.0013050544047556248\n",
      "  0.015147191001526556  -0.0002177452889650242\n",
      "Length = 1000 rows\n"
     ]
    }
   ],
   "source": [
    "cl.compute_tangential_and_cross_components(geometry=\"flat\", add=True)\n",
    "# With the option add the cl object has theta, et and ex new columns \n",
    "# (default: takes in columns named 'e1' and 'e2' and save the results in 'et' and 'ex')\n",
    "cl.galcat['et', 'ex'].pprint(max_width=-1)"
   ]
  },
  {
   "cell_type": "markdown",
   "metadata": {},
   "source": [
    "- But it's also possible to choose which columns to use for input and output, e.g. Below we're storing the results in `e_tan` and `e_cross` instead (explicitely taking `e1` and `e2` as input)\n"
   ]
  },
  {
   "cell_type": "code",
   "execution_count": 41,
   "metadata": {},
   "outputs": [
    {
     "name": "stdout",
     "output_type": "stream",
     "text": [
      "        e_tan                  e_cross        \n",
      "---------------------- -----------------------\n",
      "  0.012214288329487826 -0.00039578120091545235\n",
      " 0.0073690788130523505   0.0024089073714982545\n",
      "   0.01780016286122268  -0.0035699544972048014\n",
      "   0.00728932417901366   0.0005710986406238055\n",
      "   0.07897442332507311  -0.0032455423964193337\n",
      "   0.02276890929679264    0.008255290529589827\n",
      "  0.014785867035391868    0.003106710649164227\n",
      "   0.01600717402844889    0.006010217216927803\n",
      "   0.02156307274588469    0.002182605602438867\n",
      "   0.00448987773672151   -0.003663983920974256\n",
      "                   ...                     ...\n",
      "   0.01189783476039314   -0.003993436029881061\n",
      "    0.0244499226689738    0.010420430173276546\n",
      " 0.0022616913231804786   -0.005770664414407029\n",
      "    0.0337576934948953     0.00380973283784029\n",
      "  0.008948995782587378   -0.008836871901788074\n",
      "0.00038813142722915863    0.007027295230186073\n",
      "  0.057447077361994996   0.0023190677497743634\n",
      "  0.011928142036426096   -0.007302737867911088\n",
      "-0.0032006020125134853  -0.0011276906491111743\n",
      "  0.015878799300797483  -0.0013050544047556248\n",
      "  0.015147191001526556  -0.0002177452889650242\n",
      "Length = 1000 rows\n"
     ]
    }
   ],
   "source": [
    "cl.compute_tangential_and_cross_components(geometry=\"flat\",\n",
    "                                                      shape_component1='e1', shape_component2='e2', \n",
    "                                                      tan_component='e_tan', cross_component='e_cross',\n",
    "                                                      add=True)\n",
    "cl.galcat['e_tan', 'e_cross'].pprint(max_width=-1)"
   ]
  },
  {
   "cell_type": "markdown",
   "metadata": {},
   "source": [
    "Plot tangential and cross ellipticity distributions for verification, which can be accessed in the galaxy cluster object, cl."
   ]
  },
  {
   "cell_type": "code",
   "execution_count": 42,
   "metadata": {},
   "outputs": [
    {
     "data": {
      "image/png": "[encoded data removed]",
      "text/plain": [
       "<Figure size 864x288 with 2 Axes>"
      ]
     },
     "metadata": {
      "needs_background": "light"
     },
     "output_type": "display_data"
    }
   ],
   "source": [
    "f, ax = plt.subplots(1, 2, figsize=(12, 4))\n",
    "\n",
    "ax[0].hist(cl.galcat['et'],bins=50)\n",
    "ax[0].set_xlabel('$\\\\epsilon_t$',fontsize='xx-large')\n",
    "\n",
    "ax[1].hist(cl.galcat['ex'],bins=50)\n",
    "ax[1].set_xlabel('$\\\\epsilon_x$',fontsize='xx-large')\n",
    "ax[1].set_yscale('log')"
   ]
  },
  {
   "cell_type": "markdown",
   "metadata": {},
   "source": [
    "Compute transversal and cross shear profiles in units defined by user, using defaults binning "
   ]
  },
  {
   "cell_type": "markdown",
   "metadata": {},
   "source": [
    "### 3.2 Compute shear profile in radial bins\n",
    "Given the separations in \"radians\" computed in the previous step, the user may ask for a binned profile in various projected distance units.\n",
    "#### 3.2.1 Default binning\n",
    "- default binning using kpc:"
   ]
  },
  {
   "cell_type": "code",
   "execution_count": 43,
   "metadata": {},
   "outputs": [
    {
     "name": "stdout",
     "output_type": "stream",
     "text": [
      "    radius_min           radius           radius_max             p_0                 p_0_err                   p_1                  p_1_err                p_2               p_2_err        n_src\n",
      "------------------ ------------------ ------------------ -------------------- ---------------------- ----------------------- ---------------------- ------------------ -------------------- -----\n",
      " 131.3648378768848 451.01133345952394  677.5461492193622  0.07208518688117287   0.004694541375201062 -0.00016925869333434204  0.0011000793565216149  1.222896445006983  0.12844444485565748    21\n",
      " 677.5461492193622  972.2181077508907 1223.7274605618397  0.04207244961030847  0.0017945580348523624  -0.0007876463485997606  0.0005998816473962802 1.4023019102286884  0.10813989271744935    58\n",
      "1223.7274605618397 1506.0612685580734 1769.9087719043173  0.02575086033739259  0.0012470522887013467  0.00047819227899725955  0.0005662987828426931 1.3389171705998106  0.09924231620450047    56\n",
      "1769.9087719043173 2071.4648763809446 2316.0900832467946 0.018320437587285836  0.0006181715705694405     0.00088494693205468  0.0004628471139274575 1.2367077204545602  0.06902759510501168   119\n",
      "2316.0900832467946  2612.334474343091  2862.271394589272 0.014130734079921001  0.0005070660791473952   0.0005388531713315584 0.00037686127085368365 1.2393657543576873 0.059428467191669894   152\n",
      " 2862.271394589272 3114.3626139408866 3408.4527059317497 0.012447873205656086 0.00043453245611355167  0.00029311190046662366 0.00035024126450940824 1.1727023425793115 0.048209532138478076   160\n",
      "3408.4527059317497 3688.4513688308575  3954.634017274227 0.008647853212842624 0.00037328525587525013   0.0006949553048192968  0.0003524768757978509  1.250810515648566  0.05317505434774777   200\n",
      " 3954.634017274227  4186.382224810304  4500.815328616704 0.008150645211317553  0.0004411291693142806   9.217530928784282e-05 0.00044302551433150734 1.2080516435098572  0.06165461377049568   142\n",
      " 4500.815328616704  4721.821376535352  5046.996639959182 0.007015535796053761   0.000643539410263352  -0.0005519593496975705  0.0005217166594912132 1.1238353949676112  0.07955484625900448    68\n",
      " 5046.996639959182  5242.154439139299  5593.177951301659 0.007522393791050124  0.0009558034507759165  -0.0010686396362951866  0.0008272182663913986 1.0969988511344206   0.0787043963470885    24\n"
     ]
    }
   ],
   "source": [
    "profiles = make_radial_profile([cl.galcat['et'], cl.galcat['ex'], cl.galcat['z']],\n",
    "                                    angsep=cl.galcat['theta'], angsep_units=\"radians\",\n",
    "                                    bin_units=\"kpc\", cosmo=cosmo, z_lens=cl.z)\n",
    "profiles.pprint(max_width=-1)\n",
    "#profiles.show_in_notebook()"
   ]
  },
  {
   "cell_type": "markdown",
   "metadata": {},
   "source": [
    "Note that, because this function bins a generic number of quantities in the radial profile, its output table names the quantities as `p_i` and errors as `p_i_err`."
   ]
  },
  {
   "cell_type": "markdown",
   "metadata": {},
   "source": [
    "#### 3.1.2 Using `GalaxyCluster` object\n",
    "The output `GCData` corresponding to the binning profiled is attached as a new attribute of the galaxy cluster object."
   ]
  },
  {
   "cell_type": "code",
   "execution_count": 44,
   "metadata": {},
   "outputs": [
    {
     "name": "stdout",
     "output_type": "stream",
     "text": [
      "    radius_min           radius           radius_max              gt                  gt_err                    gx                   gx_err                 z                 z_err         n_src\n",
      "------------------ ------------------ ------------------ -------------------- ---------------------- ----------------------- ---------------------- ------------------ -------------------- -----\n",
      " 131.3648378768848 451.01133345952394  677.5461492193622  0.07208518688117287   0.004694541375201062 -0.00016925869333434204  0.0011000793565216149  1.222896445006983  0.12844444485565748    21\n",
      " 677.5461492193622  972.2181077508907 1223.7274605618397  0.04207244961030847  0.0017945580348523624  -0.0007876463485997606  0.0005998816473962802 1.4023019102286884  0.10813989271744935    58\n",
      "1223.7274605618397 1506.0612685580734 1769.9087719043173  0.02575086033739259  0.0012470522887013467  0.00047819227899725955  0.0005662987828426931 1.3389171705998106  0.09924231620450047    56\n",
      "1769.9087719043173 2071.4648763809446 2316.0900832467946 0.018320437587285836  0.0006181715705694405     0.00088494693205468  0.0004628471139274575 1.2367077204545602  0.06902759510501168   119\n",
      "2316.0900832467946  2612.334474343091  2862.271394589272 0.014130734079921001  0.0005070660791473952   0.0005388531713315584 0.00037686127085368365 1.2393657543576873 0.059428467191669894   152\n",
      " 2862.271394589272 3114.3626139408866 3408.4527059317497 0.012447873205656086 0.00043453245611355167  0.00029311190046662366 0.00035024126450940824 1.1727023425793115 0.048209532138478076   160\n",
      "3408.4527059317497 3688.4513688308575  3954.634017274227 0.008647853212842624 0.00037328525587525013   0.0006949553048192968  0.0003524768757978509  1.250810515648566  0.05317505434774777   200\n",
      " 3954.634017274227  4186.382224810304  4500.815328616704 0.008150645211317553  0.0004411291693142806   9.217530928784282e-05 0.00044302551433150734 1.2080516435098572  0.06165461377049568   142\n",
      " 4500.815328616704  4721.821376535352  5046.996639959182 0.007015535796053761   0.000643539410263352  -0.0005519593496975705  0.0005217166594912132 1.1238353949676112  0.07955484625900448    68\n",
      " 5046.996639959182  5242.154439139299  5593.177951301659 0.007522393791050124  0.0009558034507759165  -0.0010686396362951866  0.0008272182663913986 1.0969988511344206   0.0787043963470885    24\n"
     ]
    }
   ],
   "source": [
    "cl.make_radial_profile(\"kpc\", cosmo=cosmo)\n",
    "cl.profile.pprint(max_width=-1)\n",
    "#cl.profile.show_in_notebook()"
   ]
  },
  {
   "cell_type": "markdown",
   "metadata": {},
   "source": [
    "You can see that this `profile` table contains metadata regarding the comology and bin units"
   ]
  },
  {
   "cell_type": "code",
   "execution_count": 45,
   "metadata": {},
   "outputs": [
    {
     "name": "stdout",
     "output_type": "stream",
     "text": [
      "Cosmology: AstroPyCosmology(H0=70.0, Omega_dm0=0.22500000000000003, Omega_b0=0.045, Omega_k0=0.0)\n",
      "bin units: kpc\n"
     ]
    }
   ],
   "source": [
    "print('Cosmology:', cl.profile.meta['cosmo'])\n",
    "print('bin units:', cl.profile.meta['bin_units'])"
   ]
  },
  {
   "cell_type": "markdown",
   "metadata": {},
   "source": [
    "Use function to plot the profiles"
   ]
  },
  {
   "cell_type": "code",
   "execution_count": 46,
   "metadata": {},
   "outputs": [
    {
     "data": {
      "image/png": "[encoded data removed]",
      "text/plain": [
       "<Figure size 432x288 with 1 Axes>"
      ]
     },
     "metadata": {
      "needs_background": "light"
     },
     "output_type": "display_data"
    }
   ],
   "source": [
    "fig, ax = cl.plot_profiles(xscale='log')"
   ]
  },
  {
   "cell_type": "markdown",
   "metadata": {},
   "source": [
    "- default binning using degrees:"
   ]
  },
  {
   "cell_type": "code",
   "execution_count": 47,
   "metadata": {},
   "outputs": [
    {
     "data": {
      "image/png": "[encoded data removed]",
      "text/plain": [
       "<Figure size 432x288 with 1 Axes>"
      ]
     },
     "metadata": {
      "needs_background": "light"
     },
     "output_type": "display_data"
    }
   ],
   "source": [
    "new_profiles = cl.make_radial_profile(\"degrees\",cosmo=cosmo)\n",
    "fig1, ax1 = cl.plot_profiles()"
   ]
  },
  {
   "cell_type": "markdown",
   "metadata": {},
   "source": [
    "#### 3.2.2 User-defined binning \n",
    "The users may also provide their own binning, in user-defined units, to compute the transversal and cross shear profiles. The `make_bins` function is provided in `utils.py` and allow for various options. \n",
    "\n",
    "- e.g., generate 20 bins between 1 and 6 Mpc, linearly spaced."
   ]
  },
  {
   "cell_type": "code",
   "execution_count": 48,
   "metadata": {},
   "outputs": [
    {
     "data": {
      "image/png": "[encoded data removed]",
      "text/plain": [
       "<Figure size 432x288 with 1 Axes>"
      ]
     },
     "metadata": {
      "needs_background": "light"
     },
     "output_type": "display_data"
    }
   ],
   "source": [
    "new_bins = make_bins(1, 6, nbins=20, method='evenwidth')\n",
    "\n",
    "# Make the shear profile in this binning\n",
    "new_profiles = cl.make_radial_profile(\"Mpc\",\n",
    "                                  bins=new_bins, cosmo=cosmo)\n",
    "\n",
    "fig1, ax1 = cl.plot_profiles()"
   ]
  },
  {
   "cell_type": "markdown",
   "metadata": {},
   "source": [
    "- e.g., generate 20 bins between 1 and 6 Mpc, evenly spaced in log space."
   ]
  },
  {
   "cell_type": "code",
   "execution_count": 49,
   "metadata": {},
   "outputs": [
    {
     "data": {
      "image/png": "[encoded data removed]",
      "text/plain": [
       "<Figure size 432x288 with 1 Axes>"
      ]
     },
     "metadata": {
      "needs_background": "light"
     },
     "output_type": "display_data"
    }
   ],
   "source": [
    "new_bins = make_bins(1, 6, nbins=20, method='evenlog10width')\n",
    "\n",
    "new_profiles = cl.make_radial_profile(\"Mpc\",\n",
    "                                  bins=new_bins, cosmo=cosmo)\n",
    "fig1, ax1 = cl.plot_profiles()\n",
    "ax1.set_xscale('log')"
   ]
  },
  {
   "cell_type": "markdown",
   "metadata": {},
   "source": [
    "- e.g., generate 20 bins between 1 and 6 Mpc, each contaning the same number of galaxies"
   ]
  },
  {
   "cell_type": "code",
   "execution_count": 50,
   "metadata": {},
   "outputs": [
    {
     "name": "stdout",
     "output_type": "stream",
     "text": [
      "number of galaxies in each bin: [48, 47, 47, 47, 47, 47, 48, 47, 47, 47, 47, 47, 47, 48, 47, 47, 47, 47, 47, 48]\n"
     ]
    },
    {
     "data": {
      "image/png": "[encoded data removed]",
      "text/plain": [
       "<Figure size 432x288 with 1 Axes>"
      ]
     },
     "metadata": {
      "needs_background": "light"
     },
     "output_type": "display_data"
    }
   ],
   "source": [
    "# First, convert the source separation table to Mpc\n",
    "seps = u.convert_units(cl.galcat[\"theta\"], \"radians\", \"Mpc\", redshift=cl.z, cosmo=cosmo)\n",
    "\n",
    "new_bins = make_bins(1, 6, nbins=20, method='equaloccupation', source_seps=seps)\n",
    "new_profiles = cl.make_radial_profile(\"Mpc\",bins=new_bins, cosmo=cosmo)\n",
    "\n",
    "print(f\"number of galaxies in each bin: {list(cl.profile['n_src'])}\")\n",
    "fig1, ax1 = cl.plot_profiles()"
   ]
  },
  {
   "cell_type": "markdown",
   "metadata": {},
   "source": [
    "#### 3.2.3 Other individual profile quantities may also be accessed "
   ]
  },
  {
   "cell_type": "code",
   "execution_count": 51,
   "metadata": {},
   "outputs": [
    {
     "data": {
      "image/png": "[encoded data removed]",
      "text/plain": [
       "<Figure size 432x288 with 1 Axes>"
      ]
     },
     "metadata": {
      "needs_background": "light"
     },
     "output_type": "display_data"
    }
   ],
   "source": [
    "plt.title('Average redshift in radial bins')\n",
    "plt.errorbar(new_profiles['radius'], new_profiles['z'],\n",
    "             new_profiles['z_err'], marker = 'o')\n",
    "plt.axhline(cl.z, linestyle='dotted', color='r')\n",
    "plt.text(1, cl.z*1.1, '$z_{cl}$', color='r')\n",
    "plt.xlabel(\"Radius [Mpc]\")\n",
    "plt.ylabel('$\\langle z\\\\rangle$')\n",
    "plt.show()"
   ]
  },
  {
   "cell_type": "markdown",
   "metadata": {},
   "source": [
    "## 4. Focus on some options\n",
    "### 4.1. `gal_ids_in_bins` option \n",
    "adds a `gal_id` field to the profile GCData. For each bin of the profile, this is filled with the list of galaxy IDs for the galaxies that have fallen in that bin."
   ]
  },
  {
   "cell_type": "code",
   "execution_count": 61,
   "metadata": {},
   "outputs": [
    {
     "name": "stdout",
     "output_type": "stream",
     "text": [
      "    radius_min           radius           radius_max              gt                 gt_err                   gx                   gx_err                z                 z_err        n_src                                                                                                                                             gal_id                                                                                                                                           \n",
      "------------------ ------------------ ------------------ ------------------- --------------------- ----------------------- --------------------- ------------------ ------------------- ----- ---------------------------------------------------------------------------------------------------------------------------------------------------------------------------------------------------------------------------------------------------------------------------------------------\n",
      "0.1313648378768848  0.451011333459524 0.6775461492193622 0.07208518688117287  0.004694541375201062 -0.00016925869333434204 0.0011000793565216149  1.222896445006983 0.12844444485565748    21                                                                                                                                                                                         [4, 26, 80, 107, 181, 410, 418, 437, 506, 614, 652, 721, 772, 787, 790, 820, 831, 862, 905, 952, 964]\n",
      "0.6775461492193622 0.9722181077508906 1.2237274605618396 0.04207244961030847 0.0017945580348523624  -0.0007876463485997606 0.0005998816473962802 1.4023019102286884 0.10813989271744935    58 [11, 37, 41, 56, 59, 100, 103, 128, 160, 166, 174, 237, 238, 263, 282, 318, 363, 409, 420, 421, 445, 449, 453, 455, 472, 476, 515, 552, 577, 582, 586, 587, 637, 706, 757, 765, 768, 777, 788, 789, 791, 798, 805, 808, 818, 827, 836, 839, 855, 874, 915, 923, 930, 957, 979, 984, 990, 995]\n"
     ]
    }
   ],
   "source": [
    "cl.make_radial_profile(\"Mpc\", cosmo=cosmo, gal_ids_in_bins=True)\n",
    "cl.profile[:2].pprint(max_width=-1)\n",
    "#cl.profile[:2].show_in_notebook()"
   ]
  },
  {
   "cell_type": "code",
   "execution_count": 53,
   "metadata": {},
   "outputs": [
    {
     "name": "stdout",
     "output_type": "stream",
     "text": [
      "[4, 26, 80, 107, 181, 410, 418, 437, 506, 614, 652, 721, 772, 787, 790, 820, 831, 862, 905, 952, 964]\n"
     ]
    }
   ],
   "source": [
    "# Here the list of galaxy IDs that are in the first bin of the tangential shear profile\n",
    "import numpy as np\n",
    "gal_list = cl.profile['gal_id'][0]\n",
    "print(gal_list)"
   ]
  },
  {
   "cell_type": "markdown",
   "metadata": {},
   "source": [
    "### 4.2. User-defined naming scheme\n",
    "The user may specify which columns to use from the `galcat` table to perform the binned average. If none is specified, the code looks for columns names `et` and `ex`. Below, we average in bins the columns`e_tan` and `e_cross` of `galcat` and store the results in the columns `g_tan` and `g_cross` of the `profile` table of the cluster object."
   ]
  },
  {
   "cell_type": "code",
   "execution_count": 54,
   "metadata": {},
   "outputs": [
    {
     "name": "stdout",
     "output_type": "stream",
     "text": [
      "    radius_min           radius           radius_max            g_tan               g_tan_err                g_cross              g_cross_err               z                 z_err         n_src\n",
      "------------------ ------------------ ------------------ -------------------- ---------------------- ----------------------- ---------------------- ------------------ -------------------- -----\n",
      " 131.3648378768848 451.01133345952394  677.5461492193622  0.07208518688117287   0.004694541375201062 -0.00016925869333434204  0.0011000793565216149  1.222896445006983  0.12844444485565748    21\n",
      " 677.5461492193622  972.2181077508907 1223.7274605618397  0.04207244961030847  0.0017945580348523624  -0.0007876463485997606  0.0005998816473962802 1.4023019102286884  0.10813989271744935    58\n",
      "1223.7274605618397 1506.0612685580734 1769.9087719043173  0.02575086033739259  0.0012470522887013467  0.00047819227899725955  0.0005662987828426931 1.3389171705998106  0.09924231620450047    56\n",
      "1769.9087719043173 2071.4648763809446 2316.0900832467946 0.018320437587285836  0.0006181715705694405     0.00088494693205468  0.0004628471139274575 1.2367077204545602  0.06902759510501168   119\n",
      "2316.0900832467946  2612.334474343091  2862.271394589272 0.014130734079921001  0.0005070660791473952   0.0005388531713315584 0.00037686127085368365 1.2393657543576873 0.059428467191669894   152\n",
      " 2862.271394589272 3114.3626139408866 3408.4527059317497 0.012447873205656086 0.00043453245611355167  0.00029311190046662366 0.00035024126450940824 1.1727023425793115 0.048209532138478076   160\n",
      "3408.4527059317497 3688.4513688308575  3954.634017274227 0.008647853212842624 0.00037328525587525013   0.0006949553048192968  0.0003524768757978509  1.250810515648566  0.05317505434774777   200\n",
      " 3954.634017274227  4186.382224810304  4500.815328616704 0.008150645211317553  0.0004411291693142806   9.217530928784282e-05 0.00044302551433150734 1.2080516435098572  0.06165461377049568   142\n",
      " 4500.815328616704  4721.821376535352  5046.996639959182 0.007015535796053761   0.000643539410263352  -0.0005519593496975705  0.0005217166594912132 1.1238353949676112  0.07955484625900448    68\n",
      " 5046.996639959182  5242.154439139299  5593.177951301659 0.007522393791050124  0.0009558034507759165  -0.0010686396362951866  0.0008272182663913986 1.0969988511344206   0.0787043963470885    24\n"
     ]
    }
   ],
   "source": [
    "cl.make_radial_profile(\"kpc\", cosmo=cosmo, \n",
    "                       tan_component_in='e_tan', cross_component_in='e_cross',\n",
    "                       tan_component_out='g_tan', cross_component_out='g_cross');\n",
    "cl.profile.pprint(max_width=-1)\n",
    "#cl.profile.show_in_notebook()"
   ]
  },
  {
   "cell_type": "markdown",
   "metadata": {},
   "source": [
    "The user may also define the name of the output table attribute. Below, we asked the binned profile to be saved into the `reduced_shear_profile` attribute"
   ]
  },
  {
   "cell_type": "code",
   "execution_count": 55,
   "metadata": {},
   "outputs": [
    {
     "name": "stdout",
     "output_type": "stream",
     "text": [
      "    radius_min           radius           radius_max            g_tan               g_tan_err                g_cross              g_cross_err               z                 z_err         n_src\n",
      "------------------ ------------------ ------------------ -------------------- ---------------------- ----------------------- ---------------------- ------------------ -------------------- -----\n",
      " 131.3648378768848 451.01133345952394  677.5461492193622  0.07208518688117287   0.004694541375201062 -0.00016925869333434204  0.0011000793565216149  1.222896445006983  0.12844444485565748    21\n",
      " 677.5461492193622  972.2181077508907 1223.7274605618397  0.04207244961030847  0.0017945580348523624  -0.0007876463485997606  0.0005998816473962802 1.4023019102286884  0.10813989271744935    58\n",
      "1223.7274605618397 1506.0612685580734 1769.9087719043173  0.02575086033739259  0.0012470522887013467  0.00047819227899725955  0.0005662987828426931 1.3389171705998106  0.09924231620450047    56\n",
      "1769.9087719043173 2071.4648763809446 2316.0900832467946 0.018320437587285836  0.0006181715705694405     0.00088494693205468  0.0004628471139274575 1.2367077204545602  0.06902759510501168   119\n",
      "2316.0900832467946  2612.334474343091  2862.271394589272 0.014130734079921001  0.0005070660791473952   0.0005388531713315584 0.00037686127085368365 1.2393657543576873 0.059428467191669894   152\n",
      " 2862.271394589272 3114.3626139408866 3408.4527059317497 0.012447873205656086 0.00043453245611355167  0.00029311190046662366 0.00035024126450940824 1.1727023425793115 0.048209532138478076   160\n",
      "3408.4527059317497 3688.4513688308575  3954.634017274227 0.008647853212842624 0.00037328525587525013   0.0006949553048192968  0.0003524768757978509  1.250810515648566  0.05317505434774777   200\n",
      " 3954.634017274227  4186.382224810304  4500.815328616704 0.008150645211317553  0.0004411291693142806   9.217530928784282e-05 0.00044302551433150734 1.2080516435098572  0.06165461377049568   142\n",
      " 4500.815328616704  4721.821376535352  5046.996639959182 0.007015535796053761   0.000643539410263352  -0.0005519593496975705  0.0005217166594912132 1.1238353949676112  0.07955484625900448    68\n",
      " 5046.996639959182  5242.154439139299  5593.177951301659 0.007522393791050124  0.0009558034507759165  -0.0010686396362951866  0.0008272182663913986 1.0969988511344206   0.0787043963470885    24\n"
     ]
    }
   ],
   "source": [
    "cl.make_radial_profile(\"kpc\", cosmo=cosmo, \n",
    "                       tan_component_in='e_tan', cross_component_in='e_cross',\n",
    "                       tan_component_out='g_tan', cross_component_out='g_cross',\n",
    "                       table_name='reduced_shear_profile');\n",
    "cl.reduced_shear_profile.pprint(max_width=-1)\n",
    "#cl.reduced_shear_profile.show_in_notebook()"
   ]
  },
  {
   "cell_type": "markdown",
   "metadata": {},
   "source": [
    "### 4.3 Compute a DeltaSigma profile instead of a shear profile\n",
    "\n",
    "The `is_deltasigma` option allows the user to return a cross and tangential $\\Delta\\Sigma$ (excess surface density) value for each galaxy in the catalog, provided `galcat` contains the redshifts of the galaxies and provided a cosmology is passed to the function. The columns `DeltaSigma_tan` and `DeltaSigma_cross` are added to the `galcat` table."
   ]
  },
  {
   "cell_type": "code",
   "execution_count": 56,
   "metadata": {},
   "outputs": [
    {
     "data": {
      "text/plain": [
       "GalaxyCluster Awesome_cluster: (ra=0.0, dec=0.0) at z=0.3\n",
       "> 1000 source galaxies\n",
       "> With columns: ra dec e1 e2 z ztrue pzbins pzpdf id theta et ex e_tan e_cross sigma_c DeltaSigma_tan DeltaSigma_cross"
      ]
     },
     "execution_count": 56,
     "metadata": {},
     "output_type": "execute_result"
    }
   ],
   "source": [
    "cl.compute_tangential_and_cross_components(geometry=\"flat\",\n",
    "                                                      shape_component1='e1', shape_component2='e2', \n",
    "                                                      tan_component='DeltaSigma_tan', cross_component='DeltaSigma_cross',\n",
    "                                                      add=True, cosmo=cosmo, is_deltasigma=True)\n",
    "cl"
   ]
  },
  {
   "cell_type": "markdown",
   "metadata": {},
   "source": [
    "Because this operation required a Cosmology, it was added to `galcat` metadata:"
   ]
  },
  {
   "cell_type": "code",
   "execution_count": 57,
   "metadata": {},
   "outputs": [
    {
     "data": {
      "text/plain": [
       "'AstroPyCosmology(H0=70.0, Omega_dm0=0.22500000000000003, Omega_b0=0.045, Omega_k0=0.0)'"
      ]
     },
     "execution_count": 57,
     "metadata": {},
     "output_type": "execute_result"
    }
   ],
   "source": [
    "cl.galcat.meta['cosmo']"
   ]
  },
  {
   "cell_type": "markdown",
   "metadata": {},
   "source": [
    "The binned profile is obtained, as before. Below, we use the values obtained from the previous step to compute the binned profile. The latter is saved in a new `DeltaSigma_profile` table of the GalaxyCluster object."
   ]
  },
  {
   "cell_type": "code",
   "execution_count": 62,
   "metadata": {},
   "outputs": [
    {
     "name": "stdout",
     "output_type": "stream",
     "text": [
      "    radius_min           radius           radius_max       DeltaSigma_tan   DeltaSigma_tan_err   DeltaSigma_cross  DeltaSigma_cross_err         z                 z_err         n_src\n",
      "------------------ ------------------ ------------------ ------------------ ------------------ ------------------- -------------------- ------------------ -------------------- -----\n",
      "0.1313648378768848  0.451011333459524 0.6775461492193622 207180675859833.56 11616330452432.521   166079903736.6583   3172206834620.0522  1.222896445006983  0.12844444485565748    21\n",
      "0.6775461492193622 0.9722181077508906 1.2237274605618396 117074269315367.62  3116424613418.446 -2867232486059.8433   2001573218669.1782 1.4023019102286884  0.10813989271744935    58\n",
      "1.2237274605618396  1.506061268558074  1.769908771904317  72576487172525.44  2811294528910.756   1283008536768.433   1720372958606.6567 1.3389171705998106  0.09924231620450047    56\n",
      " 1.769908771904317  2.071464876380945 2.3160900832467943 59259642448889.016    4194488149736.2   4201681153040.916   2099167601332.7573 1.2367077204545602  0.06902759510501168   119\n",
      "2.3160900832467943  2.612334474343092 2.8622713945892717   42214140585703.2 1569668392368.8062  2855122992920.7373   1479663042889.9722 1.2393657543576873 0.059428467191669894   152\n",
      "2.8622713945892717  3.114362613940888  3.408452705931749 38969291051688.414 1650214906352.7832   864282027073.1624   1526442098103.2402 1.1727023425793115 0.048209532138478076   160\n",
      " 3.408452705931749  3.688451368830858 3.9546340172742265   18452315173486.3  6627333857122.406  -43058360429683.47    44733706742861.93  1.250810515648566  0.05317505434774777   200\n",
      "3.9546340172742265  4.186382224810306  4.500815328616704 25734470851209.934  1780366340234.945   908754428759.7489   1491839018607.8145 1.2080516435098572  0.06165461377049568   142\n",
      " 4.500815328616704  4.721821376535355  5.046996639959182 21136121506943.125 2165983143884.0198  -731514737636.8917   2074952323615.1523 1.1238353949676112  0.07955484625900448    68\n",
      " 5.046996639959182  5.242154439139299  5.593177951301659 21230045824876.965 2717808240761.2324  -3434324596219.054   2280494132816.2554 1.0969988511344206   0.0787043963470885    24\n"
     ]
    },
    {
     "name": "stderr",
     "output_type": "stream",
     "text": [
      "/Users/combet/anaconda3/envs/clmmenv/lib/python3.8/site-packages/clmm-0.9.0-py3.8.egg/clmm/galaxycluster.py:297: UserWarning: overwriting DeltaSigma_profile table.\n"
     ]
    }
   ],
   "source": [
    "cl.make_radial_profile(\"Mpc\", cosmo=cosmo, \n",
    "                       tan_component_in='DeltaSigma_tan', cross_component_in='DeltaSigma_cross',\n",
    "                       tan_component_out='DeltaSigma_tan', cross_component_out='DeltaSigma_cross',\n",
    "                       table_name='DeltaSigma_profile').pprint(max_width=-1)\n",
    "# cl.make_radial_profile(\"Mpc\", cosmo=cosmo, \n",
    "#                        tan_component_in='DeltaSigma_tan', cross_component_in='DeltaSigma_cross',\n",
    "#                        tan_component_out='DeltaSigma_tan', cross_component_out='DeltaSigma_cross',\n",
    "#                        table_name='DeltaSigma_profile').show_in_notebook()"
   ]
  },
  {
   "cell_type": "code",
   "execution_count": 59,
   "metadata": {},
   "outputs": [
    {
     "name": "stdout",
     "output_type": "stream",
     "text": [
      "    radius_min           radius           radius_max       DeltaSigma_tan   DeltaSigma_tan_err   DeltaSigma_cross  DeltaSigma_cross_err         z                 z_err         n_src\n",
      "------------------ ------------------ ------------------ ------------------ ------------------ ------------------- -------------------- ------------------ -------------------- -----\n",
      "0.1313648378768848  0.451011333459524 0.6775461492193622 207180675859833.56 11616330452432.521   166079903736.6583   3172206834620.0522  1.222896445006983  0.12844444485565748    21\n",
      "0.6775461492193622 0.9722181077508906 1.2237274605618396 117074269315367.62  3116424613418.446 -2867232486059.8433   2001573218669.1782 1.4023019102286884  0.10813989271744935    58\n",
      "1.2237274605618396  1.506061268558074  1.769908771904317  72576487172525.44  2811294528910.756   1283008536768.433   1720372958606.6567 1.3389171705998106  0.09924231620450047    56\n",
      " 1.769908771904317  2.071464876380945 2.3160900832467943 59259642448889.016    4194488149736.2   4201681153040.916   2099167601332.7573 1.2367077204545602  0.06902759510501168   119\n",
      "2.3160900832467943  2.612334474343092 2.8622713945892717   42214140585703.2 1569668392368.8062  2855122992920.7373   1479663042889.9722 1.2393657543576873 0.059428467191669894   152\n",
      "2.8622713945892717  3.114362613940888  3.408452705931749 38969291051688.414 1650214906352.7832   864282027073.1624   1526442098103.2402 1.1727023425793115 0.048209532138478076   160\n",
      " 3.408452705931749  3.688451368830858 3.9546340172742265   18452315173486.3  6627333857122.406  -43058360429683.47    44733706742861.93  1.250810515648566  0.05317505434774777   200\n",
      "3.9546340172742265  4.186382224810306  4.500815328616704 25734470851209.934  1780366340234.945   908754428759.7489   1491839018607.8145 1.2080516435098572  0.06165461377049568   142\n",
      " 4.500815328616704  4.721821376535355  5.046996639959182 21136121506943.125 2165983143884.0198  -731514737636.8917   2074952323615.1523 1.1238353949676112  0.07955484625900448    68\n",
      " 5.046996639959182  5.242154439139299  5.593177951301659 21230045824876.965 2717808240761.2324  -3434324596219.054   2280494132816.2554 1.0969988511344206   0.0787043963470885    24\n"
     ]
    }
   ],
   "source": [
    "cl.DeltaSigma_profile.pprint(max_width=-1)\n",
    "#cl.DeltaSigma_profile.show_in_notebook()"
   ]
  },
  {
   "cell_type": "code",
   "execution_count": 60,
   "metadata": {},
   "outputs": [
    {
     "data": {
      "image/png": "[encoded data removed]",
      "text/plain": [
       "<Figure size 432x288 with 1 Axes>"
      ]
     },
     "metadata": {
      "needs_background": "light"
     },
     "output_type": "display_data"
    }
   ],
   "source": [
    "plt.errorbar(cl.DeltaSigma_profile['radius'], cl.DeltaSigma_profile['DeltaSigma_tan'],\n",
    "             cl.DeltaSigma_profile['DeltaSigma_tan_err'], marker = 'o')\n",
    "plt.title('DeltaSigma profile')\n",
    "plt.xlabel(\"Radius [Mpc]\")\n",
    "plt.ylabel('$\\Delta\\Sigma [M_\\odot\\; Mpc^{-2}]$')\n",
    "plt.show()"
   ]
  }
 ],
 "metadata": {
  "kernelspec": {
   "display_name": "Python 3",
   "language": "python",
   "name": "python3"
  },
  "language_info": {
   "codemirror_mode": {
    "name": "ipython",
    "version": 3
   },
   "file_extension": ".py",
   "mimetype": "text/x-python",
   "name": "python",
   "nbconvert_exporter": "python",
   "pygments_lexer": "ipython3",
   "version": "3.8.6"
  }
 },
 "nbformat": 4,
 "nbformat_minor": 4
}
