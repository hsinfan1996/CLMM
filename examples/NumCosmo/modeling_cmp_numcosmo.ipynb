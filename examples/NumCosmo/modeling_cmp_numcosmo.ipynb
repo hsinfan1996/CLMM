{
 "cells": [
  {
   "cell_type": "markdown",
   "metadata": {},
   "source": [
    "# Comparing CLMM to NumCosmo\n",
    "This notebook compares `CLMM` to `NumCosmo`."
   ]
  },
  {
   "cell_type": "code",
   "execution_count": null,
   "metadata": {},
   "outputs": [],
   "source": [
    "import numpy as np\n",
    "import cluster_toolkit as ct\n",
    "from astropy import constants, cosmology, units\n",
    "import math"
   ]
  },
  {
   "cell_type": "code",
   "execution_count": null,
   "metadata": {},
   "outputs": [],
   "source": [
    "# For NumCosmo\n",
    "import gi\n",
    "gi.require_version('NumCosmo', '1.0')\n",
    "gi.require_version('NumCosmoMath', '1.0')\n",
    "from gi.repository import NumCosmo as Nc\n",
    "from gi.repository import NumCosmoMath as Ncm"
   ]
  },
  {
   "cell_type": "code",
   "execution_count": null,
   "metadata": {},
   "outputs": [],
   "source": [
    "import sys\n",
    "import os\n",
    "\n",
    "os.environ['CLMM_MODELING_BACKEND'] = 'ccl'\n",
    "\n",
    "from clmm import theory as pp"
   ]
  },
  {
   "cell_type": "markdown",
   "metadata": {},
   "source": [
    "## Configuration"
   ]
  },
  {
   "cell_type": "markdown",
   "metadata": {},
   "source": [
    "### Cosmology"
   ]
  },
  {
   "cell_type": "code",
   "execution_count": null,
   "metadata": {},
   "outputs": [],
   "source": [
    "# If CCL is installed, define a CCL cosmology object\n",
    "# import pyccl as ccl\n",
    "# cosmo_ccl = ccl.Cosmology(Omega_c=0.27, Omega_b=0.045, h=0.67, A_s=2.1e-9, n_s=0.96)\n",
    "\n",
    "# If CCL is not installed, use astropy instead with the following lines\n",
    "#from astropy.cosmology import FlatLambdaCDM\n",
    "#astropy_cosmology_object = FlatLambdaCDM(H0=70, Om0=0.27, Ob0=0.045)\n",
    "#cosmo_ccl = pp.cclify_astropy_cosmo(astropy_cosmology_object)\n",
    "\n",
    "cosmo_ccl = pp.Cosmology (H0 = 70.0, Omega_dm0 = 0.27 - 0.045, Omega_b0 = 0.045)\n"
   ]
  },
  {
   "cell_type": "markdown",
   "metadata": {},
   "source": [
    "### Cluster/source config"
   ]
  },
  {
   "cell_type": "code",
   "execution_count": null,
   "metadata": {},
   "outputs": [],
   "source": [
    "# Select density profile and profile parametrization options\n",
    "density_profile_parametrization = 'nfw'\n",
    "mass_Delta            = 200    # Mass defintion: mean matter density\n",
    "cluster_mass          = 1.0e15 # Msun\n",
    "cluster_concentration = 4.0\n",
    "z_max                 = 3.0\n",
    "z_cluster             = 1.0\n",
    "z_source              = 2.0"
   ]
  },
  {
   "cell_type": "markdown",
   "metadata": {},
   "source": [
    "### Vectors for inputs"
   ]
  },
  {
   "cell_type": "code",
   "execution_count": null,
   "metadata": {},
   "outputs": [],
   "source": [
    "z_a = np.linspace (0.01, 3.0, 1000)\n",
    "a_a = 1.0 / (1.0 + z_a)\n",
    "r3d = np.logspace (-2, 2, 100)"
   ]
  },
  {
   "cell_type": "markdown",
   "metadata": {},
   "source": [
    "### NumCosmo\n",
    "Pass configs to `NumCosmo`"
   ]
  },
  {
   "cell_type": "code",
   "execution_count": null,
   "metadata": {},
   "outputs": [],
   "source": [
    "#########################\n",
    "# Initializing NumCosmo #\n",
    "#########################\n",
    "Ncm.cfg_init ()\n",
    "\n",
    "##################\n",
    "# Set Cosmology ##\n",
    "##################\n",
    "cosmo = Nc.HICosmo.new_from_name (Nc.HICosmo, \"NcHICosmoDEXcdm\")\n",
    "cosmo.omega_x2omega_k ()\n",
    "\n",
    "cosmo.props.w  = -1.0\n",
    "cosmo.props.H0 = cosmo_ccl['H0']\n",
    "\n",
    "cosmo.param_set_by_name (\"H0\",     cosmo_ccl['H0'])\n",
    "cosmo.param_set_by_name (\"Omegab\", cosmo_ccl['Omega_b0'])\n",
    "cosmo.param_set_by_name (\"Omegac\", cosmo_ccl['Omega_dm0'])\n",
    "cosmo.param_set_by_name (\"w\",      -1.0)\n",
    "cosmo.param_set_by_name (\"Omegak\",  0.0)\n",
    "cosmo.param_set_by_name (\"Tgamma0\", 0.0)\n",
    "\n",
    "##########################\n",
    "# Config Cluster/Source ##\n",
    "##########################\n",
    "\n",
    "# NumCosmo Density profile\n",
    "dp                   = Nc.HaloDensityProfileNFW.new (Nc.HaloDensityProfileMassDef.MEAN, mass_Delta)\n",
    "dp.props.log10MDelta = math.log10 (cluster_mass)\n",
    "dp.props.cDelta      = cluster_concentration\n",
    "\n",
    "dist = Nc.Distance.new (z_max)\n",
    "smd  = Nc.WLSurfaceMassDensity.new (dist)\n",
    "\n",
    "smd.prepare (cosmo)"
   ]
  },
  {
   "cell_type": "markdown",
   "metadata": {},
   "source": [
    "## Comparisons"
   ]
  },
  {
   "cell_type": "markdown",
   "metadata": {},
   "source": [
    "### Function to make automatic comparisons"
   ]
  },
  {
   "cell_type": "code",
   "execution_count": null,
   "metadata": {},
   "outputs": [],
   "source": [
    "import pylab as plt\n",
    "def compare(x, y_clmm, y_nc, x_name='x', y_name='func', subplots_pars={'figsize':(6, 4)}):\n",
    "    clmm_name, nc_name = '%s_{clmm}'%y_name, '%s_{nc}'%y_name\n",
    "    diff = y_nc/y_clmm - 1.\n",
    "    print('rel diff min: %g\\nrel diff max: %g'%(min(abs(diff)), max(abs(diff))))\n",
    "    fig, axs = plt.subplots(2, sharex=True, **subplots_pars)\n",
    "    fig.subplots_adjust(hspace=0)\n",
    "    \n",
    "    axs[0].plot(x, y_clmm, label='clmm', lw=3)\n",
    "    axs[0].plot(x, y_nc, label='nc')\n",
    "    axs[1].plot(x, diff, c='r')\n",
    "    axs[1].axhline(0, ls=':', c='0', lw=.5)\n",
    "\n",
    "    axs[0].legend()\n",
    "    axs[0].set_ylabel('$%s$'%y_name)\n",
    "    axs[1].set_xlabel('$%s$'%x_name)\n",
    "    axs[1].set_ylabel('$%s/%s-1$'%(nc_name, clmm_name))\n",
    "    \n",
    "    return fig, axs"
   ]
  },
  {
   "cell_type": "markdown",
   "metadata": {},
   "source": [
    "### Quick test of all theory function"
   ]
  },
  {
   "cell_type": "code",
   "execution_count": null,
   "metadata": {},
   "outputs": [],
   "source": [
    "Da_a    = cosmo_ccl.eval_da_a1a2(a_a)\n",
    "nc_Da_a = np.array ([dist.angular_diameter (cosmo, z) * cosmo.RH_Mpc () for z in  z_a])\n",
    "\n",
    "fig, axs = compare (z_a, Da_a, nc_Da_a, x_name='redshift', y_name='D_a(z)')\n",
    "axs[0].set_yscale ('log')\n"
   ]
  },
  {
   "cell_type": "code",
   "execution_count": null,
   "metadata": {},
   "outputs": [],
   "source": [
    "rho    = pp.compute_3d_density (r3d, mdelta = cluster_mass, cdelta = cluster_concentration,\n",
    "                            z_cl = z_cluster, cosmo = cosmo_ccl, delta_mdef = mass_Delta)\n",
    "nc_rho = np.array ([dp.eval_density (cosmo, r3d_i, z_cluster) for r3d_i in r3d])\n",
    "\n",
    "fig, axs = compare(r3d, rho, nc_rho, x_name='radius [Mpc]', y_name='\\\\rho')\n",
    "axs[0].set_xscale('log')"
   ]
  },
  {
   "cell_type": "code",
   "execution_count": null,
   "metadata": {},
   "outputs": [],
   "source": [
    "Sigma    = pp.compute_surface_density (r3d, cluster_mass, cluster_concentration, z_cl=z_cluster,\n",
    "                                       cosmo=cosmo_ccl, delta_mdef=mass_Delta, \n",
    "                                       halo_profile_model='nfw')\n",
    "nc_Sigma = np.array ([smd.sigma (dp, cosmo, r3d_i, z_cluster) for r3d_i in r3d])\n",
    "\n",
    "fig, axs = compare (r3d, Sigma, nc_Sigma, x_name='radius [Mpc]', y_name='\\\\Sigma')\n",
    "axs[0].set_xscale ('log')"
   ]
  },
  {
   "cell_type": "code",
   "execution_count": null,
   "metadata": {},
   "outputs": [],
   "source": [
    "DeltaSigma    = pp.compute_excess_surface_density(r3d, cluster_mass, cluster_concentration,\n",
    "                                                  z_cl=z_cluster, cosmo=cosmo_ccl, delta_mdef=mass_Delta, \n",
    "                                                  halo_profile_model='nfw')\n",
    "\n",
    "nc_SigmaMean  = np.array ([smd.sigma_mean (dp, cosmo, r3d_i, z_cluster) for r3d_i in r3d])\n",
    "nc_DeltaSigma = nc_SigmaMean - nc_Sigma\n",
    "\n",
    "fig, axs = compare(r3d, DeltaSigma, nc_DeltaSigma, x_name='radius [Mpc]', y_name=r'\\Delta\\Sigma')\n",
    "axs[0].set_xscale('log')"
   ]
  },
  {
   "cell_type": "code",
   "execution_count": null,
   "metadata": {},
   "outputs": [],
   "source": [
    "Sigmac = pp.compute_critical_surface_density (cosmo_ccl, z_cluster = z_cluster, z_source = z_source)\n",
    "nc_Sigmac = smd.sigma_critical (cosmo, z_source, z_cluster, z_cluster)\n",
    "\n",
    "print (\"% 22.15g % 22.15g %e\" % (Sigmac, nc_Sigmac, Sigmac / nc_Sigmac - 1.0))"
   ]
  },
  {
   "cell_type": "code",
   "execution_count": null,
   "metadata": {},
   "outputs": [],
   "source": [
    "gammat    = pp.compute_tangential_shear(r3d, mdelta=cluster_mass, cdelta=cluster_concentration, z_cluster=z_cluster, \n",
    "                                        z_source=z_source, cosmo=cosmo_ccl, delta_mdef=mass_Delta, \n",
    "                                        halo_profile_model='nfw', z_src_model='single_plane')\n",
    "\n",
    "nc_gammat = np.array ([smd.shear (dp, cosmo, r3d_i, z_source, z_cluster, z_cluster) for r3d_i in r3d])\n",
    "\n",
    "fig, axs = compare(r3d, gammat, nc_gammat, x_name='radius [mpc]', y_name=r'{\\gamma_t}')\n",
    "axs[0].set_xscale('log')"
   ]
  },
  {
   "cell_type": "code",
   "execution_count": null,
   "metadata": {},
   "outputs": [],
   "source": [
    "kappa = pp.compute_convergence(r3d, mdelta=cluster_mass, cdelta=cluster_concentration, \n",
    "                               z_cluster=z_cluster, z_source=z_source,\n",
    "                               cosmo=cosmo_ccl, delta_mdef=mass_Delta, \n",
    "                               halo_profile_model='nfw', \n",
    "                               z_src_model='single_plane')\n",
    "\n",
    "nc_kappa = np.array ([smd.convergence (dp, cosmo, r3d_i, z_source, z_cluster, z_cluster) for r3d_i in r3d])\n",
    "\n",
    "fig, axs = compare(r3d, kappa, nc_kappa, x_name='radius [mpc]', y_name=r'\\kappa')\n",
    "axs[0].set_xscale('log')\n"
   ]
  },
  {
   "cell_type": "code",
   "execution_count": null,
   "metadata": {},
   "outputs": [],
   "source": [
    "gt = pp.compute_reduced_tangential_shear(r3d, mdelta=cluster_mass, cdelta=cluster_concentration, \n",
    "                                         z_cluster=z_cluster, z_source=z_source, cosmo=cosmo_ccl, delta_mdef=mass_Delta, \n",
    "                                         halo_profile_model='nfw', z_src_model='single_plane')\n",
    "nc_gt = np.array ([smd.reduced_shear (dp, cosmo, r3d_i, z_source, z_cluster, z_cluster) for r3d_i in r3d])\n",
    "\n",
    "fig, axs = compare(r3d, gt, nc_gt, x_name='radius [mpc]', y_name=r'{g_t}')\n",
    "axs[0].set_xscale('log')\n",
    "axs[0].set_yscale('symlog')\n"
   ]
  },
  {
   "cell_type": "code",
   "execution_count": null,
   "metadata": {},
   "outputs": [],
   "source": [
    "nc_mu = np.array ([smd.magnification (dp, cosmo, r3d_i, z_source, z_cluster, z_cluster) for r3d_i in r3d])"
   ]
  },
  {
   "cell_type": "markdown",
   "metadata": {},
   "source": [
    "### Save the numcosmo outputs"
   ]
  },
  {
   "cell_type": "code",
   "execution_count": null,
   "metadata": {},
   "outputs": [],
   "source": [
    "np.savetxt('radial_profiles.txt',\n",
    "           np.array([r3d,  nc_rho, nc_Sigma, nc_DeltaSigma, nc_gammat, nc_kappa, nc_gt, nc_mu]).T,\n",
    "           header='r3d  rho Sigma DeltaSigma gammat kappa gt mu')"
   ]
  },
  {
   "cell_type": "code",
   "execution_count": null,
   "metadata": {},
   "outputs": [],
   "source": [
    "np.savetxt('angular_diameter_distance.txt',\n",
    "           np.array([a_a, z_a, nc_Da_a]).T,\n",
    "           header='a_a z_a Da_a')"
   ]
  },
  {
   "cell_type": "code",
   "execution_count": null,
   "metadata": {},
   "outputs": [],
   "source": [
    "config_dict = {'dl': dist.angular_diameter (cosmo, z_cluster) * cosmo.RH_Mpc (),\n",
    "               'z_source': z_source,\n",
    "               'cluster_mass': cluster_mass,\n",
    "               'G[m3/km.s2]': Ncm.C.G(),\n",
    "               'aexp_cluster': 1./(1.+z_cluster),\n",
    "               'density_profile_parametrization': density_profile_parametrization,\n",
    "               'ds': dist.angular_diameter (cosmo, z_source) * cosmo.RH_Mpc (),\n",
    "               'cosmo_Ob0': cosmo_ccl['Omega_b0'],\n",
    "               'aexp_source': 1./(1.+z_source),\n",
    "               'dsl': dist.angular_diameter_z1_z2 (cosmo, z_cluster, z_source) * cosmo.RH_Mpc (),\n",
    "               'z_cluster': z_cluster,\n",
    "               'mass_Delta': mass_Delta,\n",
    "               'lightspeed[km/s]': Ncm.C.c()/1000.,\n",
    "               'cosmo_H0': cosmo_ccl['H0'],\n",
    "               'cluster_concentration': cluster_concentration,\n",
    "               'cosmo_Om0': cosmo_ccl['Omega_m0'],\n",
    "               'nc_Sigmac': nc_Sigmac,\n",
    "               'Msun[kg]': Ncm.C.mass_solar(),\n",
    "               'pc_to_m': Ncm.C.pc()}\n",
    "\n",
    "import json\n",
    "with open('config.json', 'w') as fp:\n",
    "    json.dump(config_dict, fp)"
   ]
  },
  {
   "cell_type": "code",
   "execution_count": null,
   "metadata": {},
   "outputs": [],
   "source": []
  }
 ],
 "metadata": {
  "kernelspec": {
   "display_name": "Python 3",
   "language": "python",
   "name": "python3"
  },
  "language_info": {
   "codemirror_mode": {
    "name": "ipython",
    "version": 3
   },
   "file_extension": ".py",
   "mimetype": "text/x-python",
   "name": "python",
   "nbconvert_exporter": "python",
   "pygments_lexer": "ipython3",
   "version": "3.8.6"
  }
 },
 "nbformat": 4,
 "nbformat_minor": 2
}
