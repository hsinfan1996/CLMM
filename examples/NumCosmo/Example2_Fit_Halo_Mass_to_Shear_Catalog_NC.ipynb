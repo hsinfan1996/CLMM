{
 "cells": [
  {
   "cell_type": "markdown",
   "metadata": {},
   "source": [
    "# Fit halo mass to shear profile: 2. realistic data\n",
    "\n",
    "_the LSST-DESC CLMM team_\n",
    "\n",
    "\n",
    "This notebook demonstrates how to use `clmm` to estimate a WL halo mass from observations of a galaxy cluster. It uses several functionalities of the support `mock_data` module to produce datasets of increasing complexity. This notebook also demonstrates the bias introduced on the reconstructed mass by a naive fit, when the redshift distribution of the background galaxies is not properly accounted for in the model. Organization of this notebook goes as follows:\n",
    "\n",
    "- Setting things up, with the proper imports.\n",
    "- Generating 3 datasets: an ideal dataset (dataset1) similar to that of Example1 (single source plane); an ideal dataset but with source galaxies following the Chang et al. (2013) redshift distribution (dataset2); a noisy dataset where photoz errors and shape noise are also included (dataset3). \n",
    "- Computing the binned reduced tangential shear profile, for the 3 datasets, using logarithmic binning.\n",
    "- Setting up the \"single source plane\" model to be fitted to the 3 datasets. Only dataset1 has a single source plane, so we expect to see a bias in the reconstructed mass when using this model on datasets 2 and 3. \n",
    "- Perform a simple fit using NumCosmo tools to compute the best-fit and the Fisher Matrix, and visualize the results.\n",
    "- Perform a MCMC analysis using NumCosmo tools and visualize the results.\n",
    "\n",
    "Note that this notebook is equivalent to `Example2_Fit_Halo_Mass_to_Shear_Catalog.ipynb` except for the statistical analysis, where here we use some NumCosmo tools and we fit both the cluster mass and the concentration parameter."
   ]
  },
  {
   "cell_type": "markdown",
   "metadata": {},
   "source": [
    "## Setup"
   ]
  },
  {
   "cell_type": "markdown",
   "metadata": {},
   "source": [
    "First, we import some standard packages."
   ]
  },
  {
   "cell_type": "code",
   "execution_count": 1,
   "metadata": {},
   "outputs": [],
   "source": [
    "# For NumCosmo\n",
    "import os\n",
    "import sys\n",
    "import gi\n",
    "\n",
    "gi.require_version('NumCosmo', '1.0')\n",
    "gi.require_version('NumCosmoMath', '1.0')\n",
    "from gi.repository import GObject\n",
    "from gi.repository import NumCosmo as Nc\n",
    "from gi.repository import NumCosmoMath as Ncm\n",
    "\n",
    "from scipy.stats import chi2\n",
    "import corner\n",
    "\n",
    "os.environ['CLMM_MODELING_BACKEND'] = 'nc'\n",
    "\n",
    "__name__ = \"NcContext\"\n",
    "\n",
    "Ncm.cfg_init ()\n",
    "Ncm.cfg_set_log_handler (lambda msg: sys.stdout.write (msg) and sys.stdout.flush ())"
   ]
  },
  {
   "cell_type": "code",
   "execution_count": 2,
   "metadata": {},
   "outputs": [
    {
     "data": {
      "text/plain": [
       "'0.8.0'"
      ]
     },
     "execution_count": 2,
     "metadata": {},
     "output_type": "execute_result"
    }
   ],
   "source": [
    "try: import clmm\n",
    "except:\n",
    "    import notebook_install\n",
    "    notebook_install.install_clmm_pipeline(upgrade=False)\n",
    "    import clmm\n",
    "import matplotlib.pyplot as plt\n",
    "import numpy as np\n",
    "from numpy import random\n",
    "from clmm.support.sampler import fitters\n",
    "\n",
    "clmm.__version__"
   ]
  },
  {
   "cell_type": "markdown",
   "metadata": {},
   "source": [
    "Next, we import `clmm`'s core modules."
   ]
  },
  {
   "cell_type": "code",
   "execution_count": 3,
   "metadata": {},
   "outputs": [],
   "source": [
    "import clmm.dataops as da\n",
    "import clmm.galaxycluster as gc\n",
    "import clmm.theory as theory\n",
    "from clmm import Cosmology"
   ]
  },
  {
   "cell_type": "markdown",
   "metadata": {},
   "source": [
    "We then import a support modules for a specific data sets.\n",
    "`clmm` includes support modules that enable the user to generate mock data in a format compatible with `clmm`."
   ]
  },
  {
   "cell_type": "code",
   "execution_count": 4,
   "metadata": {},
   "outputs": [],
   "source": [
    "from clmm.support import mock_data as mock"
   ]
  },
  {
   "cell_type": "markdown",
   "metadata": {},
   "source": [
    "## Making mock data"
   ]
  },
  {
   "cell_type": "markdown",
   "metadata": {},
   "source": [
    "For reproducibility:"
   ]
  },
  {
   "cell_type": "code",
   "execution_count": 5,
   "metadata": {},
   "outputs": [],
   "source": [
    "np.random.seed(11)"
   ]
  },
  {
   "cell_type": "markdown",
   "metadata": {},
   "source": [
    "To create mock data, we need to define a true cosmology."
   ]
  },
  {
   "cell_type": "code",
   "execution_count": 6,
   "metadata": {},
   "outputs": [],
   "source": [
    "mock_cosmo = Cosmology(H0 = 70.0, Omega_dm0 = 0.27 - 0.045, Omega_b0 = 0.045, Omega_k0 = 0.0)"
   ]
  },
  {
   "cell_type": "markdown",
   "metadata": {},
   "source": [
    "We now set some parameters for a mock galaxy cluster."
   ]
  },
  {
   "cell_type": "code",
   "execution_count": 7,
   "metadata": {},
   "outputs": [],
   "source": [
    "cosmo = mock_cosmo\n",
    "cluster_m = 1.e15 # M200,m [Msun]\n",
    "cluster_z = 0.3   # Cluster's redshift\n",
    "concentration = 4\n",
    "ngals = 10000     # Number of galaxies\n",
    "Delta = 200\n",
    "cluster_ra = 0.0\n",
    "cluster_dec = 0.0"
   ]
  },
  {
   "cell_type": "markdown",
   "metadata": {},
   "source": [
    "Then we use the `mock_data` support module to generate 3 galaxy catalogs:\n",
    "- `ideal_data`: all background galaxies at the same redshift.\n",
    "- `ideal_data_z`: galaxies distributed according to the Chang et al. (2013) redshift distribution.\n",
    "- `noisy_data_z`: `ideal_data_z` + photoz errors + shape noise"
   ]
  },
  {
   "cell_type": "code",
   "execution_count": 8,
   "metadata": {},
   "outputs": [
    {
     "name": "stderr",
     "output_type": "stream",
     "text": [
      "/home/mariana/Projects/CLMM/build/lib/clmm/theory/func_layer.py:354: UserWarning: Some source redshifts are lower than the cluster redshift. kappa = 0 for those galaxies.\n",
      "  warnings.warn(f'Some source redshifts are lower than the cluster redshift. kappa = 0 for those galaxies.')\n"
     ]
    }
   ],
   "source": [
    "ideal_data = mock.generate_galaxy_catalog(cluster_m, cluster_z, concentration, cosmo, 0.8, ngals=ngals)\n",
    "ideal_data_z = mock.generate_galaxy_catalog(cluster_m, cluster_z, concentration, cosmo,'chang13', ngals=ngals)\n",
    "noisy_data_z = mock.generate_galaxy_catalog(cluster_m, cluster_z, concentration, cosmo, 'chang13', \n",
    "                                            shapenoise=0.05, \n",
    "                                            photoz_sigma_unscaled=0.05, ngals=ngals)"
   ]
  },
  {
   "cell_type": "markdown",
   "metadata": {},
   "source": [
    "The galaxy catalogs are converted to a `clmm.GalaxyCluster` object and may be saved for later use."
   ]
  },
  {
   "cell_type": "code",
   "execution_count": 9,
   "metadata": {},
   "outputs": [],
   "source": [
    "cluster_id = \"CL_ideal\"\n",
    "gc_object = clmm.GalaxyCluster(cluster_id, cluster_ra, cluster_dec,\n",
    "                               cluster_z, ideal_data)\n",
    "gc_object.save('ideal_GC.pkl')\n",
    "\n",
    "cluster_id = \"CL_ideal_z\"\n",
    "gc_object = clmm.GalaxyCluster(cluster_id, cluster_ra, cluster_dec,\n",
    "                               cluster_z, ideal_data_z)\n",
    "gc_object.save('ideal_GC_z.pkl')\n",
    "\n",
    "cluster_id = \"CL_noisy_z\"\n",
    "gc_object = clmm.GalaxyCluster(cluster_id, cluster_ra, cluster_dec,\n",
    "                               cluster_z, noisy_data_z)\n",
    "gc_object.save('noisy_GC_z.pkl')"
   ]
  },
  {
   "cell_type": "markdown",
   "metadata": {},
   "source": [
    "Any saved `clmm.GalaxyCluster` object may be read in for analysis."
   ]
  },
  {
   "cell_type": "code",
   "execution_count": 10,
   "metadata": {},
   "outputs": [
    {
     "name": "stdout",
     "output_type": "stream",
     "text": [
      "Cluster info = ID: CL_ideal_z ; ra: 0.0 ; dec: 0.0 ; z_l : 0.3\n",
      "The number of source galaxies is : 10000\n"
     ]
    }
   ],
   "source": [
    "cl1 = clmm.GalaxyCluster.load('ideal_GC.pkl') # all background galaxies at the same redshift\n",
    "cl2 = clmm.GalaxyCluster.load('ideal_GC_z.pkl') # background galaxies distributed according to Chang et al. (2013)\n",
    "cl3 = clmm.GalaxyCluster.load('noisy_GC_z.pkl') # same as cl2 but with photoz error and shape noise\n",
    "\n",
    "print(\"Cluster info = ID:\", cl2.unique_id, \"; ra:\", cl2.ra, \"; dec:\", cl2.dec, \"; z_l :\", cl2.z)\n",
    "print(\"The number of source galaxies is :\", len(cl2.galcat))"
   ]
  },
  {
   "cell_type": "code",
   "execution_count": 11,
   "metadata": {},
   "outputs": [
    {
     "data": {
      "image/png": "[encoded data removed]",
      "text/plain": [
       "<Figure size 432x288 with 1 Axes>"
      ]
     },
     "metadata": {
      "needs_background": "light"
     },
     "output_type": "display_data"
    }
   ],
   "source": [
    "h = plt.hist(cl2.galcat['z'], bins=50)"
   ]
  },
  {
   "cell_type": "markdown",
   "metadata": {},
   "source": [
    "## Deriving observables"
   ]
  },
  {
   "cell_type": "markdown",
   "metadata": {},
   "source": [
    "### Computing shear"
   ]
  },
  {
   "cell_type": "markdown",
   "metadata": {},
   "source": [
    "`clmm.dataops.compute_tangential_and_cross_components` calculates the tangential and cross shears for each source galaxy in the cluster."
   ]
  },
  {
   "cell_type": "code",
   "execution_count": 12,
   "metadata": {},
   "outputs": [],
   "source": [
    "theta1, g_t1, g_x1 = cl1.compute_tangential_and_cross_components(geometry=\"flat\")\n",
    "theta2, g_t2, g_x2 = cl2.compute_tangential_and_cross_components(geometry=\"flat\")\n",
    "theta3, g_t3, g_x3 = cl3.compute_tangential_and_cross_components(geometry=\"flat\")"
   ]
  },
  {
   "cell_type": "markdown",
   "metadata": {},
   "source": [
    "### Radially binning the data"
   ]
  },
  {
   "cell_type": "code",
   "execution_count": 13,
   "metadata": {},
   "outputs": [],
   "source": [
    "bin_edges = da.make_bins(0.7, 4, 15, method='evenlog10width')"
   ]
  },
  {
   "cell_type": "markdown",
   "metadata": {},
   "source": [
    "`clmm.dataops.make_radial_profile` evaluates the average shear of the galaxy catalog in bins of radius."
   ]
  },
  {
   "cell_type": "code",
   "execution_count": 14,
   "metadata": {},
   "outputs": [],
   "source": [
    "profile1 = cl1.make_radial_profile(\"Mpc\", bins=bin_edges,cosmo=cosmo)\n",
    "profile2 = cl2.make_radial_profile(\"Mpc\", bins=bin_edges,cosmo=cosmo)\n",
    "profile3 = cl3.make_radial_profile(\"Mpc\", bins=bin_edges,cosmo=cosmo)"
   ]
  },
  {
   "cell_type": "markdown",
   "metadata": {},
   "source": [
    "After running `clmm.dataops.make_radial_profile` on a `clmm.GalaxyCluster` object, the object acquires the `clmm.GalaxyCluster.profile` attribute."
   ]
  },
  {
   "cell_type": "code",
   "execution_count": 15,
   "metadata": {},
   "outputs": [
    {
     "name": "stdout",
     "output_type": "stream",
     "text": [
      "radius_min   radius  radius_max     gt      gt_err      gx       gx_err      z       z_err     n_src  \n",
      "---------- --------- ---------- --------- --------- ---------- --------- --------- --------- ---------\n",
      " 7.000e-01 7.446e-01  7.863e-01 4.353e-02 1.310e-04  1.122e-18 8.188e-19 8.000e-01 2.916e-17 5.800e+01\n",
      " 7.863e-01 8.403e-01  8.831e-01 3.984e-02 1.099e-04  5.055e-19 4.608e-19 8.000e-01 2.394e-17 8.600e+01\n",
      " 8.831e-01 9.395e-01  9.920e-01 3.654e-02 1.001e-04 -8.674e-20 3.030e-19 8.000e-01 3.417e-17 9.500e+01\n",
      " 9.920e-01 1.052e+00  1.114e+00 3.332e-02 8.489e-05 -1.651e-19 4.658e-19 8.000e-01 1.933e-17 1.320e+02\n",
      " 1.114e+00 1.187e+00  1.251e+00 3.003e-02 7.147e-05 -5.078e-19 5.545e-19 8.000e-01 1.807e-17 1.510e+02\n",
      " 1.251e+00 1.331e+00  1.406e+00 2.708e-02 6.600e-05 -4.658e-20 3.316e-19 8.000e-01 1.718e-17 1.670e+02\n",
      " 1.406e+00 1.495e+00  1.579e+00 2.426e-02 5.243e-05  5.056e-19 3.138e-19 8.000e-01 0.000e+00 2.350e+02\n",
      " 1.579e+00 1.677e+00  1.773e+00 2.165e-02 3.908e-05  3.655e-21 2.141e-19 8.000e-01 5.995e-18 3.430e+02\n",
      " 1.773e+00 1.887e+00  1.992e+00 1.917e-02 3.431e-05  2.922e-19 1.562e-19 8.000e-01 0.000e+00 4.010e+02\n",
      " 1.992e+00 2.119e+00  2.237e+00 1.692e-02 2.751e-05 -1.892e-19 1.166e-19 8.000e-01 0.000e+00 4.990e+02\n",
      " 2.237e+00 2.377e+00  2.513e+00 1.489e-02 2.158e-05  2.277e-20 1.005e-19 8.000e-01 8.623e-18 6.630e+02\n",
      " 2.513e+00 2.672e+00  2.823e+00 1.301e-02 1.844e-05  5.799e-20 7.480e-20 8.000e-01 0.000e+00 7.800e+02\n",
      " 2.823e+00 2.999e+00  3.171e+00 1.135e-02 1.421e-05  1.188e-19 5.225e-20 8.000e-01 0.000e+00 1.042e+03\n",
      " 3.171e+00 3.369e+00  3.561e+00 9.842e-03 1.130e-05 -3.104e-20 4.638e-20 8.000e-01 3.078e-18 1.301e+03\n",
      " 3.561e+00 3.781e+00  4.000e+00 8.509e-03 8.960e-06  7.327e-21 3.498e-20 8.000e-01 2.738e-18 1.644e+03\n"
     ]
    }
   ],
   "source": [
    "for n in cl1.profile.colnames: cl1.profile[n].format = \"%6.3e\"\n",
    "cl1.profile.pprint(max_width=-1)"
   ]
  },
  {
   "cell_type": "markdown",
   "metadata": {},
   "source": [
    "We visualize the radially binned shear for the 3 configurations"
   ]
  },
  {
   "cell_type": "code",
   "execution_count": 16,
   "metadata": {},
   "outputs": [
    {
     "data": {
      "text/plain": [
       "<matplotlib.legend.Legend at 0x7f4fbb3ae970>"
      ]
     },
     "execution_count": 16,
     "metadata": {},
     "output_type": "execute_result"
    },
    {
     "data": {
      "image/png": "[encoded data removed]",
      "text/plain": [
       "<Figure size 720x432 with 1 Axes>"
      ]
     },
     "metadata": {
      "needs_background": "light"
     },
     "output_type": "display_data"
    }
   ],
   "source": [
    "fig = plt.figure(figsize=(10, 6))\n",
    "\n",
    "\n",
    "fsize = 14\n",
    "fig.gca().errorbar(profile1['radius'], profile1['gt'], yerr=profile1['gt_err'], marker='o', label='z_src = 0.8')\n",
    "fig.gca().errorbar(profile2['radius'], profile2['gt'], yerr=profile2['gt_err'], marker='o', \n",
    "                   label='z_src = Chang et al. (2013)')\n",
    "fig.gca().errorbar(profile3['radius'], profile3['gt'], yerr=profile3['gt_err'], marker='o', \n",
    "                   label='z_src = Chang et al. (2013) + photoz err  + shape noise')\n",
    "\n",
    "plt.gca().set_title(r'Binned shear of source galaxies', fontsize=fsize)\n",
    "plt.gca().set_xlabel(r'$r\\;[Mpc]$', fontsize=fsize)\n",
    "plt.gca().set_ylabel(r'$g_t$', fontsize=fsize)\n",
    "plt.legend()"
   ]
  },
  {
   "cell_type": "markdown",
   "metadata": {},
   "source": [
    "### Fitting a halo mass - highlighting bias when not accounting for the source redshift distribution in the model"
   ]
  },
  {
   "cell_type": "markdown",
   "metadata": {},
   "source": [
    "We estimate the best-fit mass using a simple implementation of the likelihood using a NcmDataGaussDiag object.\n",
    "\n",
    "Here, to build the model we make the WRONG assumption that the average shear in bin $i$ equals the shear at the average redshift in the bin; i.e. we assume that $\\langle g_t\\rangle_i = g_t(\\langle z\\rangle_i)$. This should not impact `cluster 1` as all sources are located at the same redshift. However, this yields a bias in the constructed mass for `cluster 2` and `cluster 3`, where the sources followed the Chang et al. (2013) distribution."
   ]
  },
  {
   "cell_type": "markdown",
   "metadata": {},
   "source": [
    "As expected, the reconstructed mass is biased whenever the sources are not located at a single redshift as this was not accounted for in the model."
   ]
  },
  {
   "cell_type": "markdown",
   "metadata": {},
   "source": [
    "## Create the halo model\n",
    "\n",
    "Here we model using the OO inteface, we also use NumCosmo statistical framework to perform the analysis. Below we create an object based on NumCosmo NcmDataGaussDiag (Gaussian likelihood with a diagonal covariance matrix) object. To connect with the C interface the object must implement the methods: `do_get_length`, `do_get_dof`, `do_begin`, `do_prepare` and `do_mean_func`. The last method is responsible to compute the theoretical predictions. In the param_set_ftype calls below one can change between FREE/FIXED to include/exclude the parameter from the analysis. \n",
    "\n",
    "Remember that here we are building the wrong model."
   ]
  },
  {
   "cell_type": "code",
   "execution_count": 17,
   "metadata": {},
   "outputs": [
    {
     "data": {
      "text/plain": [
       "NcContext.GaussGammaTErr"
      ]
     },
     "execution_count": 17,
     "metadata": {},
     "output_type": "execute_result"
    }
   ],
   "source": [
    "class GaussGammaTErr (Ncm.DataGaussDiag):\n",
    "    z_cluster = GObject.Property (type = float, flags = GObject.PARAM_READWRITE)\n",
    "    z_source  = GObject.Property (type = Ncm.Vector, flags = GObject.PARAM_READWRITE)\n",
    "    r_source  = GObject.Property (type = Ncm.Vector, flags = GObject.PARAM_READWRITE)\n",
    "    z_err     = GObject.Property (type = Ncm.Vector, flags = GObject.PARAM_READWRITE)\n",
    "\n",
    "    def __init__ (self):\n",
    "        Ncm.DataGaussDiag.__init__ (self, n_points = 0)        \n",
    "        self.moo = clmm.Modeling ()\n",
    "    \n",
    "    def init_from_data (self, z_cluster, r_source, z_source, gt_profile, gt_err, z_err = None, moo = None):\n",
    "        \n",
    "        if moo:\n",
    "            self.moo = moo\n",
    "        \n",
    "        assert len (gt_profile) == len (z_source)\n",
    "        assert len (gt_profile) == len (r_source)\n",
    "        assert len (gt_profile) == len (gt_err)\n",
    "        \n",
    "        self.set_size (len (gt_profile))\n",
    "        \n",
    "        self.props.z_cluster = z_cluster\n",
    "        self.props.z_source  = Ncm.Vector.new_array (z_source)\n",
    "        self.props.r_source  = Ncm.Vector.new_array (r_source)\n",
    "        if z_err:\n",
    "            self.props.r_source  = Ncm.Vector.new_array (z_err)\n",
    "                \n",
    "        self.y.set_array (gt_profile)\n",
    "        \n",
    "        self.sigma.set_array (gt_err) # Diagonal covariance matrix: standard deviation values in gt_err.\n",
    "\n",
    "        \n",
    "        self.set_init (True)        \n",
    "    \n",
    "    # Once the NcmDataGaussDiag is initialized, its parent class variable np is set with the n_points value.\n",
    "    def do_get_length (self):\n",
    "        return self.np\n",
    "\n",
    "    def do_get_dof (self):\n",
    "        return self.np\n",
    "\n",
    "    def do_begin (self):\n",
    "        pass\n",
    "\n",
    "    def do_prepare (self, mset):\n",
    "        self.moo.set_mset (mset)\n",
    "        \n",
    "    def do_mean_func (self, mset, vp):\n",
    "        vp.set_array (self.moo.eval_reduced_shear (self.props.r_source.dup_array (), self.props.z_cluster, self.props.z_source.dup_array ()))\n",
    "        return\n",
    "\n",
    "GObject.type_register (GaussGammaTErr)\n"
   ]
  },
  {
   "cell_type": "markdown",
   "metadata": {},
   "source": [
    "Defining the model set (NcmMset), data set (NcmDataset) and NcmLikelihood objects to carry out a statistical analysis. \n",
    "\n",
    "The method `param_set_ftype` defines the parameters that can be fitted: `mid` - to which model set the parameter belongs to, `pid` - parameters' id, NcmParamType (FREE or FIXED) to say if the parameter will be fitted or not."
   ]
  },
  {
   "cell_type": "code",
   "execution_count": 18,
   "metadata": {},
   "outputs": [],
   "source": [
    "moo1 = clmm.Modeling (massdef = 'mean', delta_mdef = 200, halo_profile_model = 'nfw')\n",
    "moo1.set_cosmo (cosmo)\n",
    "\n",
    "moo2 = clmm.Modeling (massdef = 'mean', delta_mdef = 200, halo_profile_model = 'nfw')\n",
    "moo2.set_cosmo (cosmo)\n",
    "\n",
    "moo3 = clmm.Modeling (massdef = 'mean', delta_mdef = 200, halo_profile_model = 'nfw')\n",
    "moo3.set_cosmo (cosmo)\n",
    "\n",
    "ggt1 = GaussGammaTErr ()\n",
    "ggt2 = GaussGammaTErr ()\n",
    "ggt3 = GaussGammaTErr ()\n",
    "\n",
    "ggt1.init_from_data (z_cluster = cluster_z, r_source = profile1['radius'], z_source = profile1['z'], gt_profile = profile1['gt'], gt_err = profile1['gt_err'], moo = moo1)\n",
    "ggt2.init_from_data (z_cluster = cluster_z, r_source = profile2['radius'], z_source = profile2['z'], gt_profile = profile2['gt'], gt_err = profile2['gt_err'], moo = moo2)\n",
    "ggt3.init_from_data (z_cluster = cluster_z, r_source = profile3['radius'], z_source = profile3['z'], gt_profile = profile3['gt'], gt_err = profile3['gt_err'], moo = moo3)\n",
    "\n",
    "mset1 = ggt1.moo.get_mset ()\n",
    "mset2 = ggt2.moo.get_mset ()\n",
    "mset3 = ggt3.moo.get_mset ()\n",
    "\n",
    "#Parameters: cluster mass (log base 10) and concentration\n",
    "MDelta_pi = mset1.param_get_by_full_name (\"NcHaloDensityProfile:log10MDelta\")\n",
    "cDelta_pi = mset1.param_get_by_full_name (\"NcHaloDensityProfile:cDelta\")\n",
    "\n",
    "mset1.param_set_ftype (MDelta_pi.mid, MDelta_pi.pid, Ncm.ParamType.FREE)\n",
    "mset1.param_set_ftype (cDelta_pi.mid, cDelta_pi.pid, Ncm.ParamType.FREE)\n",
    "mset1.prepare_fparam_map ()\n",
    "\n",
    "mset2.param_set_ftype (MDelta_pi.mid, MDelta_pi.pid, Ncm.ParamType.FREE)\n",
    "mset2.param_set_ftype (cDelta_pi.mid, cDelta_pi.pid, Ncm.ParamType.FREE)\n",
    "mset2.prepare_fparam_map ()\n",
    "\n",
    "mset3.param_set_ftype (MDelta_pi.mid, MDelta_pi.pid, Ncm.ParamType.FREE)\n",
    "mset3.param_set_ftype (cDelta_pi.mid, cDelta_pi.pid, Ncm.ParamType.FREE)\n",
    "mset3.prepare_fparam_map ()\n",
    "\n",
    "dset1 = Ncm.Dataset.new ()\n",
    "dset1.append_data (ggt1)\n",
    "lh1 = Ncm.Likelihood.new (dset1)\n",
    "\n",
    "dset2 = Ncm.Dataset.new ()\n",
    "dset2.append_data (ggt2)\n",
    "lh2 = Ncm.Likelihood.new (dset2)\n",
    "\n",
    "dset3 = Ncm.Dataset.new ()\n",
    "dset3.append_data (ggt3)\n",
    "lh3 = Ncm.Likelihood.new (dset3)\n"
   ]
  },
  {
   "cell_type": "markdown",
   "metadata": {},
   "source": [
    "### Fitting parameters: Fisher Matrix\n",
    "\n",
    "The NcmFit object receives the NcmLikelihood and NcmMset objects. The user also indicates the fitting algorithm and the numerical differentiation method.  \n",
    "Functions `run` and `fisher` computes the [best-fit](https://en.wikipedia.org/wiki/Maximum_likelihood_estimation) and the [fisher matrix](https://en.wikipedia.org/wiki/Fisher_information#Multivariate_normal_distribution), respectively. `log_info` prints the complete information about the data used, models and its parameters, and `log_covar` prints the best-fit along with the error-bar and the covariance matrix."
   ]
  },
  {
   "cell_type": "code",
   "execution_count": 19,
   "metadata": {},
   "outputs": [
    {
     "name": "stdout",
     "output_type": "stream",
     "text": [
      "#----------------------------------------------------------------------------------\n",
      "# Model fitting. Interating using:\n",
      "#  - solver:            NLOpt:ln-neldermead\n",
      "#  - differentiation:   Numerical differentiantion (forward)\n",
      "#..............\n",
      "#  Minimum found with precision: |df|/f =  1.00000e-08 and |dx| =  1.00000e-05\n",
      "#  Elapsed time: 00 days, 00:00:00.0096300\n",
      "#  iteration            [000056]\n",
      "#  function evaluations [000058]\n",
      "#  gradient evaluations [000000]\n",
      "#  degrees of freedom   [000013]\n",
      "#  m2lnL     =  0.00502081162003553 (  0.0050208116 )\n",
      "#  Fit parameters:\n",
      "#     3.9953235476808      15.0007832361652    \n",
      "#----------------------------------------------------------------------------------\n",
      "# Data used:\n",
      "#   - NcContext+GaussGammaTErr\n",
      "#----------------------------------------------------------------------------------\n",
      "# Model[01000]:\n",
      "#   - NcHICosmo : XCDM - Constant EOS\n",
      "#----------------------------------------------------------------------------------\n",
      "# Model parameters\n",
      "#   -          H0[00]:  70                  [FIXED]\n",
      "#   -      Omegac[01]:  0.225               [FIXED]\n",
      "#   -      Omegak[02]:  0                   [FIXED]\n",
      "#   -     Tgamma0[03]:  0                   [FIXED]\n",
      "#   -          Yp[04]:  0.24                [FIXED]\n",
      "#   -        ENnu[05]:  3.046               [FIXED]\n",
      "#   -      Omegab[06]:  0.045               [FIXED]\n",
      "#   -           w[07]: -1                   [FIXED]\n",
      "#----------------------------------------------------------------------------------\n",
      "# Model[04000]:\n",
      "#   - NcHaloDensityProfile : NFW Density Profile\n",
      "#----------------------------------------------------------------------------------\n",
      "# Model parameters\n",
      "#   -      cDelta[00]:  3.9953235476808     [FREE]\n",
      "#   - log10MDelta[01]:  15.0007832361652    [FREE]\n",
      "#----------------------------------------------------------------------------------\n",
      "# Model[08000]:\n",
      "#   - NcWLSurfaceMassDensity : WL Surface Mass Density\n",
      "#----------------------------------------------------------------------------------\n",
      "# Model parameters\n",
      "#   -         pcc[00]:  0.8                 [FIXED]\n",
      "#   -        Roff[01]:  1                   [FIXED]\n",
      "#----------------------------------------------------------------------------------\n",
      "# NcmMSet parameters covariance matrix\n",
      "#                                                       -------------------------------\n",
      "#      cDelta[04000:00] =  3.995       +/-  0.009972    |  1           | -0.4877      |\n",
      "# log10MDelta[04000:01] =  15          +/-  0.0003027   | -0.4877      |  1           |\n",
      "#                                                       -------------------------------\n",
      "#----------------------------------------------------------------------------------\n",
      "# Model fitting. Interating using:\n",
      "#  - solver:            NLOpt:ln-neldermead\n",
      "#  - differentiation:   Numerical differentiantion (forward)\n",
      "#...............\n",
      "#  Minimum found with precision: |df|/f =  1.00000e-08 and |dx| =  1.00000e-05\n",
      "#  Elapsed time: 00 days, 00:00:00.0037580\n",
      "#  iteration            [000066]\n",
      "#  function evaluations [000068]\n",
      "#  gradient evaluations [000000]\n",
      "#  degrees of freedom   [000013]\n",
      "#  m2lnL     =     2.73688687623507 (     2.7368869 )\n",
      "#  Fit parameters:\n",
      "#     3.81171853288838     14.9400250978337    \n",
      "#----------------------------------------------------------------------------------\n",
      "# Data used:\n",
      "#   - NcContext+GaussGammaTErr\n",
      "#----------------------------------------------------------------------------------\n",
      "# Model[01000]:\n",
      "#   - NcHICosmo : XCDM - Constant EOS\n",
      "#----------------------------------------------------------------------------------\n",
      "# Model parameters\n",
      "#   -          H0[00]:  70                  [FIXED]\n",
      "#   -      Omegac[01]:  0.225               [FIXED]\n",
      "#   -      Omegak[02]:  0                   [FIXED]\n",
      "#   -     Tgamma0[03]:  0                   [FIXED]\n",
      "#   -          Yp[04]:  0.24                [FIXED]\n",
      "#   -        ENnu[05]:  3.046               [FIXED]\n",
      "#   -      Omegab[06]:  0.045               [FIXED]\n",
      "#   -           w[07]: -1                   [FIXED]\n",
      "#----------------------------------------------------------------------------------\n",
      "# Model[04000]:\n",
      "#   - NcHaloDensityProfile : NFW Density Profile\n",
      "#----------------------------------------------------------------------------------\n",
      "# Model parameters\n",
      "#   -      cDelta[00]:  3.81171853288838    [FREE]\n",
      "#   - log10MDelta[01]:  14.9400250978337    [FREE]\n",
      "#----------------------------------------------------------------------------------\n",
      "# Model[08000]:\n",
      "#   - NcWLSurfaceMassDensity : WL Surface Mass Density\n",
      "#----------------------------------------------------------------------------------\n",
      "# Model parameters\n",
      "#   -         pcc[00]:  0.8                 [FIXED]\n",
      "#   -        Roff[01]:  1                   [FIXED]\n",
      "#----------------------------------------------------------------------------------\n",
      "# NcmMSet parameters covariance matrix\n",
      "#                                                       -------------------------------\n",
      "#      cDelta[04000:00] =  3.812       +/-  0.07116     |  1           | -0.3029      |\n",
      "# log10MDelta[04000:01] =  14.94       +/-  0.001696    | -0.3029      |  1           |\n",
      "#                                                       -------------------------------\n",
      "#----------------------------------------------------------------------------------\n",
      "# Model fitting. Interating using:\n",
      "#  - solver:            NLOpt:ln-neldermead\n",
      "#  - differentiation:   Numerical differentiantion (forward)\n",
      "#..................\n",
      "#  Minimum found with precision: |df|/f =  1.00000e-08 and |dx| =  1.00000e-05\n",
      "#  Elapsed time: 00 days, 00:00:00.0048630\n",
      "#  iteration            [000093]\n",
      "#  function evaluations [000095]\n",
      "#  gradient evaluations [000000]\n",
      "#  degrees of freedom   [000013]\n",
      "#  m2lnL     =     13.0733570914813 (     13.073357 )\n",
      "#  Fit parameters:\n",
      "#     5.0129961761262      14.9199431139839    \n",
      "#----------------------------------------------------------------------------------\n",
      "# Data used:\n",
      "#   - NcContext+GaussGammaTErr\n",
      "#----------------------------------------------------------------------------------\n",
      "# Model[01000]:\n",
      "#   - NcHICosmo : XCDM - Constant EOS\n",
      "#----------------------------------------------------------------------------------\n",
      "# Model parameters\n",
      "#   -          H0[00]:  70                  [FIXED]\n",
      "#   -      Omegac[01]:  0.225               [FIXED]\n",
      "#   -      Omegak[02]:  0                   [FIXED]\n",
      "#   -     Tgamma0[03]:  0                   [FIXED]\n",
      "#   -          Yp[04]:  0.24                [FIXED]\n",
      "#   -        ENnu[05]:  3.046               [FIXED]\n",
      "#   -      Omegab[06]:  0.045               [FIXED]\n",
      "#   -           w[07]: -1                   [FIXED]\n",
      "#----------------------------------------------------------------------------------\n",
      "# Model[04000]:\n",
      "#   - NcHaloDensityProfile : NFW Density Profile\n",
      "#----------------------------------------------------------------------------------\n",
      "# Model parameters\n",
      "#   -      cDelta[00]:  5.0129961761262     [FREE]\n",
      "#   - log10MDelta[01]:  14.9199431139839    [FREE]\n",
      "#----------------------------------------------------------------------------------\n",
      "# Model[08000]:\n",
      "#   - NcWLSurfaceMassDensity : WL Surface Mass Density\n",
      "#----------------------------------------------------------------------------------\n",
      "# Model parameters\n",
      "#   -         pcc[00]:  0.8                 [FIXED]\n",
      "#   -        Roff[01]:  1                   [FIXED]\n",
      "#----------------------------------------------------------------------------------\n",
      "# NcmMSet parameters covariance matrix\n",
      "#                                                       -------------------------------\n",
      "#      cDelta[04000:00] =  5.013       +/-  0.8142      |  1           | -0.7308      |\n",
      "# log10MDelta[04000:01] =  14.92       +/-  0.02727     | -0.7308      |  1           |\n",
      "#                                                       -------------------------------\n"
     ]
    }
   ],
   "source": [
    "fit1 = Ncm.Fit.new (Ncm.FitType.NLOPT, \"ln-neldermead\", lh1, mset1, Ncm.FitGradType.NUMDIFF_FORWARD)\n",
    "fit2 = Ncm.Fit.new (Ncm.FitType.NLOPT, \"ln-neldermead\", lh2, mset2, Ncm.FitGradType.NUMDIFF_FORWARD)\n",
    "fit3 = Ncm.Fit.new (Ncm.FitType.NLOPT, \"ln-neldermead\", lh3, mset3, Ncm.FitGradType.NUMDIFF_FORWARD)\n",
    "\n",
    "fit1.run (Ncm.FitRunMsgs.SIMPLE)\n",
    "fit1.fisher ()\n",
    "fit1.log_info ()\n",
    "fit1.log_covar ()\n",
    "\n",
    "fit2.run (Ncm.FitRunMsgs.SIMPLE)\n",
    "fit2.fisher ()\n",
    "fit2.log_info ()\n",
    "fit2.log_covar ()\n",
    "\n",
    "fit3.run (Ncm.FitRunMsgs.SIMPLE)\n",
    "fit3.fisher ()\n",
    "fit3.log_info ()\n",
    "fit3.log_covar ()"
   ]
  },
  {
   "cell_type": "markdown",
   "metadata": {},
   "source": [
    "## Visualization of the results\n",
    "\n",
    "For visualization purpose, we calculate the reduced tangential shear predicted by the model when using the average redshift of the catalog."
   ]
  },
  {
   "cell_type": "code",
   "execution_count": 20,
   "metadata": {},
   "outputs": [
    {
     "name": "stdout",
     "output_type": "stream",
     "text": [
      " 1.001805095144565e+15 +/- 7e+11  8.710139243072430e+14 +/- 3e+12  8.316548297494131e+14 +/- 5e+13\n"
     ]
    }
   ],
   "source": [
    "rr = np.logspace(-0.5, np.log10(5), 100)\n",
    "\n",
    "gt_model1 = moo1.eval_reduced_shear (rr, cluster_z, np.mean(cl1.galcat['z']))\n",
    "gt_model2 = moo2.eval_reduced_shear (rr, cluster_z, np.mean(cl2.galcat['z']))\n",
    "gt_model3 = moo3.eval_reduced_shear (rr, cluster_z, np.mean(cl3.galcat['z']))\n",
    "\n",
    "m_est1 = 10**mset1.param_get (MDelta_pi.mid, MDelta_pi.pid)\n",
    "m_est2 = 10**mset2.param_get (MDelta_pi.mid, MDelta_pi.pid)\n",
    "m_est3 = 10**mset3.param_get (MDelta_pi.mid, MDelta_pi.pid)\n",
    "\n",
    "# Standard deviation\n",
    "m_est_err1 = fit1.covar_sd (MDelta_pi.mid, MDelta_pi.pid) * m_est1 * math.log (10.0)\n",
    "m_est_err2 = fit2.covar_sd (MDelta_pi.mid, MDelta_pi.pid) * m_est2 * math.log (10.0)\n",
    "m_est_err3 = fit3.covar_sd (MDelta_pi.mid, MDelta_pi.pid) * m_est3 * math.log (10.0)\n",
    "\n",
    "print (\"% 22.15e +/- %.0e % 22.15e +/- %.0e % 22.15e +/- %.0e\" % (m_est1, m_est_err1, m_est2, m_est_err2, m_est3, m_est_err3))"
   ]
  },
  {
   "cell_type": "markdown",
   "metadata": {},
   "source": [
    "We visualize that prediction of reduced tangential shears along with the data"
   ]
  },
  {
   "cell_type": "code",
   "execution_count": 21,
   "metadata": {},
   "outputs": [
    {
     "data": {
      "image/png": "[encoded data removed]",
      "text/plain": [
       "<Figure size 1152x432 with 2 Axes>"
      ]
     },
     "metadata": {
      "needs_background": "light"
     },
     "output_type": "display_data"
    }
   ],
   "source": [
    "fig, axes = plt.subplots(nrows=1, ncols=2, figsize=(16, 6))\n",
    "\n",
    "axes[0].errorbar(profile1['radius'], profile1['gt'],profile1['gt_err'], color='red',\n",
    "                 label='ideal_data, M_input = %.3e Msun' % cluster_m, fmt='.')\n",
    "axes[0].plot(rr, gt_model1,color='red',\n",
    "             label='best fit model 1, M_fit = %.2e +/- %.2e' % (m_est1, m_est_err1))\n",
    "\n",
    "\n",
    "axes[0].errorbar(profile2['radius'], profile2['gt'],profile2['gt_err'], color='green',\n",
    "                  label='ideal_data_z, M_input = %.3e Msun' % cluster_m, fmt='.')\n",
    "axes[0].plot(rr, gt_model2, color='green',\n",
    "               label='best fit model 2, M_fit = %.2e +/- %.2e' % (m_est2, m_est_err2))\n",
    "axes[0].set_title('Ideal data w/wo src redshift distribution',fontsize=fsize)\n",
    "axes[0].semilogx()\n",
    "axes[0].semilogy()\n",
    "axes[0].legend(fontsize=fsize)\n",
    "axes[0].set_xlabel('R [Mpc]', fontsize=fsize)\n",
    "axes[0].set_ylabel('reduced tangential shear', fontsize=fsize)\n",
    "\n",
    "axes[1].errorbar(profile3['radius'], profile3['gt'],profile3['gt_err'], color='red',\n",
    "                label='noisy_data_z, M_input = %.3e Msun' % cluster_m, fmt='.')\n",
    "axes[1].plot(rr, gt_model3,color='red',\n",
    "             label='best fit model 3, M_fit = %.2e +/- %.2e' % (m_est3, m_est_err3))\n",
    "axes[1].set_title('Noisy data with src redshift distribution',fontsize=fsize)\n",
    "axes[1].semilogx()\n",
    "axes[1].semilogy()\n",
    "axes[1].legend(fontsize=fsize)\n",
    "axes[1].set_xlabel('R [Mpc]', fontsize=fsize)\n",
    "axes[1].set_ylabel('reduced tangential shear', fontsize=fsize)\n",
    "\n",
    "fig.tight_layout()"
   ]
  },
  {
   "cell_type": "markdown",
   "metadata": {},
   "source": [
    "### To investigate further the results we make a MCMC analysis below.\n",
    "\n",
    "We begin by specifying if the run is single- or multi-thread: `func_eval_set_max_threads` sets the maximum number of threads, and `func_eval_log_pool_stats` prints the information about the thread pool.\n",
    "\n",
    "Then, we initialize the transition kernel object (NcmMSetTransKern) which defines the distribution of the initial points of the parameter space to be used by the ensemble sampler. In this example we use the Gaussian transition kernel (NcmMSetTransKernGauss), with priors provided by the NcmMset (`set_prior_from_mset`). `set_cov_from_rescale` sets the covariance matrix with zero correlation and the diagonal terms defined by the scale of each parameter times the argument of `set_cov_from_rescale`. \n",
    "\n",
    "Here we use the Ensemble Sampler MCMC (ESMCMC) method. `nwalkers` and `walker` define the number of walkers and the algorithm used to move the points in the ensemble. \n",
    "Running: `start_run`, `run_lre` and `end_run`. `run_lre` runs the ESMCMC until the relative error of the mean of each parameter is smaller than $10^{-3}$. Its first argument (integer) indicates how many ensembles are computed before applying any convergence test.\n",
    "\n",
    "In the end we save the catalog to mcat_wrong to compare with a correct analysis."
   ]
  },
  {
   "cell_type": "code",
   "execution_count": 22,
   "metadata": {},
   "outputs": [
    {
     "name": "stdout",
     "output_type": "stream",
     "text": [
      "# NcmThreadPool:Unused:      0\n",
      "# NcmThreadPool:Max Unused:  2\n",
      "# NcmThreadPool:Running:     0\n",
      "# NcmThreadPool:Unprocessed: 0\n",
      "# NcmThreadPool:Unused:      0\n",
      "#----------------------------------------------------------------------------------\n",
      "# NcmFitESMCMC: Starting Ensamble Sampler Markov Chain Monte Carlo.\n",
      "#   Number of walkers: 0100.\n",
      "#   Number of threads: 0000.\n",
      "#----------------------------------------------------------------------------------\n",
      "# NcmFitESMCMC: Skipping 29400 points (294.000000 iterations), will start at 29401-th point.\n",
      "#----------------------------------------------------------------------------------\n",
      "# NcmFitESMCMC: validating catalog rows [26600, 26700)\n",
      "# NcmFitESMCMC: Catalog row 26600: m2lnL =     17.0234908680929, recalculated to     17.0234908680929, diff = 0.00000e+00, SUCCEEDED!\n",
      "# NcmFitESMCMC: Catalog row 26601: m2lnL =     16.7927730755956, recalculated to     16.7927730755956, diff = 0.00000e+00, SUCCEEDED!\n",
      "# NcmFitESMCMC: Catalog row 26602: m2lnL =      15.400724030842, recalculated to      15.400724030842, diff = 0.00000e+00, SUCCEEDED!\n",
      "# NcmFitESMCMC: Catalog row 26603: m2lnL =     13.6106462487258, recalculated to     13.6106462487258, diff = 0.00000e+00, SUCCEEDED!\n",
      "# NcmFitESMCMC: Catalog row 26604: m2lnL =     16.6790870198809, recalculated to     16.6790870198809, diff = 0.00000e+00, SUCCEEDED!\n",
      "# NcmFitESMCMC: Catalog row 26605: m2lnL =     15.2124155772256, recalculated to     15.2124155772256, diff = 0.00000e+00, SUCCEEDED!\n",
      "# NcmFitESMCMC: Catalog row 26606: m2lnL =     14.0904306116557, recalculated to     14.0904306116557, diff = 0.00000e+00, SUCCEEDED!\n",
      "# NcmFitESMCMC: Catalog row 26607: m2lnL =     13.7948970163144, recalculated to     13.7948970163144, diff = 0.00000e+00, SUCCEEDED!\n",
      "# NcmFitESMCMC: Catalog row 26608: m2lnL =     13.7446509753163, recalculated to     13.7446509753163, diff = 0.00000e+00, SUCCEEDED!\n",
      "# NcmFitESMCMC: Catalog row 26609: m2lnL =     13.2394170027496, recalculated to     13.2394170027496, diff = 0.00000e+00, SUCCEEDED!\n",
      "# NcmFitESMCMC: Catalog row 26610: m2lnL =      17.294564985215, recalculated to      17.294564985215, diff = 0.00000e+00, SUCCEEDED!\n",
      "# NcmFitESMCMC: Catalog row 26611: m2lnL =      14.681682014245, recalculated to      14.681682014245, diff = 0.00000e+00, SUCCEEDED!\n",
      "# NcmFitESMCMC: Catalog row 26612: m2lnL =     17.0449062437462, recalculated to     17.0449062437462, diff = 0.00000e+00, SUCCEEDED!\n",
      "# NcmFitESMCMC: Catalog row 26613: m2lnL =     13.1654604957853, recalculated to     13.1654604957853, diff = 0.00000e+00, SUCCEEDED!\n",
      "# NcmFitESMCMC: Catalog row 26614: m2lnL =     14.5749918492221, recalculated to     14.5749918492221, diff = 0.00000e+00, SUCCEEDED!\n",
      "# NcmFitESMCMC: Catalog row 26615: m2lnL =     13.9190297501527, recalculated to     13.9190297501527, diff = 0.00000e+00, SUCCEEDED!\n",
      "# NcmFitESMCMC: Catalog row 26616: m2lnL =     14.4559681201116, recalculated to     14.4559681201116, diff = 0.00000e+00, SUCCEEDED!\n",
      "# NcmFitESMCMC: Catalog row 26617: m2lnL =     14.3014161590089, recalculated to     14.3014161590089, diff = 0.00000e+00, SUCCEEDED!\n",
      "# NcmFitESMCMC: Catalog row 26618: m2lnL =     16.5516458647638, recalculated to     16.5516458647638, diff = 0.00000e+00, SUCCEEDED!\n",
      "# NcmFitESMCMC: Catalog row 26619: m2lnL =      14.872218005112, recalculated to      14.872218005112, diff = 0.00000e+00, SUCCEEDED!\n",
      "# NcmFitESMCMC: Catalog row 26620: m2lnL =     13.2767546838497, recalculated to     13.2767546838497, diff = 0.00000e+00, SUCCEEDED!\n",
      "# NcmFitESMCMC: Catalog row 26621: m2lnL =     16.0038124064649, recalculated to     16.0038124064649, diff = 0.00000e+00, SUCCEEDED!\n",
      "# NcmFitESMCMC: Catalog row 26622: m2lnL =     14.9395839361675, recalculated to     14.9395839361675, diff = 0.00000e+00, SUCCEEDED!\n",
      "# NcmFitESMCMC: Catalog row 26623: m2lnL =     17.7516093137992, recalculated to     17.7516093137992, diff = 0.00000e+00, SUCCEEDED!\n",
      "# NcmFitESMCMC: Catalog row 26624: m2lnL =     15.7957636342725, recalculated to     15.7957636342725, diff = 0.00000e+00, SUCCEEDED!\n",
      "# NcmFitESMCMC: Catalog row 26625: m2lnL =     13.8019100112936, recalculated to     13.8019100112936, diff = 0.00000e+00, SUCCEEDED!\n",
      "# NcmFitESMCMC: Catalog row 26626: m2lnL =     13.7512943763164, recalculated to     13.7512943763164, diff = 0.00000e+00, SUCCEEDED!\n",
      "# NcmFitESMCMC: Catalog row 26627: m2lnL =     15.3178084313373, recalculated to     15.3178084313373, diff = 0.00000e+00, SUCCEEDED!\n",
      "# NcmFitESMCMC: Catalog row 26628: m2lnL =     13.3946033361847, recalculated to     13.3946033361847, diff = 0.00000e+00, SUCCEEDED!\n",
      "# NcmFitESMCMC: Catalog row 26629: m2lnL =     13.5216088431758, recalculated to     13.5216088431758, diff = 0.00000e+00, SUCCEEDED!\n",
      "# NcmFitESMCMC: Catalog row 26630: m2lnL =     14.9855823929836, recalculated to     14.9855823929836, diff = 0.00000e+00, SUCCEEDED!\n",
      "# NcmFitESMCMC: Catalog row 26631: m2lnL =     15.9761720170993, recalculated to     15.9761720170993, diff = 0.00000e+00, SUCCEEDED!\n",
      "# NcmFitESMCMC: Catalog row 26632: m2lnL =     21.2005217692566, recalculated to     21.2005217692566, diff = 0.00000e+00, SUCCEEDED!\n",
      "# NcmFitESMCMC: Catalog row 26633: m2lnL =     20.9378239062375, recalculated to     20.9378239062375, diff = 0.00000e+00, SUCCEEDED!\n",
      "# NcmFitESMCMC: Catalog row 26634: m2lnL =     13.8788285341871, recalculated to     13.8788285341871, diff = 0.00000e+00, SUCCEEDED!\n",
      "# NcmFitESMCMC: Catalog row 26635: m2lnL =     20.3932095027611, recalculated to     20.3932095027611, diff = 0.00000e+00, SUCCEEDED!\n",
      "# NcmFitESMCMC: Catalog row 26636: m2lnL =     13.7011819606238, recalculated to     13.7011819606238, diff = 0.00000e+00, SUCCEEDED!\n",
      "# NcmFitESMCMC: Catalog row 26637: m2lnL =     15.6296583719173, recalculated to     15.6296583719173, diff = 0.00000e+00, SUCCEEDED!\n",
      "# NcmFitESMCMC: Catalog row 26638: m2lnL =     15.9041515037525, recalculated to     15.9041515037525, diff = 0.00000e+00, SUCCEEDED!\n",
      "# NcmFitESMCMC: Catalog row 26639: m2lnL =     13.3708895170706, recalculated to     13.3708895170706, diff = 0.00000e+00, SUCCEEDED!\n",
      "# NcmFitESMCMC: Catalog row 26640: m2lnL =     14.2889794564364, recalculated to     14.2889794564364, diff = 0.00000e+00, SUCCEEDED!\n",
      "# NcmFitESMCMC: Catalog row 26641: m2lnL =     13.4428533837354, recalculated to     13.4428533837354, diff = 0.00000e+00, SUCCEEDED!\n",
      "# NcmFitESMCMC: Catalog row 26642: m2lnL =     13.7293873321892, recalculated to     13.7293873321892, diff = 0.00000e+00, SUCCEEDED!\n",
      "# NcmFitESMCMC: Catalog row 26643: m2lnL =     17.3063248929505, recalculated to     17.3063248929505, diff = 0.00000e+00, SUCCEEDED!\n",
      "# NcmFitESMCMC: Catalog row 26644: m2lnL =     13.8892065594674, recalculated to     13.8892065594674, diff = 0.00000e+00, SUCCEEDED!\n",
      "# NcmFitESMCMC: Catalog row 26645: m2lnL =     13.3642654059354, recalculated to     13.3642654059354, diff = 0.00000e+00, SUCCEEDED!\n",
      "# NcmFitESMCMC: Catalog row 26646: m2lnL =     15.3904801598037, recalculated to     15.3904801598037, diff = 0.00000e+00, SUCCEEDED!\n",
      "# NcmFitESMCMC: Catalog row 26647: m2lnL =     15.3597566967087, recalculated to     15.3597566967087, diff = 0.00000e+00, SUCCEEDED!\n",
      "# NcmFitESMCMC: Catalog row 26648: m2lnL =     17.5571795897895, recalculated to     17.5571795897895, diff = 0.00000e+00, SUCCEEDED!\n",
      "# NcmFitESMCMC: Catalog row 26649: m2lnL =     14.5293538094244, recalculated to     14.5293538094244, diff = 0.00000e+00, SUCCEEDED!\n",
      "# NcmFitESMCMC: Catalog row 26650: m2lnL =     14.5487632708315, recalculated to     14.5487632708315, diff = 0.00000e+00, SUCCEEDED!\n",
      "# NcmFitESMCMC: Catalog row 26651: m2lnL =     13.4295940236886, recalculated to     13.4295940236886, diff = 0.00000e+00, SUCCEEDED!\n",
      "# NcmFitESMCMC: Catalog row 26652: m2lnL =     13.2850996843278, recalculated to     13.2850996843278, diff = 0.00000e+00, SUCCEEDED!\n",
      "# NcmFitESMCMC: Catalog row 26653: m2lnL =     20.8216231415267, recalculated to     20.8216231415267, diff = 0.00000e+00, SUCCEEDED!\n",
      "# NcmFitESMCMC: Catalog row 26654: m2lnL =     13.2302023136898, recalculated to     13.2302023136898, diff = 0.00000e+00, SUCCEEDED!\n",
      "# NcmFitESMCMC: Catalog row 26655: m2lnL =     15.6076650245348, recalculated to     15.6076650245348, diff = 0.00000e+00, SUCCEEDED!\n",
      "# NcmFitESMCMC: Catalog row 26656: m2lnL =      13.919467579653, recalculated to      13.919467579653, diff = 0.00000e+00, SUCCEEDED!\n",
      "# NcmFitESMCMC: Catalog row 26657: m2lnL =     15.6035281781301, recalculated to     15.6035281781301, diff = 0.00000e+00, SUCCEEDED!\n",
      "# NcmFitESMCMC: Catalog row 26658: m2lnL =     14.2312222607504, recalculated to     14.2312222607504, diff = 0.00000e+00, SUCCEEDED!\n",
      "# NcmFitESMCMC: Catalog row 26659: m2lnL =     16.6899878031273, recalculated to     16.6899878031273, diff = 0.00000e+00, SUCCEEDED!\n",
      "# NcmFitESMCMC: Catalog row 26660: m2lnL =      13.844546042896, recalculated to      13.844546042896, diff = 0.00000e+00, SUCCEEDED!\n",
      "# NcmFitESMCMC: Catalog row 26661: m2lnL =     13.6725680257337, recalculated to     13.6725680257337, diff = 0.00000e+00, SUCCEEDED!\n",
      "# NcmFitESMCMC: Catalog row 26662: m2lnL =     15.4114363962653, recalculated to     15.4114363962653, diff = 0.00000e+00, SUCCEEDED!\n",
      "# NcmFitESMCMC: Catalog row 26663: m2lnL =     13.5471555067146, recalculated to     13.5471555067146, diff = 0.00000e+00, SUCCEEDED!\n",
      "# NcmFitESMCMC: Catalog row 26664: m2lnL =     15.1032978896489, recalculated to     15.1032978896489, diff = 0.00000e+00, SUCCEEDED!\n",
      "# NcmFitESMCMC: Catalog row 26665: m2lnL =     15.7138892575897, recalculated to     15.7138892575897, diff = 0.00000e+00, SUCCEEDED!\n",
      "# NcmFitESMCMC: Catalog row 26666: m2lnL =     16.6985808552095, recalculated to     16.6985808552095, diff = 0.00000e+00, SUCCEEDED!\n",
      "# NcmFitESMCMC: Catalog row 26667: m2lnL =     13.2480868242112, recalculated to     13.2480868242112, diff = 0.00000e+00, SUCCEEDED!\n",
      "# NcmFitESMCMC: Catalog row 26668: m2lnL =     16.6068684109282, recalculated to     16.6068684109282, diff = 0.00000e+00, SUCCEEDED!\n",
      "# NcmFitESMCMC: Catalog row 26669: m2lnL =     17.1895173141255, recalculated to     17.1895173141255, diff = 0.00000e+00, SUCCEEDED!\n",
      "# NcmFitESMCMC: Catalog row 26670: m2lnL =     13.2597674606854, recalculated to     13.2597674606854, diff = 0.00000e+00, SUCCEEDED!\n",
      "# NcmFitESMCMC: Catalog row 26671: m2lnL =     15.3705637670165, recalculated to     15.3705637670165, diff = 0.00000e+00, SUCCEEDED!\n",
      "# NcmFitESMCMC: Catalog row 26672: m2lnL =     13.5240701980748, recalculated to     13.5240701980748, diff = 0.00000e+00, SUCCEEDED!\n",
      "# NcmFitESMCMC: Catalog row 26673: m2lnL =     15.6525853997698, recalculated to     15.6525853997698, diff = 0.00000e+00, SUCCEEDED!\n",
      "# NcmFitESMCMC: Catalog row 26674: m2lnL =     13.5119919074827, recalculated to     13.5119919074827, diff = 0.00000e+00, SUCCEEDED!\n",
      "# NcmFitESMCMC: Catalog row 26675: m2lnL =     13.3329992623137, recalculated to     13.3329992623137, diff = 0.00000e+00, SUCCEEDED!\n",
      "# NcmFitESMCMC: Catalog row 26676: m2lnL =     14.4026356924974, recalculated to     14.4026356924974, diff = 0.00000e+00, SUCCEEDED!\n",
      "# NcmFitESMCMC: Catalog row 26677: m2lnL =     13.9936601283468, recalculated to     13.9936601283468, diff = 0.00000e+00, SUCCEEDED!\n",
      "# NcmFitESMCMC: Catalog row 26678: m2lnL =     14.5397392018814, recalculated to     14.5397392018814, diff = 0.00000e+00, SUCCEEDED!\n",
      "# NcmFitESMCMC: Catalog row 26679: m2lnL =     13.4367724277838, recalculated to     13.4367724277838, diff = 0.00000e+00, SUCCEEDED!\n",
      "# NcmFitESMCMC: Catalog row 26680: m2lnL =     14.3890836330247, recalculated to     14.3890836330247, diff = 0.00000e+00, SUCCEEDED!\n",
      "# NcmFitESMCMC: Catalog row 26681: m2lnL =     13.5782048155399, recalculated to     13.5782048155399, diff = 0.00000e+00, SUCCEEDED!\n",
      "# NcmFitESMCMC: Catalog row 26682: m2lnL =     13.3644217088467, recalculated to     13.3644217088467, diff = 0.00000e+00, SUCCEEDED!\n",
      "# NcmFitESMCMC: Catalog row 26683: m2lnL =     17.5313774651423, recalculated to     17.5313774651423, diff = 0.00000e+00, SUCCEEDED!\n",
      "# NcmFitESMCMC: Catalog row 26684: m2lnL =     17.2573561251288, recalculated to     17.2573561251288, diff = 0.00000e+00, SUCCEEDED!\n",
      "# NcmFitESMCMC: Catalog row 26685: m2lnL =     13.5303020816661, recalculated to     13.5303020816661, diff = 0.00000e+00, SUCCEEDED!\n",
      "# NcmFitESMCMC: Catalog row 26686: m2lnL =     15.2837543421387, recalculated to     15.2837543421387, diff = 0.00000e+00, SUCCEEDED!\n",
      "# NcmFitESMCMC: Catalog row 26687: m2lnL =     13.2186329807601, recalculated to     13.2186329807601, diff = 0.00000e+00, SUCCEEDED!\n",
      "# NcmFitESMCMC: Catalog row 26688: m2lnL =     13.4938507823695, recalculated to     13.4938507823695, diff = 0.00000e+00, SUCCEEDED!\n",
      "# NcmFitESMCMC: Catalog row 26689: m2lnL =     16.6972896268878, recalculated to     16.6972896268878, diff = 0.00000e+00, SUCCEEDED!\n",
      "# NcmFitESMCMC: Catalog row 26690: m2lnL =      15.993501459752, recalculated to      15.993501459752, diff = 0.00000e+00, SUCCEEDED!\n",
      "# NcmFitESMCMC: Catalog row 26691: m2lnL =     14.7173354608547, recalculated to     14.7173354608547, diff = 0.00000e+00, SUCCEEDED!\n",
      "# NcmFitESMCMC: Catalog row 26692: m2lnL =       16.56916671448, recalculated to       16.56916671448, diff = 0.00000e+00, SUCCEEDED!\n",
      "# NcmFitESMCMC: Catalog row 26693: m2lnL =     15.6807536906951, recalculated to     15.6807536906951, diff = 0.00000e+00, SUCCEEDED!\n",
      "# NcmFitESMCMC: Catalog row 26694: m2lnL =     16.2483525814635, recalculated to     16.2483525814635, diff = 0.00000e+00, SUCCEEDED!\n",
      "# NcmFitESMCMC: Catalog row 26695: m2lnL =     14.3428044122735, recalculated to     14.3428044122735, diff = 0.00000e+00, SUCCEEDED!\n",
      "# NcmFitESMCMC: Catalog row 26696: m2lnL =     14.8415356152913, recalculated to     14.8415356152913, diff = 0.00000e+00, SUCCEEDED!\n",
      "# NcmFitESMCMC: Catalog row 26697: m2lnL =     14.6329512601862, recalculated to     14.6329512601862, diff = 0.00000e+00, SUCCEEDED!\n",
      "# NcmFitESMCMC: Catalog row 26698: m2lnL =     13.5555870022846, recalculated to     13.5555870022846, diff = 0.00000e+00, SUCCEEDED!\n",
      "# NcmFitESMCMC: Catalog row 26699: m2lnL =     15.6268690742098, recalculated to     15.6268690742098, diff = 0.00000e+00, SUCCEEDED!\n",
      "#----------------------------------------------------------------------------------\n",
      "# NcmFitESMCMC: Largest relative error 1.000000e-03 attained: 9.947422e-04\n",
      "# NcmMSetCatalog: Current mean:   15.092       5.2559       14.915     \n",
      "# NcmMSetCatalog: Current msd:    0.013258     0.0052282    0.00016481 \n",
      "# NcmMSetCatalog: Current sd:     1.9693       0.8543       0.02693    \n",
      "# NcmMSetCatalog: Current var:    3.878        0.72983      0.00072523 \n",
      "# NcmMSetCatalog: Current tau:    1.2102       1            1          \n"
     ]
    }
   ],
   "source": [
    "Ncm.func_eval_set_max_threads (0)\n",
    "Ncm.func_eval_log_pool_stats ()\n",
    "\n",
    "init_sampler = Ncm.MSetTransKernGauss.new (0)\n",
    "init_sampler.set_mset (mset3)\n",
    "init_sampler.set_prior_from_mset ()\n",
    "init_sampler.set_cov_from_rescale (1.0e-1)\n",
    "\n",
    "nwalkers = 100 # Number of walkers\n",
    "walker = Ncm.FitESMCMCWalkerAPS.new (nwalkers, mset3.fparams_len ())\n",
    "\n",
    "# Ensemble Sampler MCMC\n",
    "esmcmc  = Ncm.FitESMCMC.new (fit3, nwalkers, init_sampler, walker, Ncm.FitRunMsgs.SIMPLE)\n",
    "esmcmc.set_data_file (\"example2_fit3_wrong_esmcmc_out_aps.fits\")\n",
    "esmcmc.set_auto_trim (True)            # Detect and discard the burn-in points.\n",
    "esmcmc.set_auto_trim_div (100)\n",
    "esmcmc.set_max_runs_time (2.0 * 60.0)  # Maximum time between tests.\n",
    "\n",
    "esmcmc.start_run ()\n",
    "esmcmc.run_lre (20, 1.0e-3)\n",
    "esmcmc.end_run ()\n",
    "\n",
    "mcat_wrong = esmcmc.peek_catalog ()"
   ]
  },
  {
   "cell_type": "markdown",
   "metadata": {},
   "source": [
    "## Correct non- projected model\n",
    "\n",
    "Here, instead of building an object directly on top of NcmDataGauss*, we use NumCosmo's framework to build non-binned likelihood for weak-lensing cluster analysis.\n",
    "\n",
    "For that we need two objects: a NcGalaxyWLReducedShearGauss that model a Gaussian distributed reduced shear likelihood, here the observables matrix is simply $(r, \\gamma_t, \\sigma_{\\gamma_t})$ for each galaxy. If the data has spectroscopic redshifts then we use NcGalaxyRedshiftSpec with an array of real redshifts. When photometric errors are included we use the NcGalaxyRedshiftGauss object that receives $(z, \\sigma_z)$ for each galaxy. \n",
    "\n",
    "Once we have the data objects ready we can proceed as in the previous examples.\n"
   ]
  },
  {
   "cell_type": "code",
   "execution_count": 23,
   "metadata": {},
   "outputs": [],
   "source": [
    "def create_nc_data_cluster_wl (theta, g_t, z_source, z_cluster, cosmo, dist, sigma_z = None, sigma_g = None):\n",
    "    r  = clmm.convert_units (theta, \"radians\", \"Mpc\", redshift = z_cluster, cosmo = cosmo)\n",
    "    ga = Ncm.ObjArray.new ()\n",
    "    \n",
    "    sigma_g = 1.0e-4 if not sigma_g else sigma_g\n",
    "    m_obs = np.column_stack ((r, g_t, np.repeat (sigma_g, len (r))))\n",
    "    \n",
    "    grsg = Nc.GalaxyWLReducedShearGauss (pos = Nc.GalaxyWLReducedShearGaussPos.R)\n",
    "    grsg.set_obs (Ncm.Matrix.new_array (m_obs.flatten (), 3))\n",
    "    \n",
    "    if sigma_z:\n",
    "        gzgs = Nc.GalaxyRedshiftGauss ()\n",
    "        z_obs = np.column_stack ((z_source, (1.0 + z_source) * sigma_z))\n",
    "        gzgs.set_obs (Ncm.Matrix.new_array (z_obs.flatten (), 2))\n",
    "    else:\n",
    "        gzgs = Nc.GalaxyRedshiftSpec ()\n",
    "        gzgs.set_z (Ncm.Vector.new_array (z_source))\n",
    "\n",
    "    gwl  = Nc.GalaxyWL (wl_dist = grsg, gz_dist = gzgs)\n",
    "    ga.add (gwl)\n",
    "\n",
    "    nc_dcwl = Nc.DataClusterWL (galaxy_array = ga, z_cluster = z_cluster)\n",
    "    nc_dcwl.set_init (True)\n",
    "    \n",
    "    return nc_dcwl\n",
    "\n",
    "def create_fit_obj (data_array, mset):\n",
    "    dset = Ncm.Dataset.new ()\n",
    "    for data in data_array:\n",
    "        dset.append_data (data)\n",
    "    lh = Ncm.Likelihood.new (dset)\n",
    "    fit = Ncm.Fit.new (Ncm.FitType.NLOPT, \"ln-neldermead\", lh, mset, Ncm.FitGradType.NUMDIFF_FORWARD)\n",
    "    #fit.set_params_reltol (1.0e-8)\n",
    "    #fit.set_m2lnL_reltol (1.0e-11)\n",
    "    \n",
    "    return fit\n",
    "\n",
    "ggt1 = create_nc_data_cluster_wl (theta1, g_t1, cl1.galcat['z'], cluster_z, cosmo, cosmo.dist, sigma_z = None, sigma_g = None)\n",
    "ggt2 = create_nc_data_cluster_wl (theta2, g_t2, cl2.galcat['z'], cluster_z, cosmo, cosmo.dist, sigma_z = None, sigma_g = None)\n",
    "ggt3 = create_nc_data_cluster_wl (theta3, g_t3, cl3.galcat['z'], cluster_z, cosmo, cosmo.dist, sigma_z = 0.05, sigma_g = 0.05)\n"
   ]
  },
  {
   "cell_type": "markdown",
   "metadata": {},
   "source": [
    "As the likelihood is not Gaussian, here we compute the [Observed Fisher Matrix](https://en.wikipedia.org/wiki/Observed_information) (`obs_fisher`)."
   ]
  },
  {
   "cell_type": "code",
   "execution_count": 24,
   "metadata": {},
   "outputs": [
    {
     "name": "stdout",
     "output_type": "stream",
     "text": [
      "#----------------------------------------------------------------------------------\n",
      "# Model fitting. Interating using:\n",
      "#  - solver:            NLOpt:ln-neldermead\n",
      "#  - differentiation:   Numerical differentiantion (forward)\n",
      "#..............\n",
      "#  Minimum found with precision: |df|/f =  1.00000e-08 and |dx| =  1.00000e-05\n",
      "#  Elapsed time: 00 days, 00:00:00.1357460\n",
      "#  iteration            [000057]\n",
      "#  function evaluations [000059]\n",
      "#  gradient evaluations [000000]\n",
      "#  degrees of freedom   [009998]\n",
      "#  m2lnL     =   0.0247264130923619 (   0.024726413 )\n",
      "#  Fit parameters:\n",
      "#     3.9999835855765      15.0000069687639    \n",
      "#----------------------------------------------------------------------------------\n",
      "# NcmMSet parameters covariance matrix\n",
      "#                                                       -------------------------------\n",
      "#      cDelta[04000:00] =  4           +/-  0.0004535   |  1           | -0.6532      |\n",
      "# log10MDelta[04000:01] =  15          +/-  4.995e-05   | -0.6532      |  1           |\n",
      "#                                                       -------------------------------\n",
      "#----------------------------------------------------------------------------------\n",
      "# Model fitting. Interating using:\n",
      "#  - solver:            NLOpt:ln-neldermead\n",
      "#  - differentiation:   Numerical differentiantion (forward)\n",
      "#..............\n",
      "#  Minimum found with precision: |df|/f =  1.00000e-08 and |dx| =  1.00000e-05\n",
      "#  Elapsed time: 00 days, 00:00:00.1791380\n",
      "#  iteration            [000059]\n",
      "#  function evaluations [000061]\n",
      "#  gradient evaluations [000000]\n",
      "#  degrees of freedom   [009998]\n",
      "#  m2lnL     =    0.655239547895844 (    0.65523955 )\n",
      "#  Fit parameters:\n",
      "#     4.00018620223259     14.9999967336657    \n",
      "#----------------------------------------------------------------------------------\n",
      "# NcmMSet parameters covariance matrix\n",
      "#                                                       -------------------------------\n",
      "#      cDelta[04000:00] =  4           +/-  0.0002977   |  1           | -0.705       |\n",
      "# log10MDelta[04000:01] =  15          +/-  4.276e-05   | -0.705       |  1           |\n",
      "#                                                       -------------------------------\n",
      "#----------------------------------------------------------------------------------\n",
      "# Model fitting. Interating using:\n",
      "#  - solver:            NLOpt:ln-neldermead\n",
      "#  - differentiation:   Numerical differentiantion (forward)\n",
      "#..............\n",
      "#  Minimum found with precision: |df|/f =  1.00000e-08 and |dx| =  1.00000e-05\n",
      "#  Elapsed time: 00 days, 00:00:05.7838550\n",
      "#  iteration            [000052]\n",
      "#  function evaluations [000054]\n",
      "#  gradient evaluations [000000]\n",
      "#  degrees of freedom   [009998]\n",
      "#  m2lnL     =     9707.14717790159 (     9707.1472 )\n",
      "#  Fit parameters:\n",
      "#     3.98315204012609     15.0221831296522    \n",
      "#----------------------------------------------------------------------------------\n",
      "# NcmMSet parameters covariance matrix\n",
      "#                                                       -------------------------------\n",
      "#      cDelta[04000:00] =  3.983       +/-  0.2096      |  1           | -0.6822      |\n",
      "# log10MDelta[04000:01] =  15.02       +/-  0.02192     | -0.6822      |  1           |\n",
      "#                                                       -------------------------------\n",
      " 1.000016046300544e+15  9.999924790155086e+14  1.052405549813602e+15\n"
     ]
    }
   ],
   "source": [
    "fit1 = create_fit_obj ([ggt1], mset1)\n",
    "fit2 = create_fit_obj ([ggt2], mset2)\n",
    "fit3 = create_fit_obj ([ggt3], mset3)\n",
    "\n",
    "fit1.run (Ncm.FitRunMsgs.SIMPLE)\n",
    "fit1.obs_fisher ()\n",
    "fit1.log_covar ()\n",
    "\n",
    "fit2.run (Ncm.FitRunMsgs.SIMPLE)\n",
    "fit2.obs_fisher ()\n",
    "fit2.log_covar ()\n",
    "\n",
    "fit3.run (Ncm.FitRunMsgs.SIMPLE)\n",
    "fit3.obs_fisher ()\n",
    "fit3.log_covar ()\n",
    "\n",
    "mest1 = 10**mset1.param_get (MDelta_pi.mid, MDelta_pi.pid)\n",
    "mest2 = 10**mset2.param_get (MDelta_pi.mid, MDelta_pi.pid)\n",
    "mest3 = 10**mset3.param_get (MDelta_pi.mid, MDelta_pi.pid)\n",
    "\n",
    "print (\"% 22.15e % 22.15e % 22.15e\" % (mest1, mest2, mest3))"
   ]
  },
  {
   "cell_type": "markdown",
   "metadata": {},
   "source": [
    "## Visualizing the results\n",
    "\n",
    "Note below that we no longer have biased results, all results are well within the error bars. Note also that the error bars are substantially smaller than in the binned case."
   ]
  },
  {
   "cell_type": "code",
   "execution_count": 25,
   "metadata": {},
   "outputs": [
    {
     "name": "stdout",
     "output_type": "stream",
     "text": [
      " 1.000016046300544e+15 +/- 1e+11  9.999924790155086e+14 +/- 1e+11  1.052405549813602e+15 +/- 5e+13\n"
     ]
    }
   ],
   "source": [
    "rr = np.logspace(-0.5, np.log10(5), 100)\n",
    "\n",
    "gt_model1 = moo1.eval_reduced_shear (rr, cluster_z, np.mean(cl1.galcat['z']))\n",
    "gt_model2 = moo2.eval_reduced_shear (rr, cluster_z, np.mean(cl2.galcat['z']))\n",
    "gt_model3 = moo3.eval_reduced_shear (rr, cluster_z, np.mean(cl3.galcat['z']))\n",
    "\n",
    "m_est1 = 10**mset1.param_get (MDelta_pi.mid, MDelta_pi.pid)\n",
    "m_est2 = 10**mset2.param_get (MDelta_pi.mid, MDelta_pi.pid)\n",
    "m_est3 = 10**mset3.param_get (MDelta_pi.mid, MDelta_pi.pid)\n",
    "\n",
    "m_est_err1 = fit1.covar_sd (MDelta_pi.mid, MDelta_pi.pid) * m_est1 * math.log (10.0)\n",
    "m_est_err2 = fit2.covar_sd (MDelta_pi.mid, MDelta_pi.pid) * m_est2 * math.log (10.0)\n",
    "m_est_err3 = fit3.covar_sd (MDelta_pi.mid, MDelta_pi.pid) * m_est3 * math.log (10.0)\n",
    "\n",
    "print (\"% 22.15e +/- %.0e % 22.15e +/- %.0e % 22.15e +/- %.0e\" % (m_est1, m_est_err1, m_est2, m_est_err2, m_est3, m_est_err3))"
   ]
  },
  {
   "cell_type": "markdown",
   "metadata": {},
   "source": [
    "### To investigate further the results we make a MCMC analysis below."
   ]
  },
  {
   "cell_type": "code",
   "execution_count": 26,
   "metadata": {},
   "outputs": [
    {
     "name": "stdout",
     "output_type": "stream",
     "text": [
      "# NcmThreadPool:Unused:      0\n",
      "# NcmThreadPool:Max Unused:  2\n",
      "# NcmThreadPool:Running:     0\n",
      "# NcmThreadPool:Unprocessed: 0\n",
      "# NcmThreadPool:Unused:      0\n",
      "#----------------------------------------------------------------------------------\n",
      "# NcmFitESMCMC: Starting Ensamble Sampler Markov Chain Monte Carlo.\n",
      "#   Number of walkers: 0100.\n",
      "#   Number of threads: 0000.\n",
      "#----------------------------------------------------------------------------------\n",
      "# NcmFitESMCMC: Skipping 10000 points (100.000000 iterations), will start at 10001-th point.\n",
      "#----------------------------------------------------------------------------------\n",
      "# NcmFitESMCMC: validating catalog rows [9900, 10000)\n",
      "# NcmFitESMCMC: Catalog row  9900: m2lnL =     9709.01105102956, recalculated to     9709.01105102956, diff = 0.00000e+00, SUCCEEDED!\n",
      "# NcmFitESMCMC: Catalog row  9901: m2lnL =     9712.92555200315, recalculated to     9712.92555200315, diff = 0.00000e+00, SUCCEEDED!\n",
      "# NcmFitESMCMC: Catalog row  9902: m2lnL =     9708.01383528087, recalculated to     9708.01383528087, diff = 0.00000e+00, SUCCEEDED!\n",
      "# NcmFitESMCMC: Catalog row  9903: m2lnL =     9712.00451480405, recalculated to     9712.00451480405, diff = 0.00000e+00, SUCCEEDED!\n",
      "# NcmFitESMCMC: Catalog row  9904: m2lnL =     9707.43276752621, recalculated to     9707.43276752621, diff = 0.00000e+00, SUCCEEDED!\n",
      "# NcmFitESMCMC: Catalog row  9905: m2lnL =     9712.14264150086, recalculated to     9712.14264150086, diff = 0.00000e+00, SUCCEEDED!\n",
      "# NcmFitESMCMC: Catalog row  9906: m2lnL =     9708.15919216783, recalculated to     9708.15919216783, diff = 0.00000e+00, SUCCEEDED!\n",
      "# NcmFitESMCMC: Catalog row  9907: m2lnL =     9708.29834818086, recalculated to     9708.29834818086, diff = 0.00000e+00, SUCCEEDED!\n",
      "# NcmFitESMCMC: Catalog row  9908: m2lnL =     9711.45051125302, recalculated to     9711.45051125302, diff = 0.00000e+00, SUCCEEDED!\n",
      "# NcmFitESMCMC: Catalog row  9909: m2lnL =     9707.91489440858, recalculated to     9707.91489440858, diff = 0.00000e+00, SUCCEEDED!\n",
      "# NcmFitESMCMC: Catalog row  9910: m2lnL =     9708.70680530474, recalculated to     9708.70680530474, diff = 0.00000e+00, SUCCEEDED!\n",
      "# NcmFitESMCMC: Catalog row  9911: m2lnL =     9710.71240288808, recalculated to     9710.71240288808, diff = 0.00000e+00, SUCCEEDED!\n",
      "# NcmFitESMCMC: Catalog row  9912: m2lnL =     9707.72457348558, recalculated to     9707.72457348558, diff = 0.00000e+00, SUCCEEDED!\n",
      "# NcmFitESMCMC: Catalog row  9913: m2lnL =     9709.91195341067, recalculated to     9709.91195341067, diff = 0.00000e+00, SUCCEEDED!\n",
      "# NcmFitESMCMC: Catalog row  9914: m2lnL =     9712.94281173291, recalculated to     9712.94281173291, diff = 0.00000e+00, SUCCEEDED!\n",
      "# NcmFitESMCMC: Catalog row  9915: m2lnL =     9707.20450337979, recalculated to     9707.20450337979, diff = 0.00000e+00, SUCCEEDED!\n",
      "# NcmFitESMCMC: Catalog row  9916: m2lnL =      9707.1543091267, recalculated to      9707.1543091267, diff = 0.00000e+00, SUCCEEDED!\n",
      "# NcmFitESMCMC: Catalog row  9917: m2lnL =      9708.2830285413, recalculated to      9708.2830285413, diff = 0.00000e+00, SUCCEEDED!\n",
      "# NcmFitESMCMC: Catalog row  9918: m2lnL =     9708.02955858617, recalculated to     9708.02955858617, diff = 0.00000e+00, SUCCEEDED!\n",
      "# NcmFitESMCMC: Catalog row  9919: m2lnL =     9708.55600238881, recalculated to     9708.55600238881, diff = 0.00000e+00, SUCCEEDED!\n",
      "# NcmFitESMCMC: Catalog row  9920: m2lnL =     9709.74436174879, recalculated to     9709.74436174879, diff = 0.00000e+00, SUCCEEDED!\n",
      "# NcmFitESMCMC: Catalog row  9921: m2lnL =     9707.43198786792, recalculated to     9707.43198786792, diff = 0.00000e+00, SUCCEEDED!\n",
      "# NcmFitESMCMC: Catalog row  9922: m2lnL =     9707.50683345115, recalculated to     9707.50683345115, diff = 0.00000e+00, SUCCEEDED!\n",
      "# NcmFitESMCMC: Catalog row  9923: m2lnL =     9707.87451481594, recalculated to     9707.87451481594, diff = 0.00000e+00, SUCCEEDED!\n",
      "# NcmFitESMCMC: Catalog row  9924: m2lnL =      9709.4419312694, recalculated to      9709.4419312694, diff = 0.00000e+00, SUCCEEDED!\n",
      "# NcmFitESMCMC: Catalog row  9925: m2lnL =     9712.07489952645, recalculated to     9712.07489952645, diff = 0.00000e+00, SUCCEEDED!\n",
      "# NcmFitESMCMC: Catalog row  9926: m2lnL =     9707.49871435102, recalculated to     9707.49871435102, diff = 0.00000e+00, SUCCEEDED!\n",
      "# NcmFitESMCMC: Catalog row  9927: m2lnL =     9707.48140035972, recalculated to     9707.48140035972, diff = 0.00000e+00, SUCCEEDED!\n",
      "# NcmFitESMCMC: Catalog row  9928: m2lnL =      9708.4886202817, recalculated to      9708.4886202817, diff = 0.00000e+00, SUCCEEDED!\n",
      "# NcmFitESMCMC: Catalog row  9929: m2lnL =     9708.10676391203, recalculated to     9708.10676391203, diff = 0.00000e+00, SUCCEEDED!\n",
      "# NcmFitESMCMC: Catalog row  9930: m2lnL =     9708.49394159325, recalculated to     9708.49394159325, diff = 0.00000e+00, SUCCEEDED!\n",
      "# NcmFitESMCMC: Catalog row  9931: m2lnL =     9707.28883252704, recalculated to     9707.28883252704, diff = 0.00000e+00, SUCCEEDED!\n",
      "# NcmFitESMCMC: Catalog row  9932: m2lnL =     9711.68700493715, recalculated to     9711.68700493715, diff = 0.00000e+00, SUCCEEDED!\n",
      "# NcmFitESMCMC: Catalog row  9933: m2lnL =     9713.39916272833, recalculated to     9713.39916272833, diff = 0.00000e+00, SUCCEEDED!\n",
      "# NcmFitESMCMC: Catalog row  9934: m2lnL =     9708.02740483876, recalculated to     9708.02740483876, diff = 0.00000e+00, SUCCEEDED!\n",
      "# NcmFitESMCMC: Catalog row  9935: m2lnL =     9707.16849882218, recalculated to     9707.16849882218, diff = 0.00000e+00, SUCCEEDED!\n",
      "# NcmFitESMCMC: Catalog row  9936: m2lnL =     9707.24077346919, recalculated to     9707.24077346919, diff = 0.00000e+00, SUCCEEDED!\n",
      "# NcmFitESMCMC: Catalog row  9937: m2lnL =     9708.46364336973, recalculated to     9708.46364336973, diff = 0.00000e+00, SUCCEEDED!\n",
      "# NcmFitESMCMC: Catalog row  9938: m2lnL =      9707.2781464355, recalculated to      9707.2781464355, diff = 0.00000e+00, SUCCEEDED!\n",
      "# NcmFitESMCMC: Catalog row  9939: m2lnL =     9711.02875396817, recalculated to     9711.02875396817, diff = 0.00000e+00, SUCCEEDED!\n",
      "# NcmFitESMCMC: Catalog row  9940: m2lnL =     9707.38344023777, recalculated to     9707.38344023777, diff = 0.00000e+00, SUCCEEDED!\n",
      "# NcmFitESMCMC: Catalog row  9941: m2lnL =     9707.38584824947, recalculated to     9707.38584824947, diff = 0.00000e+00, SUCCEEDED!\n",
      "# NcmFitESMCMC: Catalog row  9942: m2lnL =     9710.79387504807, recalculated to     9710.79387504807, diff = 0.00000e+00, SUCCEEDED!\n",
      "# NcmFitESMCMC: Catalog row  9943: m2lnL =     9708.53719448276, recalculated to     9708.53719448276, diff = 0.00000e+00, SUCCEEDED!\n",
      "# NcmFitESMCMC: Catalog row  9944: m2lnL =     9707.20780463023, recalculated to     9707.20780463023, diff = 0.00000e+00, SUCCEEDED!\n",
      "# NcmFitESMCMC: Catalog row  9945: m2lnL =     9707.51401623125, recalculated to     9707.51401623125, diff = 0.00000e+00, SUCCEEDED!\n",
      "# NcmFitESMCMC: Catalog row  9946: m2lnL =      9707.2873178415, recalculated to      9707.2873178415, diff = 0.00000e+00, SUCCEEDED!\n",
      "# NcmFitESMCMC: Catalog row  9947: m2lnL =     9707.58471593675, recalculated to     9707.58471593675, diff = 0.00000e+00, SUCCEEDED!\n",
      "# NcmFitESMCMC: Catalog row  9948: m2lnL =      9709.9654295778, recalculated to      9709.9654295778, diff = 0.00000e+00, SUCCEEDED!\n",
      "# NcmFitESMCMC: Catalog row  9949: m2lnL =     9708.16361335479, recalculated to     9708.16361335479, diff = 0.00000e+00, SUCCEEDED!\n",
      "# NcmFitESMCMC: Catalog row  9950: m2lnL =     9708.98073166285, recalculated to     9708.98073166285, diff = 0.00000e+00, SUCCEEDED!\n",
      "# NcmFitESMCMC: Catalog row  9951: m2lnL =      9710.0655813042, recalculated to      9710.0655813042, diff = 0.00000e+00, SUCCEEDED!\n",
      "# NcmFitESMCMC: Catalog row  9952: m2lnL =     9708.32087462172, recalculated to     9708.32087462172, diff = 0.00000e+00, SUCCEEDED!\n",
      "# NcmFitESMCMC: Catalog row  9953: m2lnL =     9710.56756642625, recalculated to     9710.56756642625, diff = 0.00000e+00, SUCCEEDED!\n",
      "# NcmFitESMCMC: Catalog row  9954: m2lnL =     9712.55879364114, recalculated to     9712.55879364114, diff = 0.00000e+00, SUCCEEDED!\n",
      "# NcmFitESMCMC: Catalog row  9955: m2lnL =     9708.05750910203, recalculated to     9708.05750910203, diff = 0.00000e+00, SUCCEEDED!\n",
      "# NcmFitESMCMC: Catalog row  9956: m2lnL =     9707.79765301402, recalculated to     9707.79765301402, diff = 0.00000e+00, SUCCEEDED!\n",
      "# NcmFitESMCMC: Catalog row  9957: m2lnL =     9708.36367784482, recalculated to     9708.36367784482, diff = 0.00000e+00, SUCCEEDED!\n"
     ]
    },
    {
     "name": "stdout",
     "output_type": "stream",
     "text": [
      "# NcmFitESMCMC: Catalog row  9958: m2lnL =     9708.41518706402, recalculated to     9708.41518706402, diff = 0.00000e+00, SUCCEEDED!\n",
      "# NcmFitESMCMC: Catalog row  9959: m2lnL =     9710.47304768984, recalculated to     9710.47304768984, diff = 0.00000e+00, SUCCEEDED!\n",
      "# NcmFitESMCMC: Catalog row  9960: m2lnL =     9709.87771644519, recalculated to     9709.87771644519, diff = 0.00000e+00, SUCCEEDED!\n",
      "# NcmFitESMCMC: Catalog row  9961: m2lnL =     9707.58662611858, recalculated to     9707.58662611858, diff = 0.00000e+00, SUCCEEDED!\n",
      "# NcmFitESMCMC: Catalog row  9962: m2lnL =     9708.42324866939, recalculated to     9708.42324866939, diff = 0.00000e+00, SUCCEEDED!\n",
      "# NcmFitESMCMC: Catalog row  9963: m2lnL =     9719.32970526708, recalculated to     9719.32970526708, diff = 0.00000e+00, SUCCEEDED!\n",
      "# NcmFitESMCMC: Catalog row  9964: m2lnL =     9707.56636561664, recalculated to     9707.56636561664, diff = 0.00000e+00, SUCCEEDED!\n",
      "# NcmFitESMCMC: Catalog row  9965: m2lnL =     9714.29048022207, recalculated to     9714.29048022207, diff = 0.00000e+00, SUCCEEDED!\n",
      "# NcmFitESMCMC: Catalog row  9966: m2lnL =     9708.49063785897, recalculated to     9708.49063785897, diff = 0.00000e+00, SUCCEEDED!\n",
      "# NcmFitESMCMC: Catalog row  9967: m2lnL =     9709.62364393669, recalculated to     9709.62364393669, diff = 0.00000e+00, SUCCEEDED!\n",
      "# NcmFitESMCMC: Catalog row  9968: m2lnL =     9709.99336870501, recalculated to     9709.99336870501, diff = 0.00000e+00, SUCCEEDED!\n",
      "# NcmFitESMCMC: Catalog row  9969: m2lnL =     9709.19487831957, recalculated to     9709.19487831957, diff = 0.00000e+00, SUCCEEDED!\n",
      "# NcmFitESMCMC: Catalog row  9970: m2lnL =     9710.56209948121, recalculated to     9710.56209948121, diff = 0.00000e+00, SUCCEEDED!\n",
      "# NcmFitESMCMC: Catalog row  9971: m2lnL =     9709.26509203212, recalculated to     9709.26509203212, diff = 0.00000e+00, SUCCEEDED!\n",
      "# NcmFitESMCMC: Catalog row  9972: m2lnL =     9714.83207889775, recalculated to     9714.83207889775, diff = 0.00000e+00, SUCCEEDED!\n",
      "# NcmFitESMCMC: Catalog row  9973: m2lnL =     9707.45574171586, recalculated to     9707.45574171586, diff = 0.00000e+00, SUCCEEDED!\n",
      "# NcmFitESMCMC: Catalog row  9974: m2lnL =     9708.45454654864, recalculated to     9708.45454654864, diff = 0.00000e+00, SUCCEEDED!\n",
      "# NcmFitESMCMC: Catalog row  9975: m2lnL =     9707.69568090063, recalculated to     9707.69568090063, diff = 0.00000e+00, SUCCEEDED!\n",
      "# NcmFitESMCMC: Catalog row  9976: m2lnL =     9707.48062404186, recalculated to     9707.48062404186, diff = 0.00000e+00, SUCCEEDED!\n",
      "# NcmFitESMCMC: Catalog row  9977: m2lnL =     9707.76572335565, recalculated to     9707.76572335565, diff = 0.00000e+00, SUCCEEDED!\n",
      "# NcmFitESMCMC: Catalog row  9978: m2lnL =     9708.02625245979, recalculated to     9708.02625245979, diff = 0.00000e+00, SUCCEEDED!\n",
      "# NcmFitESMCMC: Catalog row  9979: m2lnL =     9708.55620783306, recalculated to     9708.55620783306, diff = 0.00000e+00, SUCCEEDED!\n",
      "# NcmFitESMCMC: Catalog row  9980: m2lnL =     9710.56712068339, recalculated to     9710.56712068339, diff = 0.00000e+00, SUCCEEDED!\n",
      "# NcmFitESMCMC: Catalog row  9981: m2lnL =     9707.50233678019, recalculated to     9707.50233678019, diff = 0.00000e+00, SUCCEEDED!\n",
      "# NcmFitESMCMC: Catalog row  9982: m2lnL =      9710.6161237112, recalculated to      9710.6161237112, diff = 0.00000e+00, SUCCEEDED!\n",
      "# NcmFitESMCMC: Catalog row  9983: m2lnL =     9708.26175752989, recalculated to     9708.26175752989, diff = 0.00000e+00, SUCCEEDED!\n",
      "# NcmFitESMCMC: Catalog row  9984: m2lnL =     9708.37584227394, recalculated to     9708.37584227394, diff = 0.00000e+00, SUCCEEDED!\n",
      "# NcmFitESMCMC: Catalog row  9985: m2lnL =     9707.44700799504, recalculated to     9707.44700799504, diff = 0.00000e+00, SUCCEEDED!\n",
      "# NcmFitESMCMC: Catalog row  9986: m2lnL =     9707.67305385533, recalculated to     9707.67305385533, diff = 0.00000e+00, SUCCEEDED!\n",
      "# NcmFitESMCMC: Catalog row  9987: m2lnL =     9714.70671191098, recalculated to     9714.70671191098, diff = 0.00000e+00, SUCCEEDED!\n",
      "# NcmFitESMCMC: Catalog row  9988: m2lnL =     9713.39373571552, recalculated to     9713.39373571552, diff = 0.00000e+00, SUCCEEDED!\n",
      "# NcmFitESMCMC: Catalog row  9989: m2lnL =     9709.33211645567, recalculated to     9709.33211645567, diff = 0.00000e+00, SUCCEEDED!\n",
      "# NcmFitESMCMC: Catalog row  9990: m2lnL =     9707.36531690857, recalculated to     9707.36531690857, diff = 0.00000e+00, SUCCEEDED!\n",
      "# NcmFitESMCMC: Catalog row  9991: m2lnL =      9707.3006902098, recalculated to      9707.3006902098, diff = 0.00000e+00, SUCCEEDED!\n",
      "# NcmFitESMCMC: Catalog row  9992: m2lnL =     9707.28866673618, recalculated to     9707.28866673618, diff = 0.00000e+00, SUCCEEDED!\n",
      "# NcmFitESMCMC: Catalog row  9993: m2lnL =     9707.96351946538, recalculated to     9707.96351946538, diff = 0.00000e+00, SUCCEEDED!\n",
      "# NcmFitESMCMC: Catalog row  9994: m2lnL =     9714.25021453908, recalculated to     9714.25021453908, diff = 0.00000e+00, SUCCEEDED!\n",
      "# NcmFitESMCMC: Catalog row  9995: m2lnL =     9708.12796305491, recalculated to     9708.12796305491, diff = 0.00000e+00, SUCCEEDED!\n",
      "# NcmFitESMCMC: Catalog row  9996: m2lnL =     9714.26567775787, recalculated to     9714.26567775787, diff = 0.00000e+00, SUCCEEDED!\n",
      "# NcmFitESMCMC: Catalog row  9997: m2lnL =     9710.80843043741, recalculated to     9710.80843043741, diff = 0.00000e+00, SUCCEEDED!\n",
      "# NcmFitESMCMC: Catalog row  9998: m2lnL =     9708.76786494302, recalculated to     9708.76786494302, diff = 0.00000e+00, SUCCEEDED!\n",
      "# NcmFitESMCMC: Catalog row  9999: m2lnL =     9707.53021880262, recalculated to     9707.53021880262, diff = 0.00000e+00, SUCCEEDED!\n",
      "#----------------------------------------------------------------------------------\n",
      "# NcmFitESMCMC: Largest relative error 1.000000e-03 attained: 5.062958e-04\n",
      "# NcmMSetCatalog: Current mean:   9709.2       3.9882       15.021     \n",
      "# NcmMSetCatalog: Current msd:    0.036545     0.0020192    0.00022226 \n",
      "# NcmMSetCatalog: Current sd:     2.7882       0.20192      0.022226   \n",
      "# NcmMSetCatalog: Current var:    7.7742       0.040772     0.00049401 \n",
      "# NcmMSetCatalog: Current tau:    1.7179       1            1          \n"
     ]
    }
   ],
   "source": [
    "Ncm.func_eval_set_max_threads (0)\n",
    "Ncm.func_eval_log_pool_stats ()\n",
    "\n",
    "init_sampler = Ncm.MSetTransKernGauss.new (0)\n",
    "init_sampler.set_mset (mset3)\n",
    "init_sampler.set_prior_from_mset ()\n",
    "init_sampler.set_cov_from_rescale (1.0e-1)\n",
    "\n",
    "nwalkers = 100\n",
    "stretch = Ncm.FitESMCMCWalkerAPS.new (nwalkers, mset3.fparams_len ())\n",
    "\n",
    "esmcmc  = Ncm.FitESMCMC.new (fit3, nwalkers, init_sampler, stretch, Ncm.FitRunMsgs.SIMPLE)\n",
    "esmcmc.set_data_file (\"example2_fit3_esmcmc_out_aps.fits\")\n",
    "esmcmc.set_auto_trim (True)\n",
    "esmcmc.set_auto_trim_div (100)\n",
    "esmcmc.set_max_runs_time (2.0 * 60.0)\n",
    "\n",
    "esmcmc.start_run ()\n",
    "esmcmc.run_lre (20, 1.0e-3)\n",
    "esmcmc.end_run ()\n"
   ]
  },
  {
   "cell_type": "markdown",
   "metadata": {},
   "source": [
    "### Below we plot both MCMC results\n",
    "\n",
    "The wrong analysis has a strong bias in $\\log_{10}(M_\\Delta)$ (the peak of the wrong model is more than $3\\sigma$ away from the correct model best-fit) and much larger variance."
   ]
  },
  {
   "cell_type": "code",
   "execution_count": 27,
   "metadata": {},
   "outputs": [
    {
     "data": {
      "image/png": "[encoded data removed]",
      "text/plain": [
       "<Figure size 864x432 with 4 Axes>"
      ]
     },
     "metadata": {
      "needs_background": "light"
     },
     "output_type": "display_data"
    }
   ],
   "source": [
    "\n",
    "s1d1 = chi2.cdf (1.0, df = 1)\n",
    "s1d2 = chi2.cdf (4.0, df = 1)\n",
    "s2d1 = chi2.cdf (1.0, df = 2)\n",
    "s2d2 = chi2.cdf (4.0, df = 2)\n",
    "s2d3 = chi2.cdf (9.0, df = 2)\n",
    "qts = [0.5 - s1d2 / 2.0, 0.5 - s1d1 / 2.0, 0.5, 0.5 + s1d1 / 2.0, 0.5 + s1d2 / 2.0]\n",
    "\n",
    "mcat = esmcmc.peek_catalog ()\n",
    "rows = np.array ([mcat.peek_row (i).dup_array () for i in range (nwalkers * 10, mcat.len ())])\n",
    "params = [\"$\" + mcat.col_symb (i) + \"$\" for i in range (mcat.ncols ())]\n",
    "figure = corner.corner (rows[:,1:], labels = params[1:], reverse = False,\n",
    "                        quantiles=qts, levels = (s2d1, s2d2, s2d3), \n",
    "                        bins = 40, smooth = 0.8, smooth1d = 0.8, color = (0.5, 0.2, 0.5, 1.0))\n",
    "\n",
    "rows = np.array ([mcat_wrong.peek_row (i).dup_array () for i in range (nwalkers * 10, mcat_wrong.len ())])\n",
    "params = [\"$\" + mcat_wrong.col_symb (i) + \"$\" for i in range (mcat_wrong.ncols ())]\n",
    "figure = corner.corner (rows[:,1:], labels = params[1:], range=[(2.9, 9.5), (14.8, 15.12)], reverse = False,\n",
    "                        levels = (s2d1, s2d2, s2d3), color = (0.1, 0.2, 0.5, 0.5),\n",
    "                        bins = 40, smooth = 0.8, smooth1d = 0.8, fig = figure)\n",
    "\n",
    "\n",
    "figure.set_size_inches(12, 6)"
   ]
  },
  {
   "cell_type": "code",
   "execution_count": 28,
   "metadata": {},
   "outputs": [],
   "source": [
    "ser = Ncm.Serialize.new (0)\n",
    "data = fit3.lh.dset.get_data (0)\n",
    "ser.to_file (data, \"example2_fit3_data.obj\")"
   ]
  },
  {
   "cell_type": "code",
   "execution_count": null,
   "metadata": {},
   "outputs": [],
   "source": []
  }
 ],
 "metadata": {
  "kernelspec": {
   "display_name": "Python 3",
   "language": "python",
   "name": "python3"
  },
  "language_info": {
   "codemirror_mode": {
    "name": "ipython",
    "version": 3
   },
   "file_extension": ".py",
   "mimetype": "text/x-python",
   "name": "python",
   "nbconvert_exporter": "python",
   "pygments_lexer": "ipython3",
   "version": "3.9.1"
  }
 },
 "nbformat": 4,
 "nbformat_minor": 4
}
