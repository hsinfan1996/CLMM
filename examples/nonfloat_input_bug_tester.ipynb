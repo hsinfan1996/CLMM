{
 "cells": [
  {
   "cell_type": "markdown",
   "metadata": {},
   "source": [
    "This notebook aims at illustrating the bugs discussed in https://github.com/LSSTDESC/CLMM/issues/267\n",
    "It is based on `CLMM/examples/demo_theory_functionality.ipynb` *The bug is now fixed, this notebook should be turned into unit tests*!"
   ]
  },
  {
   "cell_type": "code",
   "execution_count": 1,
   "metadata": {},
   "outputs": [],
   "source": [
    "import numpy as np\n",
    "import matplotlib.pyplot as plt\n",
    "import clmm.theory as mod\n",
    "from astropy.cosmology import FlatLambdaCDM"
   ]
  },
  {
   "cell_type": "code",
   "execution_count": 2,
   "metadata": {},
   "outputs": [],
   "source": [
    "astropy_cosmology_object = FlatLambdaCDM(H0=70, Om0=0.27, Ob0=0.045)\n",
    "cosmo_ccl = mod.cclify_astropy_cosmo(astropy_cosmology_object)"
   ]
  },
  {
   "cell_type": "code",
   "execution_count": 3,
   "metadata": {},
   "outputs": [],
   "source": [
    "def plot_profile(r, profile_vals, profile_label='rho', label=None):\n",
    "    plt.loglog(r, profile_vals, label=label)\n",
    "    plt.xlabel('r [Mpc]', fontsize='xx-large')\n",
    "    plt.ylabel(profile_label, fontsize='xx-large')"
   ]
  },
  {
   "cell_type": "code",
   "execution_count": 4,
   "metadata": {},
   "outputs": [],
   "source": [
    "density_profile_parametrization = 'nfw'\n",
    "mass_Delta = 200\n",
    "cluster_mass = 1.5e14\n",
    "cluster_concentration = 4\n",
    "z_cl = 0.2\n",
    "z_source = 2\n",
    "ngals = 1000"
   ]
  },
  {
   "cell_type": "markdown",
   "metadata": {},
   "source": [
    "## Testing different radius types"
   ]
  },
  {
   "cell_type": "code",
   "execution_count": 5,
   "metadata": {},
   "outputs": [],
   "source": [
    "r1 = 1.\n",
    "r2 = 1\n",
    "r3 = np.logspace(-2, 2, 100)\n",
    "r4 = np.loadtxt(\"../tests/data/numcosmo/radial_profiles.txt\", usecols = 0)\n",
    "r5 = np.loadtxt(\"../tests/data/numcosmo/radial_profiles.txt\")[:,0]"
   ]
  },
  {
   "cell_type": "code",
   "execution_count": 6,
   "metadata": {},
   "outputs": [
    {
     "name": "stdout",
     "output_type": "stream",
     "text": [
      "r1 : <class 'float'>\n",
      "r2 : <class 'int'>\n",
      "r3 : <class 'numpy.ndarray'> r3[0]: <class 'numpy.float64'>\n",
      "r4 : <class 'numpy.ndarray'> r4[0]: <class 'numpy.float64'>\n",
      "r5 : <class 'numpy.ndarray'> r5[0]: <class 'numpy.float64'>\n"
     ]
    }
   ],
   "source": [
    "print (\"r1 :\", type(r1))\n",
    "print (\"r2 :\", type(r2))\n",
    "print (\"r3 :\", type(r3), \"r3[0]:\", type(r3[0]))\n",
    "print (\"r4 :\", type(r4), \"r4[0]:\", type(r4[0]))\n",
    "print (\"r5 :\", type(r5), \"r5[0]:\", type(r5[0]))"
   ]
  },
  {
   "cell_type": "markdown",
   "metadata": {},
   "source": [
    "## Testing impact of different radius types on the `get_3d_density` theory function"
   ]
  },
  {
   "cell_type": "markdown",
   "metadata": {},
   "source": [
    "### Comparison between `int` and `float`"
   ]
  },
  {
   "cell_type": "code",
   "execution_count": 7,
   "metadata": {},
   "outputs": [],
   "source": [
    "rho1 = mod.get_3d_density(r1, mdelta=cluster_mass, cdelta=cluster_concentration, \n",
    "                       z_cl=z_cl, cosmo=cosmo_ccl)"
   ]
  },
  {
   "cell_type": "code",
   "execution_count": 8,
   "metadata": {},
   "outputs": [
    {
     "name": "stdout",
     "output_type": "stream",
     "text": [
      "9021260913416.271\n"
     ]
    }
   ],
   "source": [
    "print (rho1)"
   ]
  },
  {
   "cell_type": "code",
   "execution_count": 9,
   "metadata": {},
   "outputs": [],
   "source": [
    "rho2 = mod.get_3d_density(1, mdelta=cluster_mass, cdelta=cluster_concentration, \n",
    "                       z_cl=z_cl, cosmo=cosmo_ccl)"
   ]
  },
  {
   "cell_type": "code",
   "execution_count": 10,
   "metadata": {},
   "outputs": [
    {
     "name": "stdout",
     "output_type": "stream",
     "text": [
      "9021260913416.271\n"
     ]
    }
   ],
   "source": [
    "print (rho2)"
   ]
  },
  {
   "cell_type": "markdown",
   "metadata": {},
   "source": [
    "###  => There is no warning but when the radius type is `int` instead of `float` the result is completely wrong."
   ]
  },
  {
   "cell_type": "markdown",
   "metadata": {},
   "source": [
    "### Comparison between different `'numpy.ndarray'`"
   ]
  },
  {
   "cell_type": "code",
   "execution_count": 11,
   "metadata": {},
   "outputs": [
    {
     "data": {
      "image/png": "[encoded data removed]",
      "text/plain": [
       "<Figure size 432x288 with 1 Axes>"
      ]
     },
     "metadata": {
      "needs_background": "light"
     },
     "output_type": "display_data"
    }
   ],
   "source": [
    "plt.plot(r3, r4, 'bx')\n",
    "plt.plot(r3, r5, 'r.')\n",
    "plt.grid()"
   ]
  },
  {
   "cell_type": "code",
   "execution_count": 12,
   "metadata": {},
   "outputs": [
    {
     "data": {
      "image/png": "[encoded data removed]",
      "text/plain": [
       "<Figure size 432x288 with 1 Axes>"
      ]
     },
     "metadata": {
      "needs_background": "light"
     },
     "output_type": "display_data"
    }
   ],
   "source": [
    "plt.plot(r3 - r5, r3 - r4, 'bx')\n",
    "plt.grid()"
   ]
  },
  {
   "cell_type": "markdown",
   "metadata": {},
   "source": [
    "###  => A priori, there is no differences betwen r3, r4 and r5"
   ]
  },
  {
   "cell_type": "code",
   "execution_count": 13,
   "metadata": {},
   "outputs": [],
   "source": [
    "rho3 = mod.get_3d_density(r3, mdelta=cluster_mass, cdelta=cluster_concentration, \n",
    "                       z_cl=z_cl, cosmo=cosmo_ccl)"
   ]
  },
  {
   "cell_type": "code",
   "execution_count": 14,
   "metadata": {},
   "outputs": [],
   "source": [
    "rho4 = mod.get_3d_density(r4, mdelta=cluster_mass, cdelta=cluster_concentration, \n",
    "                       z_cl=z_cl, cosmo=cosmo_ccl)"
   ]
  },
  {
   "cell_type": "code",
   "execution_count": 15,
   "metadata": {},
   "outputs": [],
   "source": [
    "rho5 = mod.get_3d_density(r5, mdelta=cluster_mass, cdelta=cluster_concentration, \n",
    "                       z_cl=z_cl, cosmo=cosmo_ccl)"
   ]
  },
  {
   "cell_type": "code",
   "execution_count": 16,
   "metadata": {},
   "outputs": [
    {
     "data": {
      "text/plain": [
       "<matplotlib.legend.Legend at 0x7f3597d20df0>"
      ]
     },
     "execution_count": 16,
     "metadata": {},
     "output_type": "execute_result"
    },
    {
     "data": {
      "image/png": "[encoded data removed]",
      "text/plain": [
       "<Figure size 432x288 with 1 Axes>"
      ]
     },
     "metadata": {
      "needs_background": "light"
     },
     "output_type": "display_data"
    }
   ],
   "source": [
    "plot_profile(r3, rho3, '$\\\\rho$', \"rho3\")\n",
    "plot_profile(r4, rho4, '$\\\\rho$', \"rho4\")\n",
    "plot_profile(r5, rho5, '$\\\\rho$', \"rho5\")\n",
    "plt.legend()"
   ]
  },
  {
   "cell_type": "markdown",
   "metadata": {},
   "source": [
    "###  => There is no warning but with the definition of r5 the result is completely wrong."
   ]
  },
  {
   "cell_type": "markdown",
   "metadata": {},
   "source": [
    "## Testing impact of different radius types on the `predict_excess_surface_density` theory function"
   ]
  },
  {
   "cell_type": "code",
   "execution_count": 17,
   "metadata": {},
   "outputs": [
    {
     "data": {
      "text/plain": [
       "array(36.52738818)"
      ]
     },
     "execution_count": 17,
     "metadata": {},
     "output_type": "execute_result"
    }
   ],
   "source": [
    "mod.predict_excess_surface_density(r1, cluster_mass, cluster_concentration, z_cl, cosmo=cosmo_ccl, \n",
    "                                              delta_mdef=mass_Delta, \n",
    "                                              halo_profile_model=density_profile_parametrization)"
   ]
  },
  {
   "cell_type": "code",
   "execution_count": 18,
   "metadata": {},
   "outputs": [
    {
     "data": {
      "text/plain": [
       "array(36.52738818)"
      ]
     },
     "execution_count": 18,
     "metadata": {},
     "output_type": "execute_result"
    }
   ],
   "source": [
    "#uncoment to test that the kernel silently crashes\n",
    "mod.predict_excess_surface_density(r2, cluster_mass, cluster_concentration, z_cl, cosmo=cosmo_ccl, \n",
    "                                              delta_mdef=mass_Delta, \n",
    "                                              halo_profile_model=density_profile_parametrization)"
   ]
  },
  {
   "cell_type": "code",
   "execution_count": 19,
   "metadata": {},
   "outputs": [
    {
     "data": {
      "text/plain": [
       "array([1.88988364e+02, 1.88807827e+02, 1.88598587e+02, 1.88356416e+02,\n",
       "       1.88076542e+02, 1.87753600e+02, 1.87381577e+02, 1.86953768e+02,\n",
       "       1.86462724e+02, 1.85900218e+02, 1.85257206e+02, 1.84523813e+02,\n",
       "       1.83689324e+02, 1.82742205e+02, 1.81670136e+02, 1.80460088e+02,\n",
       "       1.79098425e+02, 1.77571050e+02, 1.75863592e+02, 1.73961647e+02,\n",
       "       1.71851060e+02, 1.69518261e+02, 1.66950650e+02, 1.64137014e+02,\n",
       "       1.61067980e+02, 1.57736488e+02, 1.54138261e+02, 1.50272249e+02,\n",
       "       1.46141041e+02, 1.41751200e+02, 1.37113506e+02, 1.32243090e+02,\n",
       "       1.27159419e+02, 1.21886150e+02, 1.16450818e+02, 1.10884375e+02,\n",
       "       1.05220594e+02, 9.94953567e+01, 9.37458438e+01, 8.80096829e+01,\n",
       "       8.23240740e+01, 7.67249431e+01, 7.12461556e+01, 6.59188244e+01,\n",
       "       6.07707377e+01, 5.58259235e+01, 5.11043607e+01, 4.66218356e+01,\n",
       "       4.23899372e+01, 3.84161784e+01, 3.47042218e+01, 3.12541916e+01,\n",
       "       2.80630478e+01, 2.51250000e+01, 2.24319415e+01, 1.99738842e+01,\n",
       "       1.77393799e+01, 1.57159160e+01, 1.38902771e+01, 1.22488663e+01,\n",
       "       1.07779837e+01, 9.46406143e+00, 8.29385616e+00, 7.25460136e+00,\n",
       "       6.33412306e+00, 5.52092270e+00, 4.80423146e+00, 4.17404037e+00,\n",
       "       3.62111014e+00, 3.13696468e+00, 2.71387183e+00, 2.34481430e+00,\n",
       "       2.02345352e+00, 1.74408885e+00, 1.50161372e+00, 1.29147068e+00,\n",
       "       1.10960615e+00, 9.52426149e-01, 8.16753531e-01, 6.99787345e-01,\n",
       "       5.99064579e-01, 5.12424541e-01, 4.37975977e-01, 3.74066917e-01,\n",
       "       3.19257223e-01, 2.72293727e-01, 2.32087835e-01, 1.97695447e-01,\n",
       "       1.68299028e-01, 1.43191658e-01, 1.21762898e-01, 1.03486297e-01,\n",
       "       8.79083860e-02, 7.46390114e-02, 6.33428578e-02, 5.37320384e-02,\n",
       "       4.55596282e-02, 3.86140328e-02, 3.27140933e-02, 2.77048392e-02])"
      ]
     },
     "execution_count": 19,
     "metadata": {},
     "output_type": "execute_result"
    }
   ],
   "source": [
    "mod.predict_excess_surface_density(r3, cluster_mass, cluster_concentration, z_cl, cosmo=cosmo_ccl, \n",
    "                                              delta_mdef=mass_Delta, \n",
    "                                              halo_profile_model=density_profile_parametrization)"
   ]
  },
  {
   "cell_type": "code",
   "execution_count": 20,
   "metadata": {},
   "outputs": [
    {
     "data": {
      "text/plain": [
       "array([1.88988364e+02, 1.88807827e+02, 1.88598587e+02, 1.88356416e+02,\n",
       "       1.88076542e+02, 1.87753600e+02, 1.87381577e+02, 1.86953768e+02,\n",
       "       1.86462724e+02, 1.85900218e+02, 1.85257206e+02, 1.84523813e+02,\n",
       "       1.83689324e+02, 1.82742205e+02, 1.81670136e+02, 1.80460088e+02,\n",
       "       1.79098425e+02, 1.77571050e+02, 1.75863592e+02, 1.73961647e+02,\n",
       "       1.71851060e+02, 1.69518261e+02, 1.66950650e+02, 1.64137014e+02,\n",
       "       1.61067980e+02, 1.57736488e+02, 1.54138261e+02, 1.50272249e+02,\n",
       "       1.46141041e+02, 1.41751200e+02, 1.37113506e+02, 1.32243090e+02,\n",
       "       1.27159419e+02, 1.21886150e+02, 1.16450818e+02, 1.10884375e+02,\n",
       "       1.05220594e+02, 9.94953567e+01, 9.37458438e+01, 8.80096829e+01,\n",
       "       8.23240740e+01, 7.67249431e+01, 7.12461556e+01, 6.59188244e+01,\n",
       "       6.07707377e+01, 5.58259235e+01, 5.11043607e+01, 4.66218356e+01,\n",
       "       4.23899372e+01, 3.84161784e+01, 3.47042218e+01, 3.12541916e+01,\n",
       "       2.80630478e+01, 2.51250000e+01, 2.24319415e+01, 1.99738842e+01,\n",
       "       1.77393799e+01, 1.57159160e+01, 1.38902771e+01, 1.22488663e+01,\n",
       "       1.07779837e+01, 9.46406143e+00, 8.29385616e+00, 7.25460136e+00,\n",
       "       6.33412306e+00, 5.52092270e+00, 4.80423146e+00, 4.17404037e+00,\n",
       "       3.62111014e+00, 3.13696468e+00, 2.71387183e+00, 2.34481430e+00,\n",
       "       2.02345352e+00, 1.74408885e+00, 1.50161372e+00, 1.29147068e+00,\n",
       "       1.10960615e+00, 9.52426149e-01, 8.16753531e-01, 6.99787345e-01,\n",
       "       5.99064579e-01, 5.12424541e-01, 4.37975977e-01, 3.74066917e-01,\n",
       "       3.19257223e-01, 2.72293727e-01, 2.32087835e-01, 1.97695447e-01,\n",
       "       1.68299028e-01, 1.43191658e-01, 1.21762898e-01, 1.03486297e-01,\n",
       "       8.79083860e-02, 7.46390114e-02, 6.33428578e-02, 5.37320384e-02,\n",
       "       4.55596282e-02, 3.86140328e-02, 3.27140933e-02, 2.77048392e-02])"
      ]
     },
     "execution_count": 20,
     "metadata": {},
     "output_type": "execute_result"
    }
   ],
   "source": [
    "mod.predict_excess_surface_density(r4, cluster_mass, cluster_concentration, z_cl, cosmo=cosmo_ccl, \n",
    "                                              delta_mdef=mass_Delta, \n",
    "                                              halo_profile_model=density_profile_parametrization)"
   ]
  },
  {
   "cell_type": "code",
   "execution_count": 21,
   "metadata": {},
   "outputs": [
    {
     "data": {
      "text/plain": [
       "array([1.88988364e+02, 1.88807827e+02, 1.88598587e+02, 1.88356416e+02,\n",
       "       1.88076542e+02, 1.87753600e+02, 1.87381577e+02, 1.86953768e+02,\n",
       "       1.86462724e+02, 1.85900218e+02, 1.85257206e+02, 1.84523813e+02,\n",
       "       1.83689324e+02, 1.82742205e+02, 1.81670136e+02, 1.80460088e+02,\n",
       "       1.79098425e+02, 1.77571050e+02, 1.75863592e+02, 1.73961647e+02,\n",
       "       1.71851060e+02, 1.69518261e+02, 1.66950650e+02, 1.64137014e+02,\n",
       "       1.61067980e+02, 1.57736488e+02, 1.54138261e+02, 1.50272249e+02,\n",
       "       1.46141041e+02, 1.41751200e+02, 1.37113506e+02, 1.32243090e+02,\n",
       "       1.27159419e+02, 1.21886150e+02, 1.16450818e+02, 1.10884375e+02,\n",
       "       1.05220594e+02, 9.94953567e+01, 9.37458438e+01, 8.80096829e+01,\n",
       "       8.23240740e+01, 7.67249431e+01, 7.12461556e+01, 6.59188244e+01,\n",
       "       6.07707377e+01, 5.58259235e+01, 5.11043607e+01, 4.66218356e+01,\n",
       "       4.23899372e+01, 3.84161784e+01, 3.47042218e+01, 3.12541916e+01,\n",
       "       2.80630478e+01, 2.51250000e+01, 2.24319415e+01, 1.99738842e+01,\n",
       "       1.77393799e+01, 1.57159160e+01, 1.38902771e+01, 1.22488663e+01,\n",
       "       1.07779837e+01, 9.46406143e+00, 8.29385616e+00, 7.25460136e+00,\n",
       "       6.33412306e+00, 5.52092270e+00, 4.80423146e+00, 4.17404037e+00,\n",
       "       3.62111014e+00, 3.13696468e+00, 2.71387183e+00, 2.34481430e+00,\n",
       "       2.02345352e+00, 1.74408885e+00, 1.50161372e+00, 1.29147068e+00,\n",
       "       1.10960615e+00, 9.52426149e-01, 8.16753531e-01, 6.99787345e-01,\n",
       "       5.99064579e-01, 5.12424541e-01, 4.37975977e-01, 3.74066917e-01,\n",
       "       3.19257223e-01, 2.72293727e-01, 2.32087835e-01, 1.97695447e-01,\n",
       "       1.68299028e-01, 1.43191658e-01, 1.21762898e-01, 1.03486297e-01,\n",
       "       8.79083860e-02, 7.46390114e-02, 6.33428578e-02, 5.37320384e-02,\n",
       "       4.55596282e-02, 3.86140328e-02, 3.27140933e-02, 2.77048392e-02])"
      ]
     },
     "execution_count": 21,
     "metadata": {},
     "output_type": "execute_result"
    }
   ],
   "source": [
    "#uncoment to test that the kernel silently crashes\n",
    "mod.predict_excess_surface_density(r5, cluster_mass, cluster_concentration, z_cl, cosmo=cosmo_ccl, \n",
    "                                              delta_mdef=mass_Delta, \n",
    "                                              halo_profile_model=density_profile_parametrization)"
   ]
  },
  {
   "cell_type": "markdown",
   "metadata": {},
   "source": [
    "###  => There is no warning but with `int` or with the definition of r5, the function `predict_excess_surface_density` runs forever or silently crashes."
   ]
  }
 ],
 "metadata": {
  "kernelspec": {
   "display_name": "Python 3",
   "language": "python",
   "name": "python3"
  },
  "language_info": {
   "codemirror_mode": {
    "name": "ipython",
    "version": 3
   },
   "file_extension": ".py",
   "mimetype": "text/x-python",
   "name": "python",
   "nbconvert_exporter": "python",
   "pygments_lexer": "ipython3",
   "version": "3.8.3"
  }
 },
 "nbformat": 4,
 "nbformat_minor": 4
}
