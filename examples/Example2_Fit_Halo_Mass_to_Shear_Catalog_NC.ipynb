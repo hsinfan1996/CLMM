{
 "cells": [
  {
   "cell_type": "markdown",
   "metadata": {},
   "source": [
    "# Fit halo mass to shear profile: 2. realistic data\n",
    "\n",
    "_the LSST-DESC CLMM team_\n",
    "\n",
    "\n",
    "This notebook demonstrates how to use `clmm` to estimate a WL halo mass from observations of a galaxy cluster. It uses several functionalities of the support `mock_data` module to produce datasets of increasing complexity. This notebook also demonstrates the bias introduced on the reconstructed mass by a naive fit, when the redshift distribution of the background galaxies is not properly accounted for in the model. Organization of this notebook goes as follows:\n",
    "\n",
    "- Setting things up, with the proper imports.\n",
    "- Generating 3 datasets: an ideal dataset (dataset1) similar to that of Example1 (single source plane); an ideal dataset but with source galaxies following the Chang et al. (2013) redshift distribution (dataset2); a noisy dataset where photoz errors and shape noise are also included (dataset3). \n",
    "- Computing the binned reduced tangential shear profile, for the 3 datasets, using logarithmic binning.\n",
    "- Setting up the \"single source plane\" model to be fitted to the 3 datasets. Only dataset1 has a single source plane, so we expect to see a bias in the reconstructed mass when using this model on datasets 2 and 3. \n",
    "- Perform a simple fit using `scipy.optimize.curve_fit` and visualize the results."
   ]
  },
  {
   "cell_type": "markdown",
   "metadata": {},
   "source": [
    "## Setup"
   ]
  },
  {
   "cell_type": "markdown",
   "metadata": {},
   "source": [
    "First, we import some standard packages."
   ]
  },
  {
   "cell_type": "code",
   "execution_count": 1,
   "metadata": {},
   "outputs": [],
   "source": [
    "# For NumCosmo\n",
    "import os\n",
    "import sys\n",
    "import gi\n",
    "\n",
    "gi.require_version('NumCosmo', '1.0')\n",
    "gi.require_version('NumCosmoMath', '1.0')\n",
    "from gi.repository import GObject\n",
    "from gi.repository import NumCosmo as Nc\n",
    "from gi.repository import NumCosmoMath as Ncm\n",
    "\n",
    "from scipy.stats import chi2\n",
    "import corner\n",
    "\n",
    "os.environ['CLMM_MODELING_BACKEND'] = 'nc'\n",
    "\n",
    "__name__ = \"NcContext\"\n",
    "\n",
    "Ncm.cfg_init ()\n",
    "Ncm.cfg_set_log_handler (lambda msg: sys.stdout.write (msg) and sys.stdout.flush ())"
   ]
  },
  {
   "cell_type": "code",
   "execution_count": 2,
   "metadata": {},
   "outputs": [
    {
     "data": {
      "text/plain": [
       "'0.8.0'"
      ]
     },
     "execution_count": 2,
     "metadata": {},
     "output_type": "execute_result"
    }
   ],
   "source": [
    "try: import clmm\n",
    "except:\n",
    "    import notebook_install\n",
    "    notebook_install.install_clmm_pipeline(upgrade=False)\n",
    "    import clmm\n",
    "import matplotlib.pyplot as plt\n",
    "import numpy as np\n",
    "from numpy import random\n",
    "from clmm.support.sampler import fitters\n",
    "\n",
    "clmm.__version__"
   ]
  },
  {
   "cell_type": "markdown",
   "metadata": {},
   "source": [
    "Next, we import `clmm`'s core modules."
   ]
  },
  {
   "cell_type": "code",
   "execution_count": 3,
   "metadata": {},
   "outputs": [],
   "source": [
    "import clmm.dataops as da\n",
    "import clmm.galaxycluster as gc\n",
    "import clmm.theory as theory\n",
    "from clmm import Cosmology"
   ]
  },
  {
   "cell_type": "markdown",
   "metadata": {},
   "source": [
    "We then import a support modules for a specific data sets.\n",
    "`clmm` includes support modules that enable the user to generate mock data in a format compatible with `clmm`."
   ]
  },
  {
   "cell_type": "code",
   "execution_count": 4,
   "metadata": {},
   "outputs": [],
   "source": [
    "from clmm.support import mock_data as mock"
   ]
  },
  {
   "cell_type": "markdown",
   "metadata": {},
   "source": [
    "## Making mock data"
   ]
  },
  {
   "cell_type": "markdown",
   "metadata": {},
   "source": [
    "For reproducibility:"
   ]
  },
  {
   "cell_type": "code",
   "execution_count": 5,
   "metadata": {},
   "outputs": [],
   "source": [
    "np.random.seed(11)"
   ]
  },
  {
   "cell_type": "markdown",
   "metadata": {},
   "source": [
    "To create mock data, we need to define a true cosmology."
   ]
  },
  {
   "cell_type": "code",
   "execution_count": 6,
   "metadata": {},
   "outputs": [],
   "source": [
    "mock_cosmo = Cosmology(H0 = 70.0, Omega_dm0 = 0.27 - 0.045, Omega_b0 = 0.045, Omega_k0 = 0.0)"
   ]
  },
  {
   "cell_type": "markdown",
   "metadata": {},
   "source": [
    "We now set some parameters for a mock galaxy cluster."
   ]
  },
  {
   "cell_type": "code",
   "execution_count": 7,
   "metadata": {},
   "outputs": [],
   "source": [
    "cosmo = mock_cosmo\n",
    "cluster_m = 1.e15 # M200,m [Msun]\n",
    "cluster_z = 0.3\n",
    "concentration = 4\n",
    "ngals = 10000\n",
    "Delta = 200\n",
    "cluster_ra = 0.0\n",
    "cluster_dec = 0.0"
   ]
  },
  {
   "cell_type": "markdown",
   "metadata": {},
   "source": [
    "Then we use the `mock_data` support module to generate 3 galaxy catalogs:\n",
    "- `ideal_data`: all background galaxies at the same redshift.\n",
    "- `ideal_data_z`: galaxies distributed according to the Chang et al. (2013) redshift distribution.\n",
    "- `noisy_data_z`: `ideal_data_z` + photoz errors + shape noise"
   ]
  },
  {
   "cell_type": "code",
   "execution_count": 8,
   "metadata": {},
   "outputs": [
    {
     "name": "stderr",
     "output_type": "stream",
     "text": [
      "/home/sandro/Projects/CLMM/build/lib/clmm/theory/func_layer.py:354: UserWarning: Some source redshifts are lower than the cluster redshift. kappa = 0 for those galaxies.\n",
      "  warnings.warn(f'Some source redshifts are lower than the cluster redshift. kappa = 0 for those galaxies.')\n"
     ]
    }
   ],
   "source": [
    "ideal_data = mock.generate_galaxy_catalog(cluster_m, cluster_z, concentration, cosmo, 0.8, ngals=ngals)\n",
    "ideal_data_z = mock.generate_galaxy_catalog(cluster_m, cluster_z, concentration, cosmo,'chang13', ngals=ngals)\n",
    "noisy_data_z = mock.generate_galaxy_catalog(cluster_m, cluster_z, concentration, cosmo, 'chang13', \n",
    "                                            shapenoise=0.05, \n",
    "                                            photoz_sigma_unscaled=0.05, ngals=ngals)"
   ]
  },
  {
   "cell_type": "markdown",
   "metadata": {},
   "source": [
    "The galaxy catalogs are converted to a `clmm.GalaxyCluster` object and may be saved for later use."
   ]
  },
  {
   "cell_type": "code",
   "execution_count": 9,
   "metadata": {},
   "outputs": [],
   "source": [
    "cluster_id = \"CL_ideal\"\n",
    "gc_object = clmm.GalaxyCluster(cluster_id, cluster_ra, cluster_dec,\n",
    "                               cluster_z, ideal_data)\n",
    "gc_object.save('ideal_GC.pkl')\n",
    "\n",
    "cluster_id = \"CL_ideal_z\"\n",
    "gc_object = clmm.GalaxyCluster(cluster_id, cluster_ra, cluster_dec,\n",
    "                               cluster_z, ideal_data_z)\n",
    "gc_object.save('ideal_GC_z.pkl')\n",
    "\n",
    "cluster_id = \"CL_noisy_z\"\n",
    "gc_object = clmm.GalaxyCluster(cluster_id, cluster_ra, cluster_dec,\n",
    "                               cluster_z, noisy_data_z)\n",
    "gc_object.save('noisy_GC_z.pkl')"
   ]
  },
  {
   "cell_type": "markdown",
   "metadata": {},
   "source": [
    "Any saved `clmm.GalaxyCluster` object may be read in for analysis."
   ]
  },
  {
   "cell_type": "code",
   "execution_count": 10,
   "metadata": {},
   "outputs": [
    {
     "name": "stdout",
     "output_type": "stream",
     "text": [
      "Cluster info = ID: CL_ideal_z ; ra: 0.0 ; dec: 0.0 ; z_l : 0.3\n",
      "The number of source galaxies is : 10000\n"
     ]
    }
   ],
   "source": [
    "cl1 = clmm.GalaxyCluster.load('ideal_GC.pkl') # all background galaxies at the same redshift\n",
    "cl2 = clmm.GalaxyCluster.load('ideal_GC_z.pkl') # background galaxies distributed according to Chang et al. (2013)\n",
    "cl3 = clmm.GalaxyCluster.load('noisy_GC_z.pkl') # same as cl2 but with photoz error and shape noise\n",
    "\n",
    "print(\"Cluster info = ID:\", cl2.unique_id, \"; ra:\", cl2.ra, \"; dec:\", cl2.dec, \"; z_l :\", cl2.z)\n",
    "print(\"The number of source galaxies is :\", len(cl2.galcat))"
   ]
  },
  {
   "cell_type": "code",
   "execution_count": 11,
   "metadata": {},
   "outputs": [
    {
     "data": {
      "image/png": "[encoded data removed]",
      "text/plain": [
       "<Figure size 432x288 with 1 Axes>"
      ]
     },
     "metadata": {
      "needs_background": "light"
     },
     "output_type": "display_data"
    }
   ],
   "source": [
    "h = plt.hist(cl2.galcat['z'], bins=50)"
   ]
  },
  {
   "cell_type": "markdown",
   "metadata": {},
   "source": [
    "## Deriving observables"
   ]
  },
  {
   "cell_type": "markdown",
   "metadata": {},
   "source": [
    "### Computing shear"
   ]
  },
  {
   "cell_type": "markdown",
   "metadata": {},
   "source": [
    "`clmm.dataops.compute_tangential_and_cross_components` calculates the tangential and cross shears for each source galaxy in the cluster."
   ]
  },
  {
   "cell_type": "code",
   "execution_count": 12,
   "metadata": {},
   "outputs": [],
   "source": [
    "theta1, g_t1, g_x1 = cl1.compute_tangential_and_cross_components(geometry=\"flat\")\n",
    "theta2, g_t2, g_x2 = cl2.compute_tangential_and_cross_components(geometry=\"flat\")\n",
    "theta3, g_t3, g_x3 = cl3.compute_tangential_and_cross_components(geometry=\"flat\")"
   ]
  },
  {
   "cell_type": "markdown",
   "metadata": {},
   "source": [
    "### Radially binning the data"
   ]
  },
  {
   "cell_type": "code",
   "execution_count": 13,
   "metadata": {},
   "outputs": [],
   "source": [
    "bin_edges = da.make_bins(0.7, 4, 15, method='evenlog10width')"
   ]
  },
  {
   "cell_type": "markdown",
   "metadata": {},
   "source": [
    "`clmm.dataops.make_radial_profile` evaluates the average shear of the galaxy catalog in bins of radius."
   ]
  },
  {
   "cell_type": "code",
   "execution_count": 14,
   "metadata": {},
   "outputs": [],
   "source": [
    "profile1 = cl1.make_radial_profile(\"Mpc\", bins=bin_edges,cosmo=cosmo)\n",
    "profile2 = cl2.make_radial_profile(\"Mpc\", bins=bin_edges,cosmo=cosmo)\n",
    "profile3 = cl3.make_radial_profile(\"Mpc\", bins=bin_edges,cosmo=cosmo)"
   ]
  },
  {
   "cell_type": "markdown",
   "metadata": {},
   "source": [
    "After running `clmm.dataops.make_radial_profile` on a `clmm.GalaxyCluster` object, the object acquires the `clmm.GalaxyCluster.profile` attribute."
   ]
  },
  {
   "cell_type": "code",
   "execution_count": 15,
   "metadata": {},
   "outputs": [
    {
     "name": "stdout",
     "output_type": "stream",
     "text": [
      "radius_min   radius  radius_max     gt      gt_err      gx       gx_err      z       z_err     n_src  \n",
      "---------- --------- ---------- --------- --------- ---------- --------- --------- --------- ---------\n",
      " 7.000e-01 7.446e-01  7.863e-01 4.353e-02 1.310e-04  1.122e-18 8.188e-19 8.000e-01 2.916e-17 5.800e+01\n",
      " 7.863e-01 8.403e-01  8.831e-01 3.984e-02 1.099e-04  5.055e-19 4.608e-19 8.000e-01 2.394e-17 8.600e+01\n",
      " 8.831e-01 9.395e-01  9.920e-01 3.654e-02 1.001e-04 -8.674e-20 3.030e-19 8.000e-01 3.417e-17 9.500e+01\n",
      " 9.920e-01 1.052e+00  1.114e+00 3.332e-02 8.489e-05 -1.651e-19 4.658e-19 8.000e-01 1.933e-17 1.320e+02\n",
      " 1.114e+00 1.187e+00  1.251e+00 3.003e-02 7.147e-05 -5.078e-19 5.545e-19 8.000e-01 1.807e-17 1.510e+02\n",
      " 1.251e+00 1.331e+00  1.406e+00 2.708e-02 6.600e-05 -4.658e-20 3.316e-19 8.000e-01 1.718e-17 1.670e+02\n",
      " 1.406e+00 1.495e+00  1.579e+00 2.426e-02 5.243e-05  5.056e-19 3.138e-19 8.000e-01 0.000e+00 2.350e+02\n",
      " 1.579e+00 1.677e+00  1.773e+00 2.165e-02 3.908e-05  3.655e-21 2.141e-19 8.000e-01 5.995e-18 3.430e+02\n",
      " 1.773e+00 1.887e+00  1.992e+00 1.917e-02 3.431e-05  2.922e-19 1.562e-19 8.000e-01 0.000e+00 4.010e+02\n",
      " 1.992e+00 2.119e+00  2.237e+00 1.692e-02 2.751e-05 -1.892e-19 1.166e-19 8.000e-01 0.000e+00 4.990e+02\n",
      " 2.237e+00 2.377e+00  2.513e+00 1.489e-02 2.158e-05  2.277e-20 1.005e-19 8.000e-01 8.623e-18 6.630e+02\n",
      " 2.513e+00 2.672e+00  2.823e+00 1.301e-02 1.844e-05  5.799e-20 7.480e-20 8.000e-01 0.000e+00 7.800e+02\n",
      " 2.823e+00 2.999e+00  3.171e+00 1.135e-02 1.421e-05  1.188e-19 5.225e-20 8.000e-01 0.000e+00 1.042e+03\n",
      " 3.171e+00 3.369e+00  3.561e+00 9.842e-03 1.130e-05 -3.104e-20 4.638e-20 8.000e-01 3.078e-18 1.301e+03\n",
      " 3.561e+00 3.781e+00  4.000e+00 8.509e-03 8.960e-06  7.327e-21 3.498e-20 8.000e-01 2.738e-18 1.644e+03\n"
     ]
    }
   ],
   "source": [
    "for n in cl1.profile.colnames: cl1.profile[n].format = \"%6.3e\"\n",
    "cl1.profile.pprint(max_width=-1)"
   ]
  },
  {
   "cell_type": "markdown",
   "metadata": {},
   "source": [
    "We visualize the radially binned shear for the 3 configurations"
   ]
  },
  {
   "cell_type": "code",
   "execution_count": 16,
   "metadata": {},
   "outputs": [
    {
     "data": {
      "text/plain": [
       "<matplotlib.legend.Legend at 0x7fab4961cbe0>"
      ]
     },
     "execution_count": 16,
     "metadata": {},
     "output_type": "execute_result"
    },
    {
     "data": {
      "image/png": "[encoded data removed]",
      "text/plain": [
       "<Figure size 720x432 with 1 Axes>"
      ]
     },
     "metadata": {
      "needs_background": "light"
     },
     "output_type": "display_data"
    }
   ],
   "source": [
    "fig = plt.figure(figsize=(10, 6))\n",
    "\n",
    "\n",
    "fsize = 14\n",
    "fig.gca().errorbar(profile1['radius'], profile1['gt'], yerr=profile1['gt_err'], marker='o', label='z_src = 0.8')\n",
    "fig.gca().errorbar(profile2['radius'], profile2['gt'], yerr=profile2['gt_err'], marker='o', \n",
    "                   label='z_src = Chang et al. (2013)')\n",
    "fig.gca().errorbar(profile3['radius'], profile3['gt'], yerr=profile3['gt_err'], marker='o', \n",
    "                   label='z_src = Chang et al. (2013) + photoz err  + shape noise')\n",
    "\n",
    "plt.gca().set_title(r'Binned shear of source galaxies', fontsize=fsize)\n",
    "plt.gca().set_xlabel(r'$r\\;[Mpc]$', fontsize=fsize)\n",
    "plt.gca().set_ylabel(r'$g_t$', fontsize=fsize)\n",
    "plt.legend()"
   ]
  },
  {
   "cell_type": "markdown",
   "metadata": {},
   "source": [
    "### Fitting a halo mass - highlighting bias when not accounting for the source redshift distribution in the model"
   ]
  },
  {
   "cell_type": "markdown",
   "metadata": {},
   "source": [
    "We estimate the best-fit mass using a simple implementation of the likelihood using a NcmDataGaussDiag object.\n",
    "\n",
    "Here, to build the model we make the WRONG assumption that the average shear in bin $i$ equals the shear at the average redshift in the bin; i.e. we assume that $\\langle g_t\\rangle_i = g_t(\\langle z\\rangle_i)$. This should not impact `cluster 1` as all sources are located at the same redshift. However, this yields a bias in the econstructed mass for `cluster 2` and `cluster 3`, where the sources followed the Chang et al. (2013) distribution."
   ]
  },
  {
   "cell_type": "markdown",
   "metadata": {},
   "source": [
    "As expected, the reconstructed mass is biased whenever the sources are not located at a single redshift as this was not accounted for in the model."
   ]
  },
  {
   "cell_type": "markdown",
   "metadata": {},
   "source": [
    "## Create the halo model\n",
    "\n",
    "Here we model using the OO inteface, we also use NumCosmo statistical framework to perform the analysis. Below we create an object based on NumCosmo NcmDataGaussDiag (Gaussian likelihood with a diagonal covariance matrix) object . To connect with the C interface the object must implement the methods: do_get_length, do_get_dof, do_begin, do_prepare and do_mean_func. The last method is responsible to compute the theoretical predictions. In the param_set_ftype calls below one can change between FREE/FIXED to include/exclude the parameter from the analysis. \n",
    "\n",
    "Remember that here we are building the wrong model."
   ]
  },
  {
   "cell_type": "code",
   "execution_count": 17,
   "metadata": {},
   "outputs": [
    {
     "name": "stdout",
     "output_type": "stream",
     "text": [
      "#----------------------------------------------------------------------------------\n",
      "# Model fitting. Interating using:\n",
      "#  - solver:            NLOpt:ln-neldermead\n",
      "#  - differentiation:   Numerical differentiantion (forward)\n",
      "#..............\n",
      "#  Minimum found with precision: |df|/f =  1.00000e-08 and |dx| =  1.00000e-05\n",
      "#  Elapsed time: 00 days, 00:00:00.0029130\n",
      "#  iteration            [000056]\n",
      "#  function evaluations [000058]\n",
      "#  gradient evaluations [000000]\n",
      "#  degrees of freedom   [000013]\n",
      "#  m2lnL     =  0.00502081162003553 (  0.0050208116 )\n",
      "#  Fit parameters:\n",
      "#     3.9953235476808      15.0007832361652    \n",
      "#----------------------------------------------------------------------------------\n",
      "# NcmMSet parameters covariance matrix\n",
      "#                                                       -------------------------------\n",
      "#      cDelta[04000:00] =  3.995       +/-  0.009972    |  1           | -0.4877      |\n",
      "# log10MDelta[04000:01] =  15          +/-  0.0003027   | -0.4877      |  1           |\n",
      "#                                                       -------------------------------\n",
      "#----------------------------------------------------------------------------------\n",
      "# Model fitting. Interating using:\n",
      "#  - solver:            NLOpt:ln-neldermead\n",
      "#  - differentiation:   Numerical differentiantion (forward)\n",
      "#...............\n",
      "#  Minimum found with precision: |df|/f =  1.00000e-08 and |dx| =  1.00000e-05\n",
      "#  Elapsed time: 00 days, 00:00:00.0030000\n",
      "#  iteration            [000066]\n",
      "#  function evaluations [000068]\n",
      "#  gradient evaluations [000000]\n",
      "#  degrees of freedom   [000013]\n",
      "#  m2lnL     =     2.73688687623507 (     2.7368869 )\n",
      "#  Fit parameters:\n",
      "#     3.81171853288838     14.9400250978337    \n",
      "#----------------------------------------------------------------------------------\n",
      "# NcmMSet parameters covariance matrix\n",
      "#                                                       -------------------------------\n",
      "#      cDelta[04000:00] =  3.812       +/-  0.07116     |  1           | -0.3029      |\n",
      "# log10MDelta[04000:01] =  14.94       +/-  0.001696    | -0.3029      |  1           |\n",
      "#                                                       -------------------------------\n",
      "#----------------------------------------------------------------------------------\n",
      "# Model fitting. Interating using:\n",
      "#  - solver:            NLOpt:ln-neldermead\n",
      "#  - differentiation:   Numerical differentiantion (forward)\n",
      "#..................\n",
      "#  Minimum found with precision: |df|/f =  1.00000e-08 and |dx| =  1.00000e-05\n",
      "#  Elapsed time: 00 days, 00:00:00.0040220\n",
      "#  iteration            [000093]\n",
      "#  function evaluations [000095]\n",
      "#  gradient evaluations [000000]\n",
      "#  degrees of freedom   [000013]\n",
      "#  m2lnL     =     13.0733570914813 (     13.073357 )\n",
      "#  Fit parameters:\n",
      "#     5.0129961761262      14.9199431139839    \n",
      "#----------------------------------------------------------------------------------\n",
      "# NcmMSet parameters covariance matrix\n",
      "#                                                       -------------------------------\n",
      "#      cDelta[04000:00] =  5.013       +/-  0.8142      |  1           | -0.7308      |\n",
      "# log10MDelta[04000:01] =  14.92       +/-  0.02727     | -0.7308      |  1           |\n",
      "#                                                       -------------------------------\n"
     ]
    }
   ],
   "source": [
    "class GaussGammaTErr (Ncm.DataGaussDiag):\n",
    "    z_cluster = GObject.Property (type = float, flags = GObject.PARAM_READWRITE)\n",
    "    z_source  = GObject.Property (type = Ncm.Vector, flags = GObject.PARAM_READWRITE)\n",
    "    r_source  = GObject.Property (type = Ncm.Vector, flags = GObject.PARAM_READWRITE)\n",
    "    z_err     = GObject.Property (type = Ncm.Vector, flags = GObject.PARAM_READWRITE)\n",
    "\n",
    "    def __init__ (self):\n",
    "        Ncm.DataGaussDiag.__init__ (self, n_points = 0)        \n",
    "        self.moo = clmm.Modeling ()\n",
    "    \n",
    "    def init_from_data (self, z_cluster, r_source, z_source, gt_profile, gt_err, z_err = None, moo = None):\n",
    "        \n",
    "        if moo:\n",
    "            self.moo = moo\n",
    "        \n",
    "        assert len (gt_profile) == len (z_source)\n",
    "        assert len (gt_profile) == len (r_source)\n",
    "        assert len (gt_profile) == len (gt_err)\n",
    "        \n",
    "        self.set_size (len (gt_profile))\n",
    "        \n",
    "        self.props.z_cluster = z_cluster\n",
    "        self.props.z_source  = Ncm.Vector.new_array (z_source)\n",
    "        self.props.r_source  = Ncm.Vector.new_array (r_source)\n",
    "        if z_err:\n",
    "            self.props.r_source  = Ncm.Vector.new_array (z_err)\n",
    "                \n",
    "        self.y.set_array (gt_profile)\n",
    "        \n",
    "        self.sigma.set_array (gt_err)\n",
    "        \n",
    "        self.set_init (True)        \n",
    "    \n",
    "    def do_get_length (self):\n",
    "        return self.np\n",
    "\n",
    "    def do_get_dof (self):\n",
    "        return self.np\n",
    "\n",
    "    def do_begin (self):\n",
    "        pass\n",
    "\n",
    "    def do_prepare (self, mset):\n",
    "        self.moo.set_mset (mset)\n",
    "        \n",
    "    def do_mean_func (self, mset, vp):\n",
    "        vp.set_array (self.moo.eval_reduced_shear (self.props.r_source.dup_array (), self.props.z_cluster, self.props.z_source.dup_array ()))\n",
    "        return\n",
    "\n",
    "GObject.type_register (GaussGammaTErr)\n",
    "\n",
    "moo1 = clmm.Modeling (massdef = 'mean', delta_mdef = 200, halo_profile_model = 'nfw')\n",
    "moo1.set_cosmo (cosmo)\n",
    "moo1.set_concentration (4.0)\n",
    "\n",
    "moo2 = clmm.Modeling (massdef = 'mean', delta_mdef = 200, halo_profile_model = 'nfw')\n",
    "moo2.set_cosmo (cosmo)\n",
    "moo2.set_concentration (4.0)\n",
    "\n",
    "moo3 = clmm.Modeling (massdef = 'mean', delta_mdef = 200, halo_profile_model = 'nfw')\n",
    "moo3.set_cosmo (cosmo)\n",
    "moo3.set_concentration (4.0)\n",
    "\n",
    "ggt1 = GaussGammaTErr ()\n",
    "ggt2 = GaussGammaTErr ()\n",
    "ggt3 = GaussGammaTErr ()\n",
    "\n",
    "ggt1.init_from_data (z_cluster = cluster_z, r_source = profile1['radius'], z_source = profile1['z'], gt_profile = profile1['gt'], gt_err = profile1['gt_err'], moo = moo1)\n",
    "ggt2.init_from_data (z_cluster = cluster_z, r_source = profile2['radius'], z_source = profile2['z'], gt_profile = profile2['gt'], gt_err = profile2['gt_err'], moo = moo2)\n",
    "ggt3.init_from_data (z_cluster = cluster_z, r_source = profile3['radius'], z_source = profile3['z'], gt_profile = profile3['gt'], gt_err = profile3['gt_err'], moo = moo3)\n",
    "\n",
    "mset1 = ggt1.moo.get_mset ()\n",
    "mset2 = ggt2.moo.get_mset ()\n",
    "mset3 = ggt3.moo.get_mset ()\n",
    "\n",
    "MDelta_pi = mset1.param_get_by_full_name (\"NcHaloDensityProfile:log10MDelta\")\n",
    "cDelta_pi = mset1.param_get_by_full_name (\"NcHaloDensityProfile:cDelta\")\n",
    "\n",
    "mset1.param_set_ftype (MDelta_pi.mid, MDelta_pi.pid, Ncm.ParamType.FREE)\n",
    "mset1.param_set_ftype (cDelta_pi.mid, cDelta_pi.pid, Ncm.ParamType.FREE)\n",
    "mset1.prepare_fparam_map ()\n",
    "\n",
    "mset2.param_set_ftype (MDelta_pi.mid, MDelta_pi.pid, Ncm.ParamType.FREE)\n",
    "mset2.param_set_ftype (cDelta_pi.mid, cDelta_pi.pid, Ncm.ParamType.FREE)\n",
    "mset2.prepare_fparam_map ()\n",
    "\n",
    "mset3.param_set_ftype (MDelta_pi.mid, MDelta_pi.pid, Ncm.ParamType.FREE)\n",
    "mset3.param_set_ftype (cDelta_pi.mid, cDelta_pi.pid, Ncm.ParamType.FREE)\n",
    "mset3.prepare_fparam_map ()\n",
    "\n",
    "dset1 = Ncm.Dataset.new ()\n",
    "dset1.append_data (ggt1)\n",
    "lh1 = Ncm.Likelihood.new (dset1)\n",
    "\n",
    "dset2 = Ncm.Dataset.new ()\n",
    "dset2.append_data (ggt2)\n",
    "lh2 = Ncm.Likelihood.new (dset2)\n",
    "\n",
    "dset3 = Ncm.Dataset.new ()\n",
    "dset3.append_data (ggt3)\n",
    "lh3 = Ncm.Likelihood.new (dset3)\n",
    "\n",
    "fit1 = Ncm.Fit.new (Ncm.FitType.NLOPT, \"ln-neldermead\", lh1, mset1, Ncm.FitGradType.NUMDIFF_FORWARD)\n",
    "fit2 = Ncm.Fit.new (Ncm.FitType.NLOPT, \"ln-neldermead\", lh2, mset2, Ncm.FitGradType.NUMDIFF_FORWARD)\n",
    "fit3 = Ncm.Fit.new (Ncm.FitType.NLOPT, \"ln-neldermead\", lh3, mset3, Ncm.FitGradType.NUMDIFF_FORWARD)\n",
    "\n",
    "fit1.run (Ncm.FitRunMsgs.SIMPLE)\n",
    "fit1.fisher ()\n",
    "fit1.log_covar ()\n",
    "\n",
    "fit2.run (Ncm.FitRunMsgs.SIMPLE)\n",
    "fit2.fisher ()\n",
    "fit2.log_covar ()\n",
    "\n",
    "fit3.run (Ncm.FitRunMsgs.SIMPLE)\n",
    "fit3.fisher ()\n",
    "fit3.log_covar ()\n"
   ]
  },
  {
   "cell_type": "markdown",
   "metadata": {},
   "source": [
    "## Visualization of the results\n",
    "\n",
    "For visualization purpose, we calculate the reduced tangential shear predicted by the model when using the average redshift of the catalog."
   ]
  },
  {
   "cell_type": "code",
   "execution_count": 18,
   "metadata": {},
   "outputs": [
    {
     "name": "stdout",
     "output_type": "stream",
     "text": [
      " 1.001805095144565e+15 +/- 7e+11  8.710139243072430e+14 +/- 3e+12  8.316548297494131e+14 +/- 5e+13\n"
     ]
    }
   ],
   "source": [
    "rr = np.logspace(-0.5, np.log10(5), 100)\n",
    "\n",
    "gt_model1 = moo1.eval_reduced_shear (rr, cluster_z, np.mean(cl1.galcat['z']))\n",
    "gt_model2 = moo2.eval_reduced_shear (rr, cluster_z, np.mean(cl2.galcat['z']))\n",
    "gt_model3 = moo3.eval_reduced_shear (rr, cluster_z, np.mean(cl3.galcat['z']))\n",
    "\n",
    "m_est1 = 10**mset1.param_get (MDelta_pi.mid, MDelta_pi.pid)\n",
    "m_est2 = 10**mset2.param_get (MDelta_pi.mid, MDelta_pi.pid)\n",
    "m_est3 = 10**mset3.param_get (MDelta_pi.mid, MDelta_pi.pid)\n",
    "\n",
    "m_est_err1 = fit1.covar_sd (MDelta_pi.mid, MDelta_pi.pid) * m_est1 * math.log (10.0)\n",
    "m_est_err2 = fit2.covar_sd (MDelta_pi.mid, MDelta_pi.pid) * m_est2 * math.log (10.0)\n",
    "m_est_err3 = fit3.covar_sd (MDelta_pi.mid, MDelta_pi.pid) * m_est3 * math.log (10.0)\n",
    "\n",
    "print (\"% 22.15e +/- %.0e % 22.15e +/- %.0e % 22.15e +/- %.0e\" % (m_est1, m_est_err1, m_est2, m_est_err2, m_est3, m_est_err3))"
   ]
  },
  {
   "cell_type": "markdown",
   "metadata": {},
   "source": [
    "We visualize that prediction of reduced tangential shear along with the data"
   ]
  },
  {
   "cell_type": "code",
   "execution_count": 19,
   "metadata": {},
   "outputs": [
    {
     "data": {
      "image/png": "[encoded data removed]",
      "text/plain": [
       "<Figure size 1152x432 with 2 Axes>"
      ]
     },
     "metadata": {
      "needs_background": "light"
     },
     "output_type": "display_data"
    }
   ],
   "source": [
    "fig, axes = plt.subplots(nrows=1, ncols=2, figsize=(16, 6))\n",
    "\n",
    "axes[0].errorbar(profile1['radius'], profile1['gt'],profile1['gt_err'], color='red',\n",
    "                 label='ideal_data, M_input = %.3e Msun' % cluster_m, fmt='.')\n",
    "axes[0].plot(rr, gt_model1,color='red',\n",
    "             label='best fit model 1, M_fit = %.2e +/- %.2e' % (m_est1, m_est_err1))\n",
    "\n",
    "\n",
    "axes[0].errorbar(profile2['radius'], profile2['gt'],profile2['gt_err'], color='green',\n",
    "                  label='ideal_data_z, M_input = %.3e Msun' % cluster_m, fmt='.')\n",
    "axes[0].plot(rr, gt_model2, color='green',\n",
    "               label='best fit model 2, M_fit = %.2e +/- %.2e' % (m_est2, m_est_err2))\n",
    "axes[0].set_title('Ideal data w/wo src redshift distribution',fontsize=fsize)\n",
    "axes[0].semilogx()\n",
    "axes[0].semilogy()\n",
    "axes[0].legend(fontsize=fsize)\n",
    "axes[0].set_xlabel('R [Mpc]', fontsize=fsize)\n",
    "axes[0].set_ylabel('reduced tangential shear', fontsize=fsize)\n",
    "\n",
    "axes[1].errorbar(profile3['radius'], profile3['gt'],profile3['gt_err'], color='red',\n",
    "                label='noisy_data_z, M_input = %.3e Msun' % cluster_m, fmt='.')\n",
    "axes[1].plot(rr, gt_model3,color='red',\n",
    "             label='best fit model 3, M_fit = %.2e +/- %.2e' % (m_est3, m_est_err3))\n",
    "axes[1].set_title('Noisy data with src redshift distribution',fontsize=fsize)\n",
    "axes[1].semilogx()\n",
    "axes[1].semilogy()\n",
    "axes[1].legend(fontsize=fsize)\n",
    "axes[1].set_xlabel('R [Mpc]', fontsize=fsize)\n",
    "axes[1].set_ylabel('reduced tangential shear', fontsize=fsize)\n",
    "\n",
    "fig.tight_layout()"
   ]
  },
  {
   "cell_type": "markdown",
   "metadata": {},
   "source": [
    "### To investigate further the results we make a MCMC analysis below.\n",
    "\n",
    "In the end we save the catalog to mcat_wrong to compare with a correct analysis."
   ]
  },
  {
   "cell_type": "code",
   "execution_count": 20,
   "metadata": {},
   "outputs": [
    {
     "name": "stdout",
     "output_type": "stream",
     "text": [
      "# NcmThreadPool:Unused:      0\n",
      "# NcmThreadPool:Max Unused:  2\n",
      "# NcmThreadPool:Running:     0\n",
      "# NcmThreadPool:Unprocessed: 0\n",
      "# NcmThreadPool:Unused:      0\n",
      "#----------------------------------------------------------------------------------\n",
      "# NcmFitESMCMC: Starting Ensamble Sampler Markov Chain Monte Carlo.\n",
      "#   Number of walkers: 0100.\n",
      "#   Number of threads: 0000.\n",
      "#----------------------------------------------------------------------------------\n",
      "# NcmFitESMCMC: Skipping 43100 points (431.000000 iterations), will start at 43101-th point.\n",
      "#----------------------------------------------------------------------------------\n",
      "# NcmFitESMCMC: validating catalog rows [39500, 39600)\n",
      "# NcmFitESMCMC: Catalog row 39500: m2lnL =     14.3614702274859, recalculated to     14.3614702274859, diff = 0.00000e+00, SUCCEEDED!\n",
      "# NcmFitESMCMC: Catalog row 39501: m2lnL =     14.7269389203923, recalculated to     14.7269389203923, diff = 0.00000e+00, SUCCEEDED!\n",
      "# NcmFitESMCMC: Catalog row 39502: m2lnL =     17.7460271611407, recalculated to     17.7460271611407, diff = 0.00000e+00, SUCCEEDED!\n",
      "# NcmFitESMCMC: Catalog row 39503: m2lnL =     13.3481227986107, recalculated to     13.3481227986107, diff = 0.00000e+00, SUCCEEDED!\n",
      "# NcmFitESMCMC: Catalog row 39504: m2lnL =     13.4221065431941, recalculated to     13.4221065431941, diff = 0.00000e+00, SUCCEEDED!\n",
      "# NcmFitESMCMC: Catalog row 39505: m2lnL =     13.3617390530469, recalculated to     13.3617390530469, diff = 0.00000e+00, SUCCEEDED!\n",
      "# NcmFitESMCMC: Catalog row 39506: m2lnL =     13.9077219664565, recalculated to     13.9077219664565, diff = 0.00000e+00, SUCCEEDED!\n",
      "# NcmFitESMCMC: Catalog row 39507: m2lnL =      15.965022489135, recalculated to      15.965022489135, diff = 0.00000e+00, SUCCEEDED!\n",
      "# NcmFitESMCMC: Catalog row 39508: m2lnL =     13.5783689663998, recalculated to     13.5783689663998, diff = 0.00000e+00, SUCCEEDED!\n",
      "# NcmFitESMCMC: Catalog row 39509: m2lnL =     14.2917682984739, recalculated to     14.2917682984739, diff = 0.00000e+00, SUCCEEDED!\n",
      "# NcmFitESMCMC: Catalog row 39510: m2lnL =     14.1625464298298, recalculated to     14.1625464298298, diff = 0.00000e+00, SUCCEEDED!\n",
      "# NcmFitESMCMC: Catalog row 39511: m2lnL =     13.4869431207735, recalculated to     13.4869431207735, diff = 0.00000e+00, SUCCEEDED!\n",
      "# NcmFitESMCMC: Catalog row 39512: m2lnL =     13.1805342299332, recalculated to     13.1805342299332, diff = 0.00000e+00, SUCCEEDED!\n",
      "# NcmFitESMCMC: Catalog row 39513: m2lnL =      13.136591555673, recalculated to      13.136591555673, diff = 0.00000e+00, SUCCEEDED!\n",
      "# NcmFitESMCMC: Catalog row 39514: m2lnL =     16.9853098796511, recalculated to     16.9853098796511, diff = 0.00000e+00, SUCCEEDED!\n",
      "# NcmFitESMCMC: Catalog row 39515: m2lnL =     13.8569293045239, recalculated to     13.8569293045239, diff = 0.00000e+00, SUCCEEDED!\n",
      "# NcmFitESMCMC: Catalog row 39516: m2lnL =     13.8624339850982, recalculated to     13.8624339850982, diff = 0.00000e+00, SUCCEEDED!\n",
      "# NcmFitESMCMC: Catalog row 39517: m2lnL =     18.8804169772632, recalculated to     18.8804169772632, diff = 0.00000e+00, SUCCEEDED!\n",
      "# NcmFitESMCMC: Catalog row 39518: m2lnL =     13.9889145653448, recalculated to     13.9889145653448, diff = 0.00000e+00, SUCCEEDED!\n",
      "# NcmFitESMCMC: Catalog row 39519: m2lnL =     20.7672582130935, recalculated to     20.7672582130935, diff = 0.00000e+00, SUCCEEDED!\n",
      "# NcmFitESMCMC: Catalog row 39520: m2lnL =     15.8729865584878, recalculated to     15.8729865584878, diff = 0.00000e+00, SUCCEEDED!\n",
      "# NcmFitESMCMC: Catalog row 39521: m2lnL =     25.5143819602706, recalculated to     25.5143819602706, diff = 0.00000e+00, SUCCEEDED!\n",
      "# NcmFitESMCMC: Catalog row 39522: m2lnL =     15.9248347629994, recalculated to     15.9248347629994, diff = 0.00000e+00, SUCCEEDED!\n",
      "# NcmFitESMCMC: Catalog row 39523: m2lnL =     14.9444966918814, recalculated to     14.9444966918814, diff = 0.00000e+00, SUCCEEDED!\n",
      "# NcmFitESMCMC: Catalog row 39524: m2lnL =     21.1902433740711, recalculated to     21.1902433740711, diff = 0.00000e+00, SUCCEEDED!\n",
      "# NcmFitESMCMC: Catalog row 39525: m2lnL =     14.0377401726497, recalculated to     14.0377401726497, diff = 0.00000e+00, SUCCEEDED!\n",
      "# NcmFitESMCMC: Catalog row 39526: m2lnL =       14.03647193978, recalculated to       14.03647193978, diff = 0.00000e+00, SUCCEEDED!\n",
      "# NcmFitESMCMC: Catalog row 39527: m2lnL =     13.6792169647116, recalculated to     13.6792169647116, diff = 0.00000e+00, SUCCEEDED!\n",
      "# NcmFitESMCMC: Catalog row 39528: m2lnL =     18.0887020990112, recalculated to     18.0887020990112, diff = 0.00000e+00, SUCCEEDED!\n",
      "# NcmFitESMCMC: Catalog row 39529: m2lnL =      14.608953617679, recalculated to      14.608953617679, diff = 0.00000e+00, SUCCEEDED!\n",
      "# NcmFitESMCMC: Catalog row 39530: m2lnL =     13.1771557887942, recalculated to     13.1771557887942, diff = 0.00000e+00, SUCCEEDED!\n",
      "# NcmFitESMCMC: Catalog row 39531: m2lnL =      13.651224633576, recalculated to      13.651224633576, diff = 0.00000e+00, SUCCEEDED!\n",
      "# NcmFitESMCMC: Catalog row 39532: m2lnL =     14.8804641943717, recalculated to     14.8804641943717, diff = 0.00000e+00, SUCCEEDED!\n",
      "# NcmFitESMCMC: Catalog row 39533: m2lnL =     14.0279050704364, recalculated to     14.0279050704364, diff = 0.00000e+00, SUCCEEDED!\n",
      "# NcmFitESMCMC: Catalog row 39534: m2lnL =     17.5238806547535, recalculated to     17.5238806547535, diff = 0.00000e+00, SUCCEEDED!\n",
      "# NcmFitESMCMC: Catalog row 39535: m2lnL =     14.2102270082268, recalculated to     14.2102270082268, diff = 0.00000e+00, SUCCEEDED!\n",
      "# NcmFitESMCMC: Catalog row 39536: m2lnL =     15.6710779231918, recalculated to     15.6710779231918, diff = 0.00000e+00, SUCCEEDED!\n",
      "# NcmFitESMCMC: Catalog row 39537: m2lnL =     15.0205386200096, recalculated to     15.0205386200096, diff = 0.00000e+00, SUCCEEDED!\n",
      "# NcmFitESMCMC: Catalog row 39538: m2lnL =     15.1228629643768, recalculated to     15.1228629643768, diff = 0.00000e+00, SUCCEEDED!\n",
      "# NcmFitESMCMC: Catalog row 39539: m2lnL =     13.1135365901376, recalculated to     13.1135365901376, diff = 0.00000e+00, SUCCEEDED!\n",
      "# NcmFitESMCMC: Catalog row 39540: m2lnL =     13.2334801964475, recalculated to     13.2334801964475, diff = 0.00000e+00, SUCCEEDED!\n",
      "# NcmFitESMCMC: Catalog row 39541: m2lnL =     20.7535725505881, recalculated to     20.7535725505881, diff = 0.00000e+00, SUCCEEDED!\n",
      "# NcmFitESMCMC: Catalog row 39542: m2lnL =     13.4258765283351, recalculated to     13.4258765283351, diff = 0.00000e+00, SUCCEEDED!\n",
      "# NcmFitESMCMC: Catalog row 39543: m2lnL =     15.1087266871023, recalculated to     15.1087266871023, diff = 0.00000e+00, SUCCEEDED!\n",
      "# NcmFitESMCMC: Catalog row 39544: m2lnL =     13.6953417254011, recalculated to     13.6953417254011, diff = 0.00000e+00, SUCCEEDED!\n",
      "# NcmFitESMCMC: Catalog row 39545: m2lnL =     15.2707769503509, recalculated to     15.2707769503509, diff = 0.00000e+00, SUCCEEDED!\n",
      "# NcmFitESMCMC: Catalog row 39546: m2lnL =     13.3580447172857, recalculated to     13.3580447172857, diff = 0.00000e+00, SUCCEEDED!\n",
      "# NcmFitESMCMC: Catalog row 39547: m2lnL =     15.7048081164531, recalculated to     15.7048081164531, diff = 0.00000e+00, SUCCEEDED!\n",
      "# NcmFitESMCMC: Catalog row 39548: m2lnL =     13.7255445084987, recalculated to     13.7255445084987, diff = 0.00000e+00, SUCCEEDED!\n",
      "# NcmFitESMCMC: Catalog row 39549: m2lnL =     18.0984295563538, recalculated to     18.0984295563538, diff = 0.00000e+00, SUCCEEDED!\n",
      "# NcmFitESMCMC: Catalog row 39550: m2lnL =      14.888795080753, recalculated to      14.888795080753, diff = 0.00000e+00, SUCCEEDED!\n",
      "# NcmFitESMCMC: Catalog row 39551: m2lnL =     13.3185964997651, recalculated to     13.3185964997651, diff = 0.00000e+00, SUCCEEDED!\n",
      "# NcmFitESMCMC: Catalog row 39552: m2lnL =      13.741616221147, recalculated to      13.741616221147, diff = 0.00000e+00, SUCCEEDED!\n",
      "# NcmFitESMCMC: Catalog row 39553: m2lnL =       15.78795709538, recalculated to       15.78795709538, diff = 0.00000e+00, SUCCEEDED!\n",
      "# NcmFitESMCMC: Catalog row 39554: m2lnL =     13.9992103475044, recalculated to     13.9992103475044, diff = 0.00000e+00, SUCCEEDED!\n",
      "# NcmFitESMCMC: Catalog row 39555: m2lnL =     15.8458658544118, recalculated to     15.8458658544118, diff = 0.00000e+00, SUCCEEDED!\n",
      "# NcmFitESMCMC: Catalog row 39556: m2lnL =     15.3004802253198, recalculated to     15.3004802253198, diff = 0.00000e+00, SUCCEEDED!\n",
      "# NcmFitESMCMC: Catalog row 39557: m2lnL =     13.1301824235418, recalculated to     13.1301824235418, diff = 0.00000e+00, SUCCEEDED!\n",
      "# NcmFitESMCMC: Catalog row 39558: m2lnL =     16.6271987656465, recalculated to     16.6271987656465, diff = 0.00000e+00, SUCCEEDED!\n",
      "# NcmFitESMCMC: Catalog row 39559: m2lnL =     13.5351267210449, recalculated to     13.5351267210449, diff = 0.00000e+00, SUCCEEDED!\n",
      "# NcmFitESMCMC: Catalog row 39560: m2lnL =     15.6505355665161, recalculated to     15.6505355665161, diff = 0.00000e+00, SUCCEEDED!\n",
      "# NcmFitESMCMC: Catalog row 39561: m2lnL =     14.7592417972281, recalculated to     14.7592417972281, diff = 0.00000e+00, SUCCEEDED!\n",
      "# NcmFitESMCMC: Catalog row 39562: m2lnL =     16.9899032835757, recalculated to     16.9899032835757, diff = 0.00000e+00, SUCCEEDED!\n",
      "# NcmFitESMCMC: Catalog row 39563: m2lnL =     16.0081656199958, recalculated to     16.0081656199958, diff = 0.00000e+00, SUCCEEDED!\n",
      "# NcmFitESMCMC: Catalog row 39564: m2lnL =     16.1932641608571, recalculated to     16.1932641608571, diff = 0.00000e+00, SUCCEEDED!\n",
      "# NcmFitESMCMC: Catalog row 39565: m2lnL =     13.2364058319465, recalculated to     13.2364058319465, diff = 0.00000e+00, SUCCEEDED!\n",
      "# NcmFitESMCMC: Catalog row 39566: m2lnL =     13.3772601851847, recalculated to     13.3772601851847, diff = 0.00000e+00, SUCCEEDED!\n",
      "# NcmFitESMCMC: Catalog row 39567: m2lnL =     15.2932649974725, recalculated to     15.2932649974725, diff = 0.00000e+00, SUCCEEDED!\n",
      "# NcmFitESMCMC: Catalog row 39568: m2lnL =     15.9296574567574, recalculated to     15.9296574567574, diff = 0.00000e+00, SUCCEEDED!\n",
      "# NcmFitESMCMC: Catalog row 39569: m2lnL =     15.4679972963501, recalculated to     15.4679972963501, diff = 0.00000e+00, SUCCEEDED!\n",
      "# NcmFitESMCMC: Catalog row 39570: m2lnL =     20.6245504450132, recalculated to     20.6245504450132, diff = 0.00000e+00, SUCCEEDED!\n",
      "# NcmFitESMCMC: Catalog row 39571: m2lnL =     15.3817937546627, recalculated to     15.3817937546627, diff = 0.00000e+00, SUCCEEDED!\n",
      "# NcmFitESMCMC: Catalog row 39572: m2lnL =     17.4737623886887, recalculated to     17.4737623886887, diff = 0.00000e+00, SUCCEEDED!\n",
      "# NcmFitESMCMC: Catalog row 39573: m2lnL =     18.9923844984045, recalculated to     18.9923844984045, diff = 0.00000e+00, SUCCEEDED!\n",
      "# NcmFitESMCMC: Catalog row 39574: m2lnL =     15.2070253400543, recalculated to     15.2070253400543, diff = 0.00000e+00, SUCCEEDED!\n",
      "# NcmFitESMCMC: Catalog row 39575: m2lnL =     14.1632547893935, recalculated to     14.1632547893935, diff = 0.00000e+00, SUCCEEDED!\n",
      "# NcmFitESMCMC: Catalog row 39576: m2lnL =     16.7548976539705, recalculated to     16.7548976539705, diff = 0.00000e+00, SUCCEEDED!\n",
      "# NcmFitESMCMC: Catalog row 39577: m2lnL =     14.0166579428961, recalculated to     14.0166579428961, diff = 0.00000e+00, SUCCEEDED!\n",
      "# NcmFitESMCMC: Catalog row 39578: m2lnL =     13.0908919732959, recalculated to     13.0908919732959, diff = 0.00000e+00, SUCCEEDED!\n",
      "# NcmFitESMCMC: Catalog row 39579: m2lnL =     15.5417420228615, recalculated to     15.5417420228615, diff = 0.00000e+00, SUCCEEDED!\n",
      "# NcmFitESMCMC: Catalog row 39580: m2lnL =     13.2938326531257, recalculated to     13.2938326531257, diff = 0.00000e+00, SUCCEEDED!\n",
      "# NcmFitESMCMC: Catalog row 39581: m2lnL =      16.654756386304, recalculated to      16.654756386304, diff = 0.00000e+00, SUCCEEDED!\n",
      "# NcmFitESMCMC: Catalog row 39582: m2lnL =     14.2782255128889, recalculated to     14.2782255128889, diff = 0.00000e+00, SUCCEEDED!\n",
      "# NcmFitESMCMC: Catalog row 39583: m2lnL =       17.48030217816, recalculated to       17.48030217816, diff = 0.00000e+00, SUCCEEDED!\n",
      "# NcmFitESMCMC: Catalog row 39584: m2lnL =     19.1335560460322, recalculated to     19.1335560460322, diff = 0.00000e+00, SUCCEEDED!\n",
      "# NcmFitESMCMC: Catalog row 39585: m2lnL =     16.3594280840645, recalculated to     16.3594280840645, diff = 0.00000e+00, SUCCEEDED!\n",
      "# NcmFitESMCMC: Catalog row 39586: m2lnL =     14.5097590434381, recalculated to     14.5097590434381, diff = 0.00000e+00, SUCCEEDED!\n",
      "# NcmFitESMCMC: Catalog row 39587: m2lnL =     14.1281325779051, recalculated to     14.1281325779051, diff = 0.00000e+00, SUCCEEDED!\n",
      "# NcmFitESMCMC: Catalog row 39588: m2lnL =     13.5613755852338, recalculated to     13.5613755852338, diff = 0.00000e+00, SUCCEEDED!\n",
      "# NcmFitESMCMC: Catalog row 39589: m2lnL =     15.5652602273086, recalculated to     15.5652602273086, diff = 0.00000e+00, SUCCEEDED!\n",
      "# NcmFitESMCMC: Catalog row 39590: m2lnL =     20.9335844021484, recalculated to     20.9335844021484, diff = 0.00000e+00, SUCCEEDED!\n",
      "# NcmFitESMCMC: Catalog row 39591: m2lnL =      13.255850850186, recalculated to      13.255850850186, diff = 0.00000e+00, SUCCEEDED!\n",
      "# NcmFitESMCMC: Catalog row 39592: m2lnL =     13.9701384147941, recalculated to     13.9701384147941, diff = 0.00000e+00, SUCCEEDED!\n",
      "# NcmFitESMCMC: Catalog row 39593: m2lnL =     14.1772025919779, recalculated to     14.1772025919779, diff = 0.00000e+00, SUCCEEDED!\n",
      "# NcmFitESMCMC: Catalog row 39594: m2lnL =     14.7302821191528, recalculated to     14.7302821191528, diff = 0.00000e+00, SUCCEEDED!\n",
      "# NcmFitESMCMC: Catalog row 39595: m2lnL =     15.0631310468341, recalculated to     15.0631310468341, diff = 0.00000e+00, SUCCEEDED!\n",
      "# NcmFitESMCMC: Catalog row 39596: m2lnL =     17.8197829273009, recalculated to     17.8197829273009, diff = 0.00000e+00, SUCCEEDED!\n",
      "# NcmFitESMCMC: Catalog row 39597: m2lnL =     15.4850784518935, recalculated to     15.4850784518935, diff = 0.00000e+00, SUCCEEDED!\n",
      "# NcmFitESMCMC: Catalog row 39598: m2lnL =     15.2012281636408, recalculated to     15.2012281636408, diff = 0.00000e+00, SUCCEEDED!\n",
      "# NcmFitESMCMC: Catalog row 39599: m2lnL =     13.9512768637366, recalculated to     13.9512768637366, diff = 0.00000e+00, SUCCEEDED!\n",
      "#----------------------------------------------------------------------------------\n",
      "# NcmFitESMCMC: Largest relative error 1.000000e-03 attained: 9.534918e-04\n",
      "# NcmMSetCatalog: Current mean:   15.137       5.2591       14.915     \n",
      "# NcmMSetCatalog: Current msd:    0.012029     0.0050145    0.00015153 \n",
      "# NcmMSetCatalog: Current sd:     2.0742       0.88463      0.027311   \n",
      "# NcmMSetCatalog: Current var:    4.3023       0.78258      0.00074587 \n",
      "# NcmMSetCatalog: Current tau:    1.3319       1.2724       1.2191     \n"
     ]
    }
   ],
   "source": [
    "Ncm.func_eval_set_max_threads (0)\n",
    "Ncm.func_eval_log_pool_stats ()\n",
    "\n",
    "init_sampler = Ncm.MSetTransKernGauss.new (0)\n",
    "init_sampler.set_mset (mset3)\n",
    "init_sampler.set_prior_from_mset ()\n",
    "init_sampler.set_cov_from_rescale (1.0e-1)\n",
    "\n",
    "nwalkers = 100\n",
    "stretch = Ncm.FitESMCMCWalkerAPS.new (nwalkers, mset3.fparams_len ())\n",
    "\n",
    "esmcmc  = Ncm.FitESMCMC.new (fit3, nwalkers, init_sampler, stretch, Ncm.FitRunMsgs.SIMPLE)\n",
    "esmcmc.set_data_file (\"example2_fit3_wrong_esmcmc_out_aps.fits\")\n",
    "esmcmc.set_auto_trim (True)\n",
    "esmcmc.set_auto_trim_div (100)\n",
    "esmcmc.set_max_runs_time (2.0 * 60.0)\n",
    "\n",
    "esmcmc.start_run ()\n",
    "esmcmc.run_lre (20, 1.0e-3)\n",
    "esmcmc.end_run ()\n",
    "\n",
    "mcat_wrong = esmcmc.peek_catalog ()"
   ]
  },
  {
   "cell_type": "markdown",
   "metadata": {},
   "source": [
    "## Correct non- projected model\n",
    "\n",
    "Here, instead of build a object directly on top of NcmDataGauss* we use NumCosmo's framework to build non-binned likelihood for weak-lensing cluster analysis.\n",
    "\n",
    "For that we need two objects: a NcGalaxyWLReducedShearGauss that model a Gaussian distributed reduced shear likelihood, here the observables matrix is simply $(r, \\gamma_t, \\sigma_{\\gamma_t})$ for each galaxy. If the data has spectroscopic redshifts then we use NcGalaxyRedshiftSpec with an array of real redshifts. When photometric errors are included we use the NcGalaxyRedshiftGauss object that receives $(z, \\sigma_z)$ for each cluster. \n",
    "\n",
    "Once we have the data objects ready we can proceed as in the previous examples.\n"
   ]
  },
  {
   "cell_type": "code",
   "execution_count": 21,
   "metadata": {},
   "outputs": [
    {
     "name": "stdout",
     "output_type": "stream",
     "text": [
      "#----------------------------------------------------------------------------------\n",
      "# Model fitting. Interating using:\n",
      "#  - solver:            NLOpt:ln-neldermead\n",
      "#  - differentiation:   Numerical differentiantion (forward)\n",
      "#..............\n",
      "#  Minimum found with precision: |df|/f =  1.00000e-08 and |dx| =  1.00000e-05\n",
      "#  Elapsed time: 00 days, 00:00:00.1146790\n",
      "#  iteration            [000057]\n",
      "#  function evaluations [000059]\n",
      "#  gradient evaluations [000000]\n",
      "#  degrees of freedom   [009998]\n",
      "#  m2lnL     =   0.0247264130923619 (   0.024726413 )\n",
      "#  Fit parameters:\n",
      "#     3.9999835855765      15.0000069687639    \n",
      "#----------------------------------------------------------------------------------\n",
      "# NcmMSet parameters covariance matrix\n",
      "#                                                       -------------------------------\n",
      "#      cDelta[04000:00] =  4           +/-  0.0004535   |  1           | -0.6532      |\n",
      "# log10MDelta[04000:01] =  15          +/-  4.995e-05   | -0.6532      |  1           |\n",
      "#                                                       -------------------------------\n",
      "#----------------------------------------------------------------------------------\n",
      "# Model fitting. Interating using:\n",
      "#  - solver:            NLOpt:ln-neldermead\n",
      "#  - differentiation:   Numerical differentiantion (forward)\n",
      "#..............\n",
      "#  Minimum found with precision: |df|/f =  1.00000e-08 and |dx| =  1.00000e-05\n",
      "#  Elapsed time: 00 days, 00:00:00.2137710\n",
      "#  iteration            [000059]\n",
      "#  function evaluations [000061]\n",
      "#  gradient evaluations [000000]\n",
      "#  degrees of freedom   [009998]\n",
      "#  m2lnL     =    0.655239547895844 (    0.65523955 )\n",
      "#  Fit parameters:\n",
      "#     4.00018620223259     14.9999967336657    \n",
      "#----------------------------------------------------------------------------------\n",
      "# NcmMSet parameters covariance matrix\n",
      "#                                                       -------------------------------\n",
      "#      cDelta[04000:00] =  4           +/-  0.0002977   |  1           | -0.705       |\n",
      "# log10MDelta[04000:01] =  15          +/-  4.276e-05   | -0.705       |  1           |\n",
      "#                                                       -------------------------------\n",
      "#----------------------------------------------------------------------------------\n",
      "# Model fitting. Interating using:\n",
      "#  - solver:            NLOpt:ln-neldermead\n",
      "#  - differentiation:   Numerical differentiantion (forward)\n",
      "#..............\n",
      "#  Minimum found with precision: |df|/f =  1.00000e-08 and |dx| =  1.00000e-05\n",
      "#  Elapsed time: 00 days, 00:00:05.2817300\n",
      "#  iteration            [000054]\n",
      "#  function evaluations [000056]\n",
      "#  gradient evaluations [000000]\n",
      "#  degrees of freedom   [009998]\n",
      "#  m2lnL     =     9707.14710691587 (     9707.1471 )\n",
      "#  Fit parameters:\n",
      "#     3.98538418250225     15.0219053770406    \n",
      "#----------------------------------------------------------------------------------\n",
      "# NcmMSet parameters covariance matrix\n",
      "#                                                       -------------------------------\n",
      "#      cDelta[04000:00] =  3.985       +/-  0.2097      |  1           | -0.6822      |\n",
      "# log10MDelta[04000:01] =  15.02       +/-  0.02192     | -0.6822      |  1           |\n",
      "#                                                       -------------------------------\n",
      " 1.000016046300544e+15  9.999924790155086e+14  1.051732700055506e+15\n"
     ]
    }
   ],
   "source": [
    "def create_nc_data_cluster_wl (theta, g_t, z_source, z_cluster, cosmo, dist, sigma_z = None, sigma_g = None):\n",
    "    r  = clmm.convert_units (theta, \"radians\", \"Mpc\", redshift = z_cluster, cosmo = cosmo)\n",
    "    ga = Ncm.ObjArray.new ()\n",
    "    \n",
    "    sigma_g = 1.0e-4 if not sigma_g else sigma_g\n",
    "    m_obs = np.column_stack ((r, g_t, np.repeat (sigma_g, len (r))))\n",
    "    \n",
    "    grsg = Nc.GalaxyWLReducedShearGauss (pos = Nc.GalaxyWLReducedShearGaussPos.R)\n",
    "    grsg.set_obs (Ncm.Matrix.new_array (m_obs.flatten (), 3))\n",
    "    \n",
    "    if sigma_z:\n",
    "        gzgs = Nc.GalaxyRedshiftGauss ()\n",
    "        z_obs = np.column_stack ((z_source, (1.0 + z_source) * sigma_z))\n",
    "        gzgs.set_obs (Ncm.Matrix.new_array (z_obs.flatten (), 2))\n",
    "    else:\n",
    "        gzgs = Nc.GalaxyRedshiftSpec ()\n",
    "        gzgs.set_z (Ncm.Vector.new_array (z_source))\n",
    "\n",
    "    gwl  = Nc.GalaxyWL (wl_dist = grsg, gz_dist = gzgs)\n",
    "    ga.add (gwl)\n",
    "\n",
    "    nc_dcwl = Nc.DataClusterWL (galaxy_array = ga, z_cluster = z_cluster)\n",
    "    nc_dcwl.set_init (True)\n",
    "    \n",
    "    return nc_dcwl\n",
    "\n",
    "def create_fit_obj (data_array, mset):\n",
    "    dset = Ncm.Dataset.new ()\n",
    "    for data in data_array:\n",
    "        dset.append_data (data)\n",
    "    lh = Ncm.Likelihood.new (dset)\n",
    "    fit = Ncm.Fit.new (Ncm.FitType.NLOPT, \"ln-neldermead\", lh, mset, Ncm.FitGradType.NUMDIFF_FORWARD)\n",
    "    #fit.set_params_reltol (1.0e-8)\n",
    "    #fit.set_m2lnL_reltol (1.0e-11)\n",
    "    \n",
    "    return fit\n",
    "\n",
    "ggt1 = create_nc_data_cluster_wl (theta1, g_t1, cl1.galcat['z'], cluster_z, cosmo, cosmo.dist, sigma_z = None, sigma_g = None)\n",
    "ggt2 = create_nc_data_cluster_wl (theta2, g_t2, cl2.galcat['z'], cluster_z, cosmo, cosmo.dist, sigma_z = None, sigma_g = None)\n",
    "ggt3 = create_nc_data_cluster_wl (theta3, g_t3, cl3.galcat['z'], cluster_z, cosmo, cosmo.dist, sigma_z = 0.05, sigma_g = 0.05)\n",
    "    \n",
    "fit1 = create_fit_obj ([ggt1], mset1)\n",
    "fit2 = create_fit_obj ([ggt2], mset2)\n",
    "fit3 = create_fit_obj ([ggt3], mset3)\n",
    "\n",
    "fit1.run (Ncm.FitRunMsgs.SIMPLE)\n",
    "fit1.obs_fisher ()\n",
    "fit1.log_covar ()\n",
    "\n",
    "fit2.run (Ncm.FitRunMsgs.SIMPLE)\n",
    "fit2.obs_fisher ()\n",
    "fit2.log_covar ()\n",
    "\n",
    "fit3.run (Ncm.FitRunMsgs.SIMPLE)\n",
    "fit3.obs_fisher ()\n",
    "fit3.log_covar ()\n",
    "\n",
    "mest1 = 10**mset1.param_get (MDelta_pi.mid, MDelta_pi.pid)\n",
    "mest2 = 10**mset2.param_get (MDelta_pi.mid, MDelta_pi.pid)\n",
    "mest3 = 10**mset3.param_get (MDelta_pi.mid, MDelta_pi.pid)\n",
    "\n",
    "print (\"% 22.15e % 22.15e % 22.15e\" % (mest1, mest2, mest3))"
   ]
  },
  {
   "cell_type": "markdown",
   "metadata": {},
   "source": [
    "## Visualizing the results\n",
    "\n",
    "Note that below we no longer have biased results, all results are well within the error bars. Note also that the error bars are substantially smaller than in the binned case."
   ]
  },
  {
   "cell_type": "code",
   "execution_count": 24,
   "metadata": {},
   "outputs": [
    {
     "name": "stdout",
     "output_type": "stream",
     "text": [
      " 1.000016046300544e+15 +/- 1e+11  9.999924790155086e+14 +/- 1e+11  1.051732700055506e+15 +/- 5e+13\n"
     ]
    }
   ],
   "source": [
    "rr = np.logspace(-0.5, np.log10(5), 100)\n",
    "\n",
    "gt_model1 = moo1.eval_reduced_shear (rr, cluster_z, np.mean(cl1.galcat['z']))\n",
    "gt_model2 = moo2.eval_reduced_shear (rr, cluster_z, np.mean(cl2.galcat['z']))\n",
    "gt_model3 = moo3.eval_reduced_shear (rr, cluster_z, np.mean(cl3.galcat['z']))\n",
    "\n",
    "m_est1 = 10**mset1.param_get (MDelta_pi.mid, MDelta_pi.pid)\n",
    "m_est2 = 10**mset2.param_get (MDelta_pi.mid, MDelta_pi.pid)\n",
    "m_est3 = 10**mset3.param_get (MDelta_pi.mid, MDelta_pi.pid)\n",
    "\n",
    "m_est_err1 = fit1.covar_sd (MDelta_pi.mid, MDelta_pi.pid) * m_est1 * math.log (10.0)\n",
    "m_est_err2 = fit2.covar_sd (MDelta_pi.mid, MDelta_pi.pid) * m_est2 * math.log (10.0)\n",
    "m_est_err3 = fit3.covar_sd (MDelta_pi.mid, MDelta_pi.pid) * m_est3 * math.log (10.0)\n",
    "\n",
    "print (\"% 22.15e +/- %.0e % 22.15e +/- %.0e % 22.15e +/- %.0e\" % (m_est1, m_est_err1, m_est2, m_est_err2, m_est3, m_est_err3))"
   ]
  },
  {
   "cell_type": "markdown",
   "metadata": {},
   "source": [
    "### To investigate further the results we make a MCMC analysis below."
   ]
  },
  {
   "cell_type": "code",
   "execution_count": 25,
   "metadata": {},
   "outputs": [
    {
     "name": "stdout",
     "output_type": "stream",
     "text": [
      "# NcmThreadPool:Unused:      0\n",
      "# NcmThreadPool:Max Unused:  2\n",
      "# NcmThreadPool:Running:     0\n",
      "# NcmThreadPool:Unprocessed: 0\n",
      "# NcmThreadPool:Unused:      0\n",
      "#----------------------------------------------------------------------------------\n",
      "# NcmFitESMCMC: Starting Ensamble Sampler Markov Chain Monte Carlo.\n",
      "#   Number of walkers: 0100.\n",
      "#   Number of threads: 0000.\n",
      "# NcmFitESMCMC: No RNG was defined, using algorithm: `mt19937' and seed: 473814323.\n",
      "# NcmMSetCatalog: Current mean:   9717         3.9858       15.015     \n",
      "# NcmMSetCatalog: Current msd:    1.4754       0.00099315   0.005067   \n",
      "# NcmMSetCatalog: Current sd:     14.754       0.0099315    0.05067    \n",
      "# NcmMSetCatalog: Current var:    217.68       9.8635e-05   0.0025674  \n",
      "# NcmMSetCatalog: Current tau:    1            1            1          \n",
      "# NcmMSetCatalog: Current skfac: -nan         -nan         -nan        \n",
      "# NcmMSetCatalog: Maximal Shrink factor = 1e+10                 \n",
      "#----------------------------------------------------------------------------------\n",
      "# NcmMSetCatalog: Computing the constant break point for parameter `0', sample size `1':\n",
      "# NcmMSetCatalog: Constant break point at `0':\n",
      "# NcmFitESMCMC:acceptance ratio 100.0000% (last update 100.0000%), offboard ratio  0.0000% (last update  0.0000%).\n",
      "# NcmFitESMCMC:last ensemble variance of -2ln(L):       139.121959752109 (2n = 4), min(-2ln(L)) =       9707.14844188284.\n",
      "# Task:NcmFitESMCMC, completed: 100 of 100, elapsed time: 00:00:12.8751\n",
      "# Task:NcmFitESMCMC, mean time: 00:00:00.1287 +/- 00:00:00.1287\n",
      "# Task:NcmFitESMCMC, time left: 00:00:00.0000 +/- 00:00:00.0000\n",
      "# Task:NcmFitESMCMC, current time:        Thu Dec 17 2020, 15:54:57\n",
      "# Task:NcmFitESMCMC, estimated to end at: Thu Dec 17 2020, 15:54:57 +/- 00:00:00.0000\n",
      "# NcmFitESMCMC: Running first 99 pre-runs...\n",
      "#----------------------------------------------------------------------------------\n",
      "# NcmFitESMCMC: Calculating [000099] Ensemble Sampler Markov Chain Monte Carlo runs [APS-Move]\n",
      "# Task:NcmFitESMCMC, started at: Thu Dec 17 2020, 15:54:44\n",
      "# NcmMSetCatalog: Current mean:   9710.1       3.9812       15.02      \n",
      "# NcmMSetCatalog: Current msd:    0.26117      0.0015713    0.0010414  \n",
      "# NcmMSetCatalog: Current sd:     6.9099       0.041573     0.027553   \n",
      "# NcmMSetCatalog: Current var:    47.747       0.0017283    0.00075918 \n",
      "# NcmMSetCatalog: Current tau:    1            1            1          \n",
      "# NcmMSetCatalog: Current skfac:  1.0166       1.0113       1.0511     \n",
      "# NcmMSetCatalog: Maximal Shrink factor = 1.0588                \n",
      "#----------------------------------------------------------------------------------\n",
      "# NcmMSetCatalog: Computing the constant break point for parameter `0', sample size `7':\n",
      "# NcmMSetCatalog: Constant break point at `3':\n",
      "# NcmFitESMCMC:acceptance ratio 86.0000% (last update 95.0000%), offboard ratio  0.0000% (last update  0.0000%).\n",
      "# NcmFitESMCMC:last ensemble variance of -2ln(L):        2.4807638789908 (2n = 4), min(-2ln(L)) =       9707.14754279152.\n",
      "# Task:NcmFitESMCMC, completed: 700 of 10000, elapsed time: 00:01:19.7802\n",
      "# Task:NcmFitESMCMC, mean time: 00:00:00.1140 +/- 00:00:00.0431\n",
      "# Task:NcmFitESMCMC, time left: 00:17:39.9139 +/- 00:06:40.3929\n",
      "# Task:NcmFitESMCMC, current time:        Thu Dec 17 2020, 15:56:04\n",
      "# Task:NcmFitESMCMC, estimated to end at: Thu Dec 17 2020, 16:13:43 +/- 00:06:40.3929\n",
      "# NcmMSetCatalog: Current mean:   9709.5       3.9814       15.02      \n",
      "# NcmMSetCatalog: Current msd:    0.14513      0.0035174    0.00068568 \n",
      "# NcmMSetCatalog: Current sd:     5.2327       0.12682      0.024723   \n",
      "# NcmMSetCatalog: Current var:    27.381       0.016084     0.0006112  \n",
      "# NcmMSetCatalog: Current tau:    1            1            1          \n",
      "# NcmMSetCatalog: Current skfac:  1.0078       1.0167       1.0268     \n",
      "# NcmMSetCatalog: Maximal Shrink factor = 1.02732               \n",
      "#----------------------------------------------------------------------------------\n",
      "# NcmMSetCatalog: Computing the constant break point for parameter `0', sample size `13':\n",
      "# NcmMSetCatalog: Constant break point at `2':\n",
      "# NcmFitESMCMC:acceptance ratio 91.5000% (last update 100.0000%), offboard ratio  0.0000% (last update  0.0000%).\n",
      "# NcmFitESMCMC:last ensemble variance of -2ln(L):       2.64131411585465 (2n = 4), min(-2ln(L)) =       9707.14754279152.\n",
      "# Task:NcmFitESMCMC, completed: 1300 of 10000, elapsed time: 00:02:24.0152\n",
      "# Task:NcmFitESMCMC, mean time: 00:00:00.1108 +/- 00:00:00.0307\n",
      "# Task:NcmFitESMCMC, time left: 00:16:03.7832 +/- 00:04:26.7790\n",
      "# Task:NcmFitESMCMC, current time:        Thu Dec 17 2020, 15:57:08\n",
      "# Task:NcmFitESMCMC, estimated to end at: Thu Dec 17 2020, 16:13:12 +/- 00:04:26.7790\n",
      "# NcmMSetCatalog: Current mean:   9709.4       3.9862       15.02      \n",
      "# NcmMSetCatalog: Current msd:    0.10274      0.0036419    0.00054342 \n",
      "# NcmMSetCatalog: Current sd:     4.4781       0.15875      0.023687   \n",
      "# NcmMSetCatalog: Current var:    20.054       0.0252       0.00056109 \n",
      "# NcmMSetCatalog: Current tau:    1            1            1          \n",
      "# NcmMSetCatalog: Current skfac:  1.0048       1.0039       1.0158     \n",
      "# NcmMSetCatalog: Maximal Shrink factor = 1.01699               \n",
      "#----------------------------------------------------------------------------------\n",
      "# NcmMSetCatalog: Computing the constant break point for parameter `0', sample size `19':\n",
      "# NcmMSetCatalog: Constant break point at `2':\n",
      "# NcmFitESMCMC:acceptance ratio 93.5556% (last update 96.0000%), offboard ratio  0.0000% (last update  0.0000%).\n",
      "# NcmFitESMCMC:last ensemble variance of -2ln(L):       3.85638458258656 (2n = 4), min(-2ln(L)) =       9707.14754279152.\n",
      "# Task:NcmFitESMCMC, completed: 1900 of 10000, elapsed time: 00:03:30.2575\n",
      "# Task:NcmFitESMCMC, mean time: 00:00:00.1107 +/- 00:00:00.0253\n",
      "# Task:NcmFitESMCMC, time left: 00:14:56.3536 +/- 00:03:25.1580\n",
      "# Task:NcmFitESMCMC, current time:        Thu Dec 17 2020, 15:58:14\n",
      "# Task:NcmFitESMCMC, estimated to end at: Thu Dec 17 2020, 16:13:10 +/- 00:03:25.1580\n",
      "# NcmMSetCatalog: Current mean:   9709.3       3.9867       15.02      \n",
      "# NcmMSetCatalog: Current msd:    0.080425     0.0034425    0.00046329 \n",
      "# NcmMSetCatalog: Current sd:     4.0212       0.17213      0.023164   \n",
      "# NcmMSetCatalog: Current var:    16.17        0.029627     0.00053659 \n",
      "# NcmMSetCatalog: Current tau:    1            1            1          \n",
      "# NcmMSetCatalog: Current skfac:  1.0032       1.0052       1.0104     \n",
      "# NcmMSetCatalog: Maximal Shrink factor = 1.01077               \n",
      "#----------------------------------------------------------------------------------\n",
      "# NcmMSetCatalog: Computing the constant break point for parameter `0', sample size `25':\n",
      "# NcmMSetCatalog: Constant break point at `2':\n",
      "# NcmFitESMCMC:acceptance ratio 94.5417% (last update 99.0000%), offboard ratio  0.0000% (last update  0.0000%).\n",
      "# NcmFitESMCMC:last ensemble variance of -2ln(L):       5.41055305224018 (2n = 4), min(-2ln(L)) =       9707.14754279152.\n",
      "# Task:NcmFitESMCMC, completed: 2500 of 10000, elapsed time: 00:04:38.1338\n",
      "# Task:NcmFitESMCMC, mean time: 00:00:00.1113 +/- 00:00:00.0222\n",
      "# Task:NcmFitESMCMC, time left: 00:13:54.3967 +/- 00:02:46.4965\n",
      "# Task:NcmFitESMCMC, current time:        Thu Dec 17 2020, 15:59:22\n",
      "# Task:NcmFitESMCMC, estimated to end at: Thu Dec 17 2020, 16:13:16 +/- 00:02:46.4965\n",
      "# NcmMSetCatalog: Current mean:   9709.3       3.9836       15.021     \n",
      "# NcmMSetCatalog: Current msd:    0.066409     0.0032129    0.00040612 \n",
      "# NcmMSetCatalog: Current sd:     3.6975       0.17889      0.022612   \n",
      "# NcmMSetCatalog: Current var:    13.672       0.032        0.0005113  \n",
      "# NcmMSetCatalog: Current tau:    1            1            1          \n",
      "# NcmMSetCatalog: Current skfac:  1.0019       1.0043       1.0071     \n",
      "# NcmMSetCatalog: Maximal Shrink factor = 1.0071                \n",
      "#----------------------------------------------------------------------------------\n",
      "# NcmMSetCatalog: Computing the constant break point for parameter `0', sample size `31':\n",
      "# NcmMSetCatalog: Constant break point at `2':\n",
      "# NcmFitESMCMC:acceptance ratio 95.1333% (last update 100.0000%), offboard ratio  0.0000% (last update  0.0000%).\n",
      "# NcmFitESMCMC:last ensemble variance of -2ln(L):       2.53643235464912 (2n = 4), min(-2ln(L)) =        9707.1472155041.\n",
      "# Task:NcmFitESMCMC, completed: 3100 of 10000, elapsed time: 00:05:41.1793\n",
      "# Task:NcmFitESMCMC, mean time: 00:00:00.1101 +/- 00:00:00.0197\n",
      "# Task:NcmFitESMCMC, time left: 00:12:39.3956 +/- 00:02:16.0464\n",
      "# Task:NcmFitESMCMC, current time:        Thu Dec 17 2020, 16:00:25\n",
      "# Task:NcmFitESMCMC, estimated to end at: Thu Dec 17 2020, 16:13:04 +/- 00:02:16.0464\n"
     ]
    },
    {
     "name": "stdout",
     "output_type": "stream",
     "text": [
      "# NcmMSetCatalog: Current mean:   9709.3       3.9838       15.021     \n",
      "# NcmMSetCatalog: Current msd:    0.057233     0.0030495    0.00037254 \n",
      "# NcmMSetCatalog: Current sd:     3.4814       0.1855       0.022661   \n",
      "# NcmMSetCatalog: Current var:    12.12        0.034409     0.00051351 \n",
      "# NcmMSetCatalog: Current tau:    1            1            1          \n",
      "# NcmMSetCatalog: Current skfac:  1.0021       1.0033       1.0054     \n",
      "# NcmMSetCatalog: Maximal Shrink factor = 1.00545               \n",
      "#----------------------------------------------------------------------------------\n",
      "# NcmMSetCatalog: Computing the constant break point for parameter `0', sample size `37':\n",
      "# NcmMSetCatalog: Constant break point at `2':\n",
      "# NcmFitESMCMC:acceptance ratio 95.5556% (last update 99.0000%), offboard ratio  0.0000% (last update  0.0000%).\n",
      "# NcmFitESMCMC:last ensemble variance of -2ln(L):       3.87724045039401 (2n = 4), min(-2ln(L)) =        9707.1472155041.\n",
      "# Task:NcmFitESMCMC, completed: 3700 of 10000, elapsed time: 00:06:44.7340\n",
      "# Task:NcmFitESMCMC, mean time: 00:00:00.1094 +/- 00:00:00.0179\n",
      "# Task:NcmFitESMCMC, time left: 00:11:29.1390 +/- 00:01:52.9754\n",
      "# Task:NcmFitESMCMC, current time:        Thu Dec 17 2020, 16:01:28\n",
      "# Task:NcmFitESMCMC, estimated to end at: Thu Dec 17 2020, 16:12:58 +/- 00:01:52.9754\n",
      "# NcmMSetCatalog: Current mean:   9709.3       3.9837       15.021     \n",
      "# NcmMSetCatalog: Current msd:    0.055904     0.0030101    0.00036738 \n",
      "# NcmMSetCatalog: Current sd:     3.4462       0.18556      0.022647   \n",
      "# NcmMSetCatalog: Current var:    11.876       0.034431     0.00051287 \n",
      "# NcmMSetCatalog: Current tau:    1            1            1          \n",
      "# NcmMSetCatalog: Current skfac:  1.0018       1.0028       1.0054     \n",
      "# NcmMSetCatalog: Maximal Shrink factor = 1.00557               \n",
      "#----------------------------------------------------------------------------------\n",
      "# NcmMSetCatalog: Computing the constant break point for parameter `0', sample size `38':\n",
      "# NcmMSetCatalog: Constant break point at `2':\n",
      "# NcmFitESMCMC:acceptance ratio 95.6486% (last update 99.0000%), offboard ratio  0.0000% (last update  0.0000%).\n",
      "# NcmFitESMCMC:last ensemble variance of -2ln(L):       2.77833856112173 (2n = 4), min(-2ln(L)) =        9707.1472155041.\n",
      "# Task:NcmFitESMCMC, completed: 3800 of 10000, elapsed time: 00:06:55.2904\n",
      "# Task:NcmFitESMCMC, mean time: 00:00:00.1093 +/- 00:00:00.0177\n",
      "# Task:NcmFitESMCMC, time left: 00:11:17.5762 +/- 00:01:49.6042\n",
      "# Task:NcmFitESMCMC, current time:        Thu Dec 17 2020, 16:01:39\n",
      "# Task:NcmFitESMCMC, estimated to end at: Thu Dec 17 2020, 16:12:57 +/- 00:01:49.6042\n",
      "# NcmMSetCatalog: Current mean:   9709.2       3.9847       15.021     \n",
      "# NcmMSetCatalog: Current msd:    0.049562     0.0028344    0.00034155 \n",
      "# NcmMSetCatalog: Current sd:     3.2876       0.18801      0.022656   \n",
      "# NcmMSetCatalog: Current var:    10.808       0.035349     0.00051328 \n",
      "# NcmMSetCatalog: Current tau:    1            1            1          \n",
      "# NcmMSetCatalog: Current skfac:  1.0026       1.0037       1.007      \n",
      "# NcmMSetCatalog: Maximal Shrink factor = 1.00709               \n",
      "#----------------------------------------------------------------------------------\n",
      "# NcmMSetCatalog: Computing the constant break point for parameter `0', sample size `44':\n",
      "# NcmMSetCatalog: Constant break point at `2':\n",
      "# NcmFitESMCMC:acceptance ratio 95.8837% (last update 96.0000%), offboard ratio  0.0000% (last update  0.0000%).\n",
      "# NcmFitESMCMC:last ensemble variance of -2ln(L):       2.54911758195946 (2n = 4), min(-2ln(L)) =        9707.1472155041.\n",
      "# Task:NcmFitESMCMC, completed: 4400 of 10000, elapsed time: 00:07:59.0445\n",
      "# Task:NcmFitESMCMC, mean time: 00:00:00.1089 +/- 00:00:00.0164\n",
      "# Task:NcmFitESMCMC, time left: 00:10:09.6907 +/- 00:01:31.6315\n",
      "# Task:NcmFitESMCMC, current time:        Thu Dec 17 2020, 16:02:43\n",
      "# Task:NcmFitESMCMC, estimated to end at: Thu Dec 17 2020, 16:12:52 +/- 00:01:31.6315\n",
      "# NcmMSetCatalog: Current mean:   9709.3       3.9857       15.021     \n",
      "# NcmMSetCatalog: Current msd:    0.044782     0.0027195    0.00032192 \n",
      "# NcmMSetCatalog: Current sd:     3.1666       0.1923       0.022763   \n",
      "# NcmMSetCatalog: Current var:    10.027       0.036979     0.00051817 \n",
      "# NcmMSetCatalog: Current tau:    1            1            1          \n",
      "# NcmMSetCatalog: Current skfac:  1.0016       1.0048       1.0056     \n",
      "# NcmMSetCatalog: Maximal Shrink factor = 1.00616               \n",
      "#----------------------------------------------------------------------------------\n",
      "# NcmMSetCatalog: Computing the constant break point for parameter `0', sample size `50':\n",
      "# NcmMSetCatalog: Constant break point at `2':\n",
      "# NcmFitESMCMC:acceptance ratio 96.0204% (last update 98.0000%), offboard ratio  0.0000% (last update  0.0000%).\n",
      "# NcmFitESMCMC:last ensemble variance of -2ln(L):       4.03166749613005 (2n = 4), min(-2ln(L)) =        9707.1472155041.\n",
      "# Task:NcmFitESMCMC, completed: 5000 of 10000, elapsed time: 00:09:02.5503\n",
      "# Task:NcmFitESMCMC, mean time: 00:00:00.1085 +/- 00:00:00.0153\n",
      "# Task:NcmFitESMCMC, time left: 00:09:02.5485 +/- 00:01:16.4783\n",
      "# Task:NcmFitESMCMC, current time:        Thu Dec 17 2020, 16:03:46\n",
      "# Task:NcmFitESMCMC, estimated to end at: Thu Dec 17 2020, 16:12:49 +/- 00:01:16.4783\n",
      "# NcmMSetCatalog: Current mean:   9709.2       3.9868       15.021     \n",
      "# NcmMSetCatalog: Current msd:    0.041128     0.0025796    0.00030283 \n",
      "# NcmMSetCatalog: Current sd:     3.0777       0.19304      0.022662   \n",
      "# NcmMSetCatalog: Current var:    9.4725       0.037265     0.00051356 \n",
      "# NcmMSetCatalog: Current tau:    1            1            1          \n",
      "# NcmMSetCatalog: Current skfac:  1.0019       1.0048       1.005      \n",
      "# NcmMSetCatalog: Maximal Shrink factor = 1.00595               \n",
      "#----------------------------------------------------------------------------------\n",
      "# NcmMSetCatalog: Computing the constant break point for parameter `0', sample size `56':\n",
      "# NcmMSetCatalog: Constant break point at `2':\n",
      "# NcmFitESMCMC:acceptance ratio 96.1273% (last update 99.0000%), offboard ratio  0.0000% (last update  0.0000%).\n",
      "# NcmFitESMCMC:last ensemble variance of -2ln(L):       5.36514016120905 (2n = 4), min(-2ln(L)) =        9707.1472155041.\n",
      "# Task:NcmFitESMCMC, completed: 5600 of 10000, elapsed time: 00:10:05.9428\n",
      "# Task:NcmFitESMCMC, mean time: 00:00:00.1082 +/- 00:00:00.0144\n",
      "# Task:NcmFitESMCMC, time left: 00:07:56.0966 +/- 00:01:03.4050\n",
      "# Task:NcmFitESMCMC, current time:        Thu Dec 17 2020, 16:04:50\n",
      "# Task:NcmFitESMCMC, estimated to end at: Thu Dec 17 2020, 16:12:46 +/- 00:01:03.4050\n",
      "# NcmMSetCatalog: Current mean:   9709.2       3.9874       15.021     \n",
      "# NcmMSetCatalog: Current msd:    0.04054      0.0025639    0.00030053 \n",
      "# NcmMSetCatalog: Current sd:     3.0607       0.19357      0.022689   \n",
      "# NcmMSetCatalog: Current var:    9.368        0.037471     0.0005148  \n",
      "# NcmMSetCatalog: Current tau:    1            1            1          \n",
      "# NcmMSetCatalog: Current skfac:  1.0019       1.0043       1.0052     \n",
      "# NcmMSetCatalog: Maximal Shrink factor = 1.00574               \n",
      "#----------------------------------------------------------------------------------\n",
      "# NcmMSetCatalog: Computing the constant break point for parameter `0', sample size `57':\n",
      "# NcmMSetCatalog: Constant break point at `2':\n",
      "# NcmFitESMCMC:acceptance ratio 96.1429% (last update 97.0000%), offboard ratio  0.0000% (last update  0.0000%).\n",
      "# NcmFitESMCMC:last ensemble variance of -2ln(L):       3.57671735733257 (2n = 4), min(-2ln(L)) =        9707.1472155041.\n",
      "# Task:NcmFitESMCMC, completed: 5700 of 10000, elapsed time: 00:10:16.6459\n",
      "# Task:NcmFitESMCMC, mean time: 00:00:00.1082 +/- 00:00:00.0143\n",
      "# Task:NcmFitESMCMC, time left: 00:07:45.1877 +/- 00:01:01.4047\n",
      "# Task:NcmFitESMCMC, current time:        Thu Dec 17 2020, 16:05:00\n",
      "# Task:NcmFitESMCMC, estimated to end at: Thu Dec 17 2020, 16:12:46 +/- 00:01:01.4047\n",
      "# NcmMSetCatalog: Current mean:   9709.2       3.9885       15.021     \n",
      "# NcmMSetCatalog: Current msd:    0.037504     0.002459     0.00028418 \n",
      "# NcmMSetCatalog: Current sd:     2.9768       0.19518      0.022556   \n",
      "# NcmMSetCatalog: Current var:    8.8613       0.038094     0.00050876 \n",
      "# NcmMSetCatalog: Current tau:    1            1            1          \n",
      "# NcmMSetCatalog: Current skfac:  1.0028       1.004        1.0047     \n",
      "# NcmMSetCatalog: Maximal Shrink factor = 1.00529               \n",
      "#----------------------------------------------------------------------------------\n",
      "# NcmMSetCatalog: Computing the constant break point for parameter `0', sample size `63':\n",
      "# NcmMSetCatalog: Constant break point at `2':\n",
      "# NcmFitESMCMC:acceptance ratio 96.1613% (last update 98.0000%), offboard ratio  0.0000% (last update  0.0000%).\n",
      "# NcmFitESMCMC:last ensemble variance of -2ln(L):       4.13822316832623 (2n = 4), min(-2ln(L)) =        9707.1472155041.\n",
      "# Task:NcmFitESMCMC, completed: 6300 of 10000, elapsed time: 00:11:20.3854\n",
      "# Task:NcmFitESMCMC, mean time: 00:00:00.1080 +/- 00:00:00.0136\n",
      "# Task:NcmFitESMCMC, time left: 00:06:39.5898 +/- 00:00:50.1652\n",
      "# Task:NcmFitESMCMC, current time:        Thu Dec 17 2020, 16:06:04\n",
      "# Task:NcmFitESMCMC, estimated to end at: Thu Dec 17 2020, 16:12:44 +/- 00:00:50.1652\n"
     ]
    },
    {
     "name": "stdout",
     "output_type": "stream",
     "text": [
      "# NcmMSetCatalog: Current mean:   9709.2       3.989        15.021     \n",
      "# NcmMSetCatalog: Current msd:    0.034958     0.002367     0.00027115 \n",
      "# NcmMSetCatalog: Current sd:     2.9038       0.19662      0.022523   \n",
      "# NcmMSetCatalog: Current var:    8.4321       0.038658     0.0005073  \n",
      "# NcmMSetCatalog: Current tau:    1            1            1          \n",
      "# NcmMSetCatalog: Current skfac:  1.0028       1.0034       1.004      \n",
      "# NcmMSetCatalog: Maximal Shrink factor = 1.00427               \n",
      "#----------------------------------------------------------------------------------\n",
      "# NcmMSetCatalog: Computing the constant break point for parameter `0', sample size `69':\n",
      "# NcmMSetCatalog: Constant break point at `2':\n",
      "# NcmFitESMCMC:acceptance ratio 96.3824% (last update 98.0000%), offboard ratio  0.0000% (last update  0.0000%).\n",
      "# NcmFitESMCMC:last ensemble variance of -2ln(L):       3.10471701470923 (2n = 4), min(-2ln(L)) =        9707.1472155041.\n",
      "# Task:NcmFitESMCMC, completed: 6900 of 10000, elapsed time: 00:12:24.6499\n",
      "# Task:NcmFitESMCMC, mean time: 00:00:00.1079 +/- 00:00:00.0129\n",
      "# Task:NcmFitESMCMC, time left: 00:05:34.5521 +/- 00:00:40.1286\n",
      "# Task:NcmFitESMCMC, current time:        Thu Dec 17 2020, 16:07:08\n",
      "# Task:NcmFitESMCMC, estimated to end at: Thu Dec 17 2020, 16:12:43 +/- 00:00:40.1286\n",
      "# NcmMSetCatalog: Current mean:   9709.2       3.9887       15.021     \n",
      "# NcmMSetCatalog: Current msd:    0.032603     0.002277     0.00025837 \n",
      "# NcmMSetCatalog: Current sd:     2.8235       0.19719      0.022376   \n",
      "# NcmMSetCatalog: Current var:    7.9722       0.038884     0.00050067 \n",
      "# NcmMSetCatalog: Current tau:    1            1            1          \n",
      "# NcmMSetCatalog: Current skfac:  1.0021       1.0029       1.0029     \n",
      "# NcmMSetCatalog: Maximal Shrink factor = 1.00317               \n",
      "#----------------------------------------------------------------------------------\n",
      "# NcmMSetCatalog: Computing the constant break point for parameter `0', sample size `75':\n",
      "# NcmMSetCatalog: Constant break point at `2':\n",
      "# NcmFitESMCMC:acceptance ratio 96.5405% (last update 97.0000%), offboard ratio  0.0000% (last update  0.0000%).\n",
      "# NcmFitESMCMC:last ensemble variance of -2ln(L):       2.39862142357822 (2n = 4), min(-2ln(L)) =        9707.1472155041.\n",
      "# Task:NcmFitESMCMC, completed: 7500 of 10000, elapsed time: 00:13:28.2106\n",
      "# Task:NcmFitESMCMC, mean time: 00:00:00.1078 +/- 00:00:00.0124\n",
      "# Task:NcmFitESMCMC, time left: 00:04:29.4030 +/- 00:00:30.9917\n",
      "# Task:NcmFitESMCMC, current time:        Thu Dec 17 2020, 16:08:12\n",
      "# Task:NcmFitESMCMC, estimated to end at: Thu Dec 17 2020, 16:12:41 +/- 00:00:30.9917\n",
      "# NcmMSetCatalog: Current mean:   9709.2       3.9888       15.021     \n",
      "# NcmMSetCatalog: Current msd:    0.032323     0.002265     0.00025685 \n",
      "# NcmMSetCatalog: Current sd:     2.8179       0.19746      0.022392   \n",
      "# NcmMSetCatalog: Current var:    7.9403       0.03899      0.00050139 \n",
      "# NcmMSetCatalog: Current tau:    1            1            1          \n",
      "# NcmMSetCatalog: Current skfac:  1.0019       1.003        1.0028     \n",
      "# NcmMSetCatalog: Maximal Shrink factor = 1.0032                \n",
      "#----------------------------------------------------------------------------------\n",
      "# NcmMSetCatalog: Computing the constant break point for parameter `0', sample size `76':\n",
      "# NcmMSetCatalog: Constant break point at `2':\n",
      "# NcmFitESMCMC:acceptance ratio 96.5333% (last update 96.0000%), offboard ratio  0.0000% (last update  0.0000%).\n",
      "# NcmFitESMCMC:last ensemble variance of -2ln(L):       5.61822850418147 (2n = 4), min(-2ln(L)) =        9707.1472155041.\n",
      "# Task:NcmFitESMCMC, completed: 7600 of 10000, elapsed time: 00:13:38.8068\n",
      "# Task:NcmFitESMCMC, mean time: 00:00:00.1077 +/- 00:00:00.0123\n",
      "# Task:NcmFitESMCMC, time left: 00:04:18.5700 +/- 00:00:29.5487\n",
      "# Task:NcmFitESMCMC, current time:        Thu Dec 17 2020, 16:08:23\n",
      "# Task:NcmFitESMCMC, estimated to end at: Thu Dec 17 2020, 16:12:41 +/- 00:00:29.5487\n",
      "# NcmMSetCatalog: Current mean:   9709.2       3.9884       15.021     \n",
      "# NcmMSetCatalog: Current msd:    0.030809     0.0021962    0.00024866 \n",
      "# NcmMSetCatalog: Current sd:     2.7898       0.19887      0.022517   \n",
      "# NcmMSetCatalog: Current var:    7.7831       0.039551     0.00050701 \n",
      "# NcmMSetCatalog: Current tau:    1            1            1          \n",
      "# NcmMSetCatalog: Current skfac:  1.0028       1.0028       1.0021     \n",
      "# NcmMSetCatalog: Maximal Shrink factor = 1.00279               \n",
      "#----------------------------------------------------------------------------------\n",
      "# NcmMSetCatalog: Computing the constant break point for parameter `0', sample size `82':\n",
      "# NcmMSetCatalog: Constant break point at `2':\n",
      "# NcmFitESMCMC:acceptance ratio 96.6173% (last update 97.0000%), offboard ratio  0.0000% (last update  0.0000%).\n",
      "# NcmFitESMCMC:last ensemble variance of -2ln(L):       6.34544311503484 (2n = 4), min(-2ln(L)) =        9707.1472155041.\n",
      "# Task:NcmFitESMCMC, completed: 8200 of 10000, elapsed time: 00:14:44.2160\n",
      "# Task:NcmFitESMCMC, mean time: 00:00:00.1078 +/- 00:00:00.0119\n",
      "# Task:NcmFitESMCMC, time left: 00:03:14.0958 +/- 00:00:21.3526\n",
      "# Task:NcmFitESMCMC, current time:        Thu Dec 17 2020, 16:09:28\n",
      "# Task:NcmFitESMCMC, estimated to end at: Thu Dec 17 2020, 16:12:42 +/- 00:00:21.3526\n",
      "# NcmMSetCatalog: Current mean:   9709.2       3.9887       15.021     \n",
      "# NcmMSetCatalog: Current msd:    0.029279     0.0021328    0.00024079 \n",
      "# NcmMSetCatalog: Current sd:     2.7466       0.20007      0.022588   \n",
      "# NcmMSetCatalog: Current var:    7.544        0.04003      0.00051021 \n",
      "# NcmMSetCatalog: Current tau:    1            1            1          \n",
      "# NcmMSetCatalog: Current skfac:  1.003        1.0029       1.0018     \n",
      "# NcmMSetCatalog: Maximal Shrink factor = 1.00289               \n",
      "#----------------------------------------------------------------------------------\n",
      "# NcmMSetCatalog: Computing the constant break point for parameter `0', sample size `88':\n",
      "# NcmMSetCatalog: Constant break point at `2':\n",
      "# NcmFitESMCMC:acceptance ratio 96.6207% (last update 95.0000%), offboard ratio  0.0000% (last update  0.0000%).\n",
      "# NcmFitESMCMC:last ensemble variance of -2ln(L):       4.23953968500518 (2n = 4), min(-2ln(L)) =        9707.1472155041.\n",
      "# Task:NcmFitESMCMC, completed: 8800 of 10000, elapsed time: 00:15:47.9631\n",
      "# Task:NcmFitESMCMC, mean time: 00:00:00.1077 +/- 00:00:00.0114\n",
      "# Task:NcmFitESMCMC, time left: 00:02:09.2674 +/- 00:00:13.7265\n",
      "# Task:NcmFitESMCMC, current time:        Thu Dec 17 2020, 16:10:32\n",
      "# Task:NcmFitESMCMC, estimated to end at: Thu Dec 17 2020, 16:12:41 +/- 00:00:13.7265\n",
      "# NcmMSetCatalog: Current mean:   9709.2       3.9894       15.021     \n",
      "# NcmMSetCatalog: Current msd:    0.027871     0.002069     0.00023259 \n",
      "# NcmMSetCatalog: Current sd:     2.7022       0.2006       0.022551   \n",
      "# NcmMSetCatalog: Current var:    7.3019       0.04024      0.00050853 \n",
      "# NcmMSetCatalog: Current tau:    1            1            1          \n",
      "# NcmMSetCatalog: Current skfac:  1.0026       1.0035       1.0021     \n",
      "# NcmMSetCatalog: Maximal Shrink factor = 1.00346               \n",
      "#----------------------------------------------------------------------------------\n",
      "# NcmMSetCatalog: Computing the constant break point for parameter `0', sample size `94':\n",
      "# NcmMSetCatalog: Constant break point at `2':\n",
      "# NcmFitESMCMC:acceptance ratio 96.6129% (last update 94.0000%), offboard ratio  0.0000% (last update  0.0000%).\n",
      "# NcmFitESMCMC:last ensemble variance of -2ln(L):        3.3024853685194 (2n = 4), min(-2ln(L)) =        9707.1472155041.\n",
      "# Task:NcmFitESMCMC, completed: 9400 of 10000, elapsed time: 00:16:54.0354\n",
      "# Task:NcmFitESMCMC, mean time: 00:00:00.1079 +/- 00:00:00.0111\n",
      "# Task:NcmFitESMCMC, time left: 00:01:04.7256 +/- 00:00:06.6500\n",
      "# Task:NcmFitESMCMC, current time:        Thu Dec 17 2020, 16:11:38\n",
      "# Task:NcmFitESMCMC, estimated to end at: Thu Dec 17 2020, 16:12:43 +/- 00:00:06.6500\n",
      "# NcmMSetCatalog: Current mean:   9709.2       3.9893       15.021     \n",
      "# NcmMSetCatalog: Current msd:    0.027694     0.0020601    0.00023152 \n",
      "# NcmMSetCatalog: Current sd:     2.6993       0.2008       0.022566   \n",
      "# NcmMSetCatalog: Current var:    7.2862       0.04032      0.00050922 \n",
      "# NcmMSetCatalog: Current tau:    1            1            1          \n",
      "# NcmMSetCatalog: Current skfac:  1.0026       1.0036       1.0022     \n",
      "# NcmMSetCatalog: Maximal Shrink factor = 1.00358               \n",
      "#----------------------------------------------------------------------------------\n",
      "# NcmMSetCatalog: Computing the constant break point for parameter `0', sample size `95':\n",
      "# NcmMSetCatalog: Constant break point at `2':\n",
      "# NcmFitESMCMC:acceptance ratio 96.6170% (last update 97.0000%), offboard ratio  0.0000% (last update  0.0000%).\n",
      "# NcmFitESMCMC:last ensemble variance of -2ln(L):       5.89578846443528 (2n = 4), min(-2ln(L)) =        9707.1472155041.\n",
      "# Task:NcmFitESMCMC, completed: 9500 of 10000, elapsed time: 00:17:05.0195\n",
      "# Task:NcmFitESMCMC, mean time: 00:00:00.1079 +/- 00:00:00.0110\n",
      "# Task:NcmFitESMCMC, time left: 00:00:53.9483 +/- 00:00:05.5135\n",
      "# Task:NcmFitESMCMC, current time:        Thu Dec 17 2020, 16:11:49\n",
      "# Task:NcmFitESMCMC, estimated to end at: Thu Dec 17 2020, 16:12:43 +/- 00:00:05.5135\n"
     ]
    },
    {
     "name": "stdout",
     "output_type": "stream",
     "text": [
      "# NcmMSetCatalog: Current mean:   9709.2       3.9896       15.021     \n",
      "# NcmMSetCatalog: Current msd:    0.026784     0.0020161    0.00022564 \n",
      "# NcmMSetCatalog: Current sd:     2.6784       0.20161      0.022564   \n",
      "# NcmMSetCatalog: Current var:    7.1737       0.040647     0.00050913 \n",
      "# NcmMSetCatalog: Current tau:    1            1            1          \n",
      "# NcmMSetCatalog: Current skfac:  1.003        1.0039       1.0026     \n",
      "# NcmMSetCatalog: Maximal Shrink factor = 1.00394               \n",
      "#----------------------------------------------------------------------------------\n",
      "# NcmMSetCatalog: Computing the constant break point for parameter `0', sample size `100':\n",
      "# NcmMSetCatalog: Constant break point at `2':\n",
      "# NcmFitESMCMC:acceptance ratio 96.5960% (last update 95.0000%), offboard ratio  0.0000% (last update  0.0000%).\n",
      "# NcmFitESMCMC:last ensemble variance of -2ln(L):       4.02605851508538 (2n = 4), min(-2ln(L)) =        9707.1472155041.\n",
      "# Task:NcmFitESMCMC, completed: 10000 of 10000, elapsed time: 00:17:58.3337\n",
      "# Task:NcmFitESMCMC, mean time: 00:00:00.1078 +/- 00:00:00.0107\n",
      "# Task:NcmFitESMCMC, time left: 00:00:00.0000 +/- 00:00:00.0000\n",
      "# Task:NcmFitESMCMC, current time:        Thu Dec 17 2020, 16:12:42\n",
      "# Task:NcmFitESMCMC, estimated to end at: Thu Dec 17 2020, 16:12:42 +/- 00:00:00.0000\n",
      "#----------------------------------------------------------------------------------\n",
      "# NcmMSetCatalog: Calculating catalog effective sample size from chain 100 => 0 using 100 blocks:\n",
      "# NcmMSetCatalog: - best cutoff time:         0   \n",
      "# NcmMSetCatalog: - total number of points:   100  (10000)\n",
      "# NcmMSetCatalog: - number of points left:    100  (10000)\n",
      "# NcmMSetCatalog: - worst parameter:          NcmFit:m2lnL[00]\n",
      "# NcmMSetCatalog: - worst parameter ess:      61.44\n",
      "# NcmMSetCatalog: - worst parameter ar order: 0   \n",
      "# NcmMSetCatalog: - ess's:                    61.44 100.00 100.00\n",
      "#----------------------------------------------------------------------------------\n",
      "# NcmFitESMCMC: Largest relative error 1.000000e-03 attained: 5.053414e-04\n",
      "# NcmMSetCatalog: Current mean:   9709.2       3.9896       15.021     \n",
      "# NcmMSetCatalog: Current msd:    0.03417      0.0020161    0.00022564 \n",
      "# NcmMSetCatalog: Current sd:     2.6784       0.20161      0.022564   \n",
      "# NcmMSetCatalog: Current var:    7.1737       0.040647     0.00050913 \n",
      "# NcmMSetCatalog: Current tau:    1.6276       1            1          \n"
     ]
    }
   ],
   "source": [
    "Ncm.func_eval_set_max_threads (0)\n",
    "Ncm.func_eval_log_pool_stats ()\n",
    "\n",
    "init_sampler = Ncm.MSetTransKernGauss.new (0)\n",
    "init_sampler.set_mset (mset3)\n",
    "init_sampler.set_prior_from_mset ()\n",
    "init_sampler.set_cov_from_rescale (1.0e-1)\n",
    "\n",
    "nwalkers = 100\n",
    "stretch = Ncm.FitESMCMCWalkerAPS.new (nwalkers, mset3.fparams_len ())\n",
    "\n",
    "esmcmc  = Ncm.FitESMCMC.new (fit3, nwalkers, init_sampler, stretch, Ncm.FitRunMsgs.SIMPLE)\n",
    "esmcmc.set_data_file (\"example2_fit3_esmcmc_out_aps.fits\")\n",
    "esmcmc.set_auto_trim (True)\n",
    "esmcmc.set_auto_trim_div (100)\n",
    "esmcmc.set_max_runs_time (2.0 * 60.0)\n",
    "\n",
    "esmcmc.start_run ()\n",
    "esmcmc.run_lre (20, 1.0e-3)\n",
    "esmcmc.end_run ()\n"
   ]
  },
  {
   "cell_type": "markdown",
   "metadata": {},
   "source": [
    "### Below we plot both MCMC results\n",
    "\n",
    "The wrong analysis has a strong bias in $\\log_{10}(M_\\Delta)$ (the peak of the wrong model is more than $3\\sigma$ away from the correct model best-fit) and much larger variance."
   ]
  },
  {
   "cell_type": "code",
   "execution_count": 26,
   "metadata": {},
   "outputs": [
    {
     "data": {
      "image/png": "[encoded data removed]",
      "text/plain": [
       "<Figure size 864x432 with 4 Axes>"
      ]
     },
     "metadata": {
      "needs_background": "light"
     },
     "output_type": "display_data"
    }
   ],
   "source": [
    "\n",
    "s1d1 = chi2.cdf (1.0, df = 1)\n",
    "s1d2 = chi2.cdf (4.0, df = 1)\n",
    "s2d1 = chi2.cdf (1.0, df = 2)\n",
    "s2d2 = chi2.cdf (4.0, df = 2)\n",
    "s2d3 = chi2.cdf (9.0, df = 2)\n",
    "qts = [0.5 - s1d2 / 2.0, 0.5 - s1d1 / 2.0, 0.5, 0.5 + s1d1 / 2.0, 0.5 + s1d2 / 2.0]\n",
    "\n",
    "mcat = esmcmc.peek_catalog ()\n",
    "rows = np.array ([mcat.peek_row (i).dup_array () for i in range (nwalkers * 10, mcat.len ())])\n",
    "params = [\"$\" + mcat.col_symb (i) + \"$\" for i in range (mcat.ncols ())]\n",
    "figure = corner.corner (rows[:,1:], labels = params[1:], reverse = False,\n",
    "                        quantiles=qts, levels = (s2d1, s2d2, s2d3), \n",
    "                        bins = 40, smooth = 0.8, smooth1d = 0.8, color = (0.5, 0.2, 0.5, 1.0))\n",
    "\n",
    "rows = np.array ([mcat_wrong.peek_row (i).dup_array () for i in range (nwalkers * 10, mcat_wrong.len ())])\n",
    "params = [\"$\" + mcat_wrong.col_symb (i) + \"$\" for i in range (mcat_wrong.ncols ())]\n",
    "figure = corner.corner (rows[:,1:], labels = params[1:], reverse = False,\n",
    "                        levels = (s2d1, s2d2, s2d3), color = (0.1, 0.2, 0.5, 0.5),\n",
    "                        bins = 40, smooth = 0.8, smooth1d = 0.8, fig = figure)\n",
    "\n",
    "\n",
    "figure.set_size_inches(12, 6)"
   ]
  },
  {
   "cell_type": "code",
   "execution_count": 27,
   "metadata": {},
   "outputs": [],
   "source": [
    "ser = Ncm.Serialize.new (0)\n",
    "data = fit3.lh.dset.get_data (0)\n",
    "ser.to_file (data, \"example2_fit3_data.obj\")"
   ]
  },
  {
   "cell_type": "code",
   "execution_count": null,
   "metadata": {},
   "outputs": [],
   "source": []
  }
 ],
 "metadata": {
  "kernelspec": {
   "display_name": "Python 3",
   "language": "python",
   "name": "python3"
  },
  "language_info": {
   "codemirror_mode": {
    "name": "ipython",
    "version": 3
   },
   "file_extension": ".py",
   "mimetype": "text/x-python",
   "name": "python",
   "nbconvert_exporter": "python",
   "pygments_lexer": "ipython3",
   "version": "3.9.1"
  }
 },
 "nbformat": 4,
 "nbformat_minor": 4
}
